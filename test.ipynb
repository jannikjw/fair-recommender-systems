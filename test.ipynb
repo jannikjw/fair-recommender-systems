{
 "cells": [
  {
   "cell_type": "code",
   "execution_count": 1,
   "metadata": {},
   "outputs": [],
   "source": [
    "import math"
   ]
  },
  {
   "cell_type": "code",
   "execution_count": 2,
   "metadata": {},
   "outputs": [],
   "source": [
    "def self_information(item, n_users):\n",
    "    return (-1) * math.log((item.n_users*1.0) / n_users)    \n",
    "\n",
    "\"\"\"\n",
    "Metric to capture the global popularity-based measurements. Computing the novelty of a slate that is presented to a user.\n",
    "\"\"\"\n",
    "def novelty(slate, user):\n",
    "    sum(list(map(slate, self_information)))\n",
    "    return"
   ]
  },
  {
   "cell_type": "code",
   "execution_count": 16,
   "metadata": {},
   "outputs": [],
   "source": [
    "slate = [10, 20, 50]\n",
    "\n",
    "def foo2(num, x):\n",
    "    return num/x\n",
    "\n",
    "def foo(slate, x):\n",
    "    return sum([foo2(item, x) for item in slate])\n",
    "    # return sum(list(map(foo2, slate)))"
   ]
  },
  {
   "cell_type": "code",
   "execution_count": 17,
   "metadata": {},
   "outputs": [
    {
     "data": {
      "text/plain": [
       "40"
      ]
     },
     "execution_count": 17,
     "metadata": {},
     "output_type": "execute_result"
    }
   ],
   "source": [
    "5+10+25"
   ]
  },
  {
   "cell_type": "code",
   "execution_count": 18,
   "metadata": {},
   "outputs": [
    {
     "data": {
      "text/plain": [
       "40.0"
      ]
     },
     "execution_count": 18,
     "metadata": {},
     "output_type": "execute_result"
    }
   ],
   "source": [
    "foo(slate, 2)"
   ]
  },
  {
   "cell_type": "code",
   "execution_count": null,
   "metadata": {},
   "outputs": [],
   "source": [
    "[]"
   ]
  }
 ],
 "metadata": {
  "interpreter": {
   "hash": "2a8a3b55b37e9e3f1895fba73fea38cdf76aba6d1c0e518c818abf5f38d6b56e"
  },
  "kernelspec": {
   "display_name": "Python 3.8.15 ('test-env')",
   "language": "python",
   "name": "python3"
  },
  "language_info": {
   "codemirror_mode": {
    "name": "ipython",
    "version": 3
   },
   "file_extension": ".py",
   "mimetype": "text/x-python",
   "name": "python",
   "nbconvert_exporter": "python",
   "pygments_lexer": "ipython3",
   "version": "3.8.15"
  },
  "orig_nbformat": 4
 },
 "nbformat": 4,
 "nbformat_minor": 2
}
