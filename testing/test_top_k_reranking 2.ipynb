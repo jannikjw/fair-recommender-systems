{
 "cells": [
  {
   "cell_type": "markdown",
   "metadata": {},
   "source": [
    "# Setup"
   ]
  },
  {
   "cell_type": "code",
   "execution_count": 1,
   "metadata": {},
   "outputs": [],
   "source": [
    "# import pandas as pd\n",
    "# import matplotlib.pyplot as plt\n",
    "# from matplotlib import style\n",
    "# import numpy as np\n",
    "# import pickle\n",
    "# import os\n",
    "# from sklearn.decomposition import NMF, PCA\n",
    "# from sklearn.cluster import KMeans\n",
    "# from importlib import reload\n",
    "# import seaborn as sns\n",
    "\n",
    "# import sys\n",
    "# sys.path.insert(1, '../../t-recs/')\n",
    "# from trecs.metrics import MSEMeasurement, InteractionSpread, InteractionSpread, InteractionSimilarity, RecSimilarity, RMSEMeasurement, InteractionMeasurement\n",
    "# from trecs.components import Users\n",
    "# import trecs.matrix_ops as mo\n",
    "\n",
    "# sys.path.insert(1, '../')\n",
    "# import src.globals as globals\n",
    "# from wrapper.models.bubble import BubbleBurster\n",
    "# from src.utils import get_clusters, create_embeddings, load_or_create_measurements_df, load_and_process_movielens, collect_parameters, load_measurements\n",
    "# from src.scoring_functions import top_k_reranking\n",
    "# from wrapper.metrics.evaluation_metrics import SerendipityMetric, DiversityMetric, NoveltyMetric, RecallMeasurement, UserMSEMeasurement\n",
    "# import src.globals as globals\n",
    "\n",
    "# random_state = np.random.seed(42)\n",
    "# plt.style.use(\"seaborn\")\n",
    "\n",
    "# # import warnings filter\n",
    "# from warnings import simplefilter\n",
    "# # ignore all future warnings\n",
    "# simplefilter(action='ignore', category=FutureWarning)\n",
    "\n",
    "# globals.initialize()\n",
    "\n",
    "# ratings_df = pd.read_csv('../data/ml-100k/u.data', \n",
    "#     sep=\"\\t\", \n",
    "#     names=['UserID', 'MovieID', 'Rating', 'Timestamp']\n",
    "# )\n",
    "\n",
    "# movie_cols = ['movie_id', 'title', 'release_date', 'video_release_date', 'IMDb_URL', 'unknown', 'Action', 'Adventure', 'Animation', 'Childrens', 'Comedy', 'Crime', 'Documentary', 'Drama', 'Fantasy', 'Film-Noir', 'Horror', 'Musical', 'Mystery', 'Romance', 'Sci-Fi', 'Thriller', 'War', 'Western']\n",
    "\n",
    "# movies_df = pd.read_csv('../data/ml-100k/u.item', sep=\"|\", names=movie_cols, encoding='latin')\n",
    "\n",
    "# # display(movies_df.head(2))\n",
    "# # print(movies_df.shape)"
   ]
  },
  {
   "cell_type": "code",
   "execution_count": 2,
   "metadata": {},
   "outputs": [],
   "source": [
    "# from sklearn.cluster import KMeans\n",
    "\n",
    "# def get_topic_clusters(binary_ratings_matrix, n_attrs:int=100, nmf_solver:str=\"mu\"):\n",
    "#     \"\"\"\n",
    "#     Creates clusters of movies based on their genre.\n",
    "#     Inputs:\n",
    "#         binary_ratings_matrix: a binary matrix of users and movies\n",
    "#         n_attrs: number of attributes to use in NMF\n",
    "#         nmf_solver: solver to use in NMF\n",
    "#     Outputs:\n",
    "#         clusters: a list of cluster assignments\n",
    "#     \"\"\"\n",
    "#     # Create topic clusters\n",
    "#     #create co-occurence matrix from binary_interaction_matrix\n",
    "#     co_occurence_matrix = binary_ratings_matrix.T @ binary_ratings_matrix\n",
    "#     co_occurence_matrix\n",
    "\n",
    "#     # Matrix factorize co_occurence_matrix to get embeddings\n",
    "#     nmf_cooc = NMF(n_components=n_attrs, solver=nmf_solver)\n",
    "#     W_topics = nmf_cooc.fit_transform(co_occurence_matrix)\n",
    "\n",
    "#     # cluster W_topics\n",
    "#     kmeans = KMeans(n_clusters=100, random_state=random_state).fit(W_topics)\n",
    "\n",
    "#     # assign nearest cluster to observation\n",
    "#     cluster_ids = kmeans.predict(W_topics)\n",
    "\n",
    "#     return cluster_ids"
   ]
  },
  {
   "cell_type": "code",
   "execution_count": 3,
   "metadata": {},
   "outputs": [],
   "source": [
    "# from sklearn.decomposition import NMF\n",
    "\n",
    "# binary_ratings_df = ratings_df.drop(columns=['Timestamp'])\n",
    "# binary_ratings_df.loc[binary_ratings_df['Rating'] > 0, 'Rating'] = 1\n",
    "\n",
    "# # turn dataframe into matrix where each movie is a column and each user is a row\n",
    "# binary_ratings_matrix = binary_ratings_df.pivot(index='UserID', columns='MovieID', values='Rating').fillna(0).to_numpy()\n",
    "\n",
    "# from lightfm.cross_validation import random_train_test_split\n",
    "# from scipy import sparse\n",
    "\n",
    "# # split data into train and test sets\n",
    "# train_interactions, test_interactions = random_train_test_split(sparse.csr_matrix(binary_ratings_matrix), test_percentage=0.2, random_state=random_state)\n",
    "# train_interactions = train_interactions.toarray()\n",
    "# test_interactions = test_interactions.toarray()\n",
    "\n",
    "# n_attrs=100\n",
    "# nmf = NMF(n_components=n_attrs, solver=\"mu\")\n",
    "# user_representation = nmf.fit_transform(binary_ratings_matrix)\n",
    "# item_representation = nmf.components_\n",
    "# print(user_representation.shape, item_representation.shape)\n",
    "\n",
    "# num_topics = None\n",
    "# item_topics = get_topic_clusters(binary_ratings_matrix, n_attrs=n_attrs, nmf_solver=\"mu\")\n",
    "# user_topic_history = None\n",
    "# item_count = None\n",
    "\n",
    "# users = Users(size=(943,100), repeat_interactions=False)"
   ]
  },
  {
   "cell_type": "markdown",
   "metadata": {},
   "source": [
    "<!-- # Trial & error for `top_k_reranking` score_fn function implementation -->"
   ]
  },
  {
   "cell_type": "code",
   "execution_count": 4,
   "metadata": {},
   "outputs": [],
   "source": [
    "# sys.path.insert(1, '../')\n",
    "\n",
    "# from wrapper.models.bubble import BubbleBurster"
   ]
  },
  {
   "cell_type": "code",
   "execution_count": 5,
   "metadata": {},
   "outputs": [],
   "source": [
    "# bubble = BubbleBurster(\n",
    "#     # num_users=number_of_users,\n",
    "#     # num_items=num_items,\n",
    "#     # num_attributes=number_of_attributes,\n",
    "#     item_topics=item_topics,\n",
    "#     user_representation=user_representation,\n",
    "#     item_representation=item_representation,\n",
    "#     actual_user_representation=users,\n",
    "#     record_base_state=True,\n",
    "#     # score_fn=next_k_myopic_scoring\n",
    "# )"
   ]
  },
  {
   "cell_type": "code",
   "execution_count": 6,
   "metadata": {},
   "outputs": [],
   "source": [
    "# from wrapper.metrics import UserMSEMeasurement\n",
    "\n",
    "# bubble.add_metrics(MSEMeasurement())\n",
    "# print(\"These are the current metrics:\")\n",
    "# print(bubble.metrics)"
   ]
  },
  {
   "cell_type": "code",
   "execution_count": 7,
   "metadata": {},
   "outputs": [],
   "source": [
    "# import trecs.matrix_ops as mo\n",
    "# from numpy.random import RandomState\n",
    "\n",
    "# rs = RandomState(42)"
   ]
  },
  {
   "cell_type": "code",
   "execution_count": 8,
   "metadata": {},
   "outputs": [],
   "source": [
    "# k = bubble.num_items_per_iter\n",
    "\n",
    "# pred_scores = mo.inner_product(bubble.predicted_user_profiles, bubble.predicted_item_attributes)\n",
    "\n",
    "# top_k_idxs = mo.top_k_indices(matrix=pred_scores, k=k, random_state=rs)\n",
    "# top_k_idxs"
   ]
  },
  {
   "cell_type": "code",
   "execution_count": 9,
   "metadata": {},
   "outputs": [],
   "source": [
    "# for i in range(bubble.num_users):\n",
    "#     bool = np.array_equal(np.sort(pred_scores[i, top_k_idxs[i,:]])[-1::-1], pred_scores[i, top_k_idxs[i,:]])\n",
    "#     assert(bool)"
   ]
  },
  {
   "cell_type": "code",
   "execution_count": 10,
   "metadata": {},
   "outputs": [],
   "source": [
    "# top_k_re_ranked_idxs = top_k_idxs[:,-1::-1]\n",
    "# top_k_re_ranked_scores = np.take_along_axis(pred_scores, top_k_idxs, axis=1)\n",
    "\n",
    "# # print(np.sort(top_k_re_ranked_scores)[0])\n",
    "# print(pred_scores[0, top_k_idxs[0]])\n",
    "\n",
    "# top_k_re_ranked_scores = top_k_re_ranked_scores[:, -1::-1]\n",
    "\n",
    "# assert(np.array_equal(top_k_re_ranked_scores[i,:], pred_scores[i, top_k_idxs[i,:]][-1::-1]))\n",
    "\n",
    "# re_ranked_scores = np.copy(pred_scores)\n",
    "# np.put_along_axis(re_ranked_scores, top_k_idxs, top_k_re_ranked_scores, axis=1)\n",
    "# print(re_ranked_scores[0, top_k_idxs[0]])#.shape\n",
    "\n",
    "# for i in range(bubble.num_users):\n",
    "#     # Checking that re_ranked_scores is equal to top_k_re_ranked_scores for each user\n",
    "#     assert(np.array_equal(re_ranked_scores[i, top_k_idxs[i,:]], top_k_re_ranked_scores[i,:]))\n",
    "#     # Checking that re_ranked_scores[top_k_idxs] is equal to the reverse of pred_scores[top_k_idxs]\n",
    "#     assert(np.array_equal(re_ranked_scores[i, top_k_idxs[i,:]], pred_scores[i,top_k_idxs[i,:]][-1::-1]))"
   ]
  },
  {
   "cell_type": "code",
   "execution_count": 11,
   "metadata": {},
   "outputs": [],
   "source": [
    "# k = bubble.num_items_per_iter\n",
    "\n",
    "# pred_scores = mo.inner_product(bubble.predicted_user_profiles, bubble.predicted_item_attributes)\n",
    "# top_k_idxs = mo.top_k_indices(matrix=pred_scores, k=k, random_state=rs)\n",
    "\n",
    "# top_k_re_ranked_idxs = top_k_idxs[:,-1::-1]\n",
    "# top_k_re_ranked_scores = np.take_along_axis(pred_scores, top_k_idxs, axis=1)\n",
    "# top_k_re_ranked_scores = top_k_re_ranked_scores[:, -1::-1]\n",
    "\n",
    "# re_ranked_scores = np.copy(pred_scores)\n",
    "# np.put_along_axis(re_ranked_scores, top_k_idxs, top_k_re_ranked_scores, axis=1)"
   ]
  },
  {
   "cell_type": "code",
   "execution_count": 12,
   "metadata": {},
   "outputs": [],
   "source": [
    "# for i in range(bubble.num_users):\n",
    "#     # Checking that re_ranked_scores is equal to top_k_re_ranked_scores for each user\n",
    "#     assert(np.array_equal(re_ranked_scores[i, top_k_idxs[i,:]], top_k_re_ranked_scores[i,:]))\n",
    "#     # Checking that re_ranked_scores[top_k_idxs] is equal to the reverse of pred_scores[top_k_idxs]\n",
    "#     assert(np.array_equal(re_ranked_scores[i, top_k_idxs[i,:]], pred_scores[i,top_k_idxs[i,:]][-1::-1]))"
   ]
  },
  {
   "cell_type": "code",
   "execution_count": 13,
   "metadata": {},
   "outputs": [],
   "source": [
    "# print(re_ranked_scores[:, top_k_idxs][0, 0])#.shape)\n",
    "# print(re_ranked_scores[:, top_k_idxs][0])#.shape)"
   ]
  },
  {
   "cell_type": "code",
   "execution_count": 14,
   "metadata": {},
   "outputs": [],
   "source": [
    "# pred_scores[:, top_k_idxs][0][:,-1::-1]"
   ]
  },
  {
   "cell_type": "markdown",
   "metadata": {},
   "source": [
    "<!-- # Testing implementation of `top_k_reranking` score_fn function -->"
   ]
  },
  {
   "cell_type": "code",
   "execution_count": 15,
   "metadata": {},
   "outputs": [],
   "source": [
    "# from src.scoring_functions import top_k_reranking\n",
    "\n",
    "# bubble = BubbleBurster(\n",
    "#     # num_users=number_of_users,\n",
    "#     # num_items=num_items,\n",
    "#     # num_attributes=number_of_attributes,\n",
    "#     item_topics=item_topics,\n",
    "#     user_representation=user_representation,\n",
    "#     item_representation=item_representation,\n",
    "#     actual_user_representation=users,\n",
    "#     record_base_state=True,\n",
    "#     score_fn=top_k_reranking\n",
    "# )"
   ]
  },
  {
   "cell_type": "code",
   "execution_count": 16,
   "metadata": {},
   "outputs": [],
   "source": [
    "# from wrapper.metrics import UserMSEMeasurement\n",
    "\n",
    "# bubble.add_metrics(MSEMeasurement())\n",
    "# print(\"These are the current metrics:\")\n",
    "# print(bubble.metrics)"
   ]
  },
  {
   "cell_type": "code",
   "execution_count": 17,
   "metadata": {},
   "outputs": [],
   "source": [
    "# # np.array_equal(bubble.predicted_user_item_scores, bubble.predicted_scores.value)\n",
    "# bubble.predicted_user_item_scores"
   ]
  },
  {
   "cell_type": "code",
   "execution_count": 18,
   "metadata": {},
   "outputs": [],
   "source": [
    "# import trecs.matrix_ops as mo\n",
    "# from numpy.random import RandomState\n",
    "\n",
    "# rs = RandomState(42)\n",
    "\n",
    "# k = bubble.num_items_per_iter\n",
    "\n",
    "# pred_scores = mo.inner_product(bubble.predicted_user_profiles, bubble.predicted_item_attributes)\n",
    "\n",
    "# top_k_idxs = mo.top_k_indices(matrix=pred_scores, k=k, random_state=rs)\n",
    "\n",
    "# for i in range(bubble.num_users):\n",
    "#     not_equal_idxs = np.where(np.equal(bubble.predicted_user_item_scores[i], pred_scores[i]) == False)\n",
    "#     assert(np.array_equal(np.unique(top_k_idxs[i]), np.unique(not_equal_idxs)))\n",
    "#     assert(np.array_equal(bubble.predicted_user_item_scores[i, top_k_idxs][i], pred_scores[i, top_k_idxs][i][-1::-1]))\n",
    "#     # break\n"
   ]
  },
  {
   "cell_type": "code",
   "execution_count": 19,
   "metadata": {},
   "outputs": [],
   "source": [
    "# # now we run the model\n",
    "# bubble.run(timesteps=1)\n",
    "# measurements = bubble.get_measurements()"
   ]
  },
  {
   "cell_type": "code",
   "execution_count": 20,
   "metadata": {},
   "outputs": [],
   "source": [
    "# import trecs.matrix_ops as mo\n",
    "# from numpy.random import RandomState\n",
    "\n",
    "# rs = RandomState(42)\n",
    "\n",
    "# k = bubble.num_items_per_iter\n",
    "\n",
    "# pred_scores = mo.inner_product(bubble.predicted_user_profiles, bubble.predicted_item_attributes)\n",
    "\n",
    "# top_k_idxs = mo.top_k_indices(matrix=pred_scores, k=k, random_state=rs)\n",
    "\n",
    "# for i in range(bubble.num_users):\n",
    "#     not_equal_idxs = np.where(np.equal(bubble.predicted_user_item_scores[i], pred_scores[i]) == False)\n",
    "#     assert(np.array_equal(np.unique(top_k_idxs[i]), np.unique(not_equal_idxs)))\n",
    "#     assert(np.array_equal(bubble.predicted_user_item_scores[i, top_k_idxs][i], pred_scores[i, top_k_idxs][i][-1::-1]))\n",
    "#     # break"
   ]
  },
  {
   "cell_type": "code",
   "execution_count": 21,
   "metadata": {},
   "outputs": [],
   "source": [
    "# print(bubble.predicted_user_item_scores[i, top_k_idxs][i])"
   ]
  },
  {
   "cell_type": "code",
   "execution_count": 22,
   "metadata": {},
   "outputs": [],
   "source": [
    "# pred_scores[i, top_k_idxs][i]"
   ]
  },
  {
   "cell_type": "code",
   "execution_count": 23,
   "metadata": {},
   "outputs": [],
   "source": [
    "# bubble.predicted_user_item_scores[i, top_k_idxs][i]"
   ]
  },
  {
   "cell_type": "markdown",
   "metadata": {},
   "source": [
    "# Running the simulation"
   ]
  },
  {
   "cell_type": "code",
   "execution_count": 24,
   "metadata": {},
   "outputs": [],
   "source": [
    "# def create_embeddings(binary_matrix, n_attrs:int=100, max_iter:int=100):\n",
    "#     \"\"\"\n",
    "#     Creates embeddings for users and items based on their interactions.\n",
    "#     Inputs:\n",
    "#         binary_matrix: a binary matrix of users and movies\n",
    "#         n_attrs: number of attributes to use in NMF\n",
    "#         max_iter: number of iteration for NMF\n",
    "#     Outputs:\n",
    "#         user_representation: a matrix of user embeddings\n",
    "#         item_representation: a matrix of item embeddings\n",
    "#     \"\"\"\n",
    "#     print('Calculating embeddings...')\n",
    "#     nmf = NMF(n_components=n_attrs, init='random', random_state=random_state, max_iter=max_iter)\n",
    "#     user_representation = nmf.fit_transform(binary_matrix)\n",
    "#     item_representation = nmf.components_\n",
    "#     print('Calculated embeddings.')\n",
    "#     return user_representation, item_representation\n",
    "\n",
    "# def get_topic_clusters(cooccurence_matrix, n_clusters:int=100, n_attrs:int=100, max_iter:int=100):\n",
    "#     \"\"\"\n",
    "#     Creates clusters of movies based on their genre.\n",
    "#     Inputs:\n",
    "#         binary_ratings_matrix: a binary matrix of users and movies\n",
    "#         n_attrs: number of attributes to use in NMF\n",
    "#         nmf_solver: solver to use in NMF\n",
    "#     Outputs:\n",
    "#         clusters: a list of cluster assignments\n",
    "#     \"\"\"\n",
    "#     # Create topic clusters\n",
    "#     #create co-occurence matrix from binary_interaction_matrix\n",
    "\n",
    "#     print('Calculating clusters...')\n",
    "#     # Matrix factorize co_occurence_matrix to get embeddings\n",
    "#     nmf_cooc = NMF(n_components=n_attrs, max_iter=max_iter)\n",
    "#     W_topics = nmf_cooc.fit_transform(cooccurence_matrix)\n",
    "\n",
    "#     # cluster W_topics\n",
    "#     cluster_ids = KMeans(n_clusters=n_clusters, max_iter=max_iter, random_state=random_state).fit_predict(W_topics)\n",
    "\n",
    "#     print('Calculated clusters.')\n",
    "\n",
    "#     return cluster_ids\n"
   ]
  },
  {
   "cell_type": "code",
   "execution_count": 25,
   "metadata": {},
   "outputs": [
    {
     "name": "stderr",
     "output_type": "stream",
     "text": [
      "/var/folders/sm/hcy50x855gvf2b1qwkjstnvh0000gn/T/ipykernel_42747/2185722975.py:27: MatplotlibDeprecationWarning: The seaborn styles shipped by Matplotlib are deprecated since 3.6, as they no longer correspond to the styles shipped by seaborn. However, they will remain available as 'seaborn-v0_8-<style>'. Alternatively, directly use the seaborn API instead.\n",
      "  plt.style.use(\"seaborn\")\n"
     ]
    }
   ],
   "source": [
    "import pandas as pd\n",
    "import matplotlib.pyplot as plt\n",
    "from matplotlib import style\n",
    "import numpy as np\n",
    "import pickle\n",
    "import os\n",
    "from sklearn.decomposition import NMF, PCA\n",
    "from sklearn.cluster import KMeans\n",
    "from importlib import reload\n",
    "\n",
    "import sys\n",
    "sys.path.insert(1, '../t-recs/')\n",
    "from trecs.metrics import Measurement\n",
    "from trecs.metrics import MSEMeasurement, InteractionSpread, InteractionSpread, InteractionSimilarity, RecSimilarity, RMSEMeasurement, InteractionMeasurement\n",
    "from trecs.components import Users\n",
    "import trecs.matrix_ops as mo\n",
    "import src.globals as globals\n",
    "import seaborn as sns\n",
    "\n",
    "from wrapper.models.bubble import BubbleBurster\n",
    "from src.utils import *\n",
    "from src.plotting import plot_measurements \n",
    "from src.scoring_functions import cosine_sim, entropy, content_fairness, top_k_reranking\n",
    "from wrapper.metrics.evaluation_metrics import *\n",
    "\n",
    "random_state = np.random.seed(42)\n",
    "plt.style.use(\"seaborn\")\n",
    "\n",
    "# import warnings filter\n",
    "from warnings import simplefilter\n",
    "# ignore all future warnings\n",
    "simplefilter(action='ignore', category=FutureWarning)\n",
    "\n",
    "globals.initialize()"
   ]
  },
  {
   "cell_type": "code",
   "execution_count": 26,
   "metadata": {},
   "outputs": [
    {
     "name": "stdout",
     "output_type": "stream",
     "text": [
      "Loaded embeddings.\n",
      "Loaded clusters.\n",
      "Loaded clusters.\n"
     ]
    },
    {
     "name": "stderr",
     "output_type": "stream",
     "text": [
      "/Users/madisonthantu/miniforge3/envs/fairRS/lib/python3.8/site-packages/sklearn/base.py:329: UserWarning: Trying to unpickle estimator KMeans from version 1.0.2 when using version 1.1.3. This might lead to breaking code or invalid results. Use at your own risk. For more info please refer to:\n",
      "https://scikit-learn.org/stable/model_persistence.html#security-maintainability-limitations\n",
      "  warnings.warn(\n",
      "/Users/madisonthantu/miniforge3/envs/fairRS/lib/python3.8/site-packages/sklearn/base.py:329: UserWarning: Trying to unpickle estimator KMeans from version 1.0.2 when using version 1.1.3. This might lead to breaking code or invalid results. Use at your own risk. For more info please refer to:\n",
      "https://scikit-learn.org/stable/model_persistence.html#security-maintainability-limitations\n",
      "  warnings.warn(\n"
     ]
    }
   ],
   "source": [
    "n_attrs=20\n",
    "max_iter=1000\n",
    "n_clusters=25\n",
    "\n",
    "score_fn = 'top_k_reranking' #'entropy' #'content_fairness' \n",
    "probabilistic = False\n",
    "globals.ALPHA = 0.1 #0.01 # 0.1 \n",
    "alpha = globals.ALPHA\n",
    "\n",
    "# User parameters\n",
    "drift = 0.05\n",
    "attention_exp=-0.8\n",
    "\n",
    "binary_ratings_matrix = load_and_process_movielens(file_path='data/ml-100k/u.data')\n",
    "\n",
    "# Get user and item representations using NMF\n",
    "user_representation, item_representation = create_embeddings(binary_ratings_matrix, n_attrs=n_attrs, max_iter=max_iter)\n",
    "\n",
    "# Define topic clusters using NMF\n",
    "item_cluster_ids, item_cluster_centers = get_clusters(item_representation.T, name='item', n_clusters=n_clusters, n_attrs=n_attrs, max_iter=max_iter)\n",
    "user_cluster_ids, user_cluster_centers = get_clusters(user_representation, name='user', n_clusters=n_clusters, n_attrs=n_attrs, max_iter=max_iter)"
   ]
  },
  {
   "cell_type": "code",
   "execution_count": 27,
   "metadata": {},
   "outputs": [
    {
     "name": "stdout",
     "output_type": "stream",
     "text": [
      "Number of items: 1682\n",
      "Number of users: 943\n"
     ]
    }
   ],
   "source": [
    "num_users = user_representation.shape[0] #len(user_representation)\n",
    "num_items = item_representation.shape[1]#len(item_representation)\n",
    "print(f'Number of items: {num_items}')\n",
    "print(f'Number of users: {num_users}')\n",
    "\n",
    "users = Users(actual_user_profiles=user_representation, \n",
    "              repeat_interactions=False, \n",
    "              drift=drift,\n",
    "              attention_exp=attention_exp)\n",
    "\n",
    "# Create user_pairs by pairing users only with others that are not in the same cluster\n",
    "user_item_cluster_mapping = user_topic_mapping(user_representation, item_cluster_centers) # TODO: Remove?\n",
    "experiment_name = 'test_top_k_re_ranking'\n",
    "# Create user_pairs by pairing users only with others that are not in the same cluster\n",
    "inter_cluster_user_pairs, intra_cluster_user_pairs = create_cluster_user_pairs(user_item_cluster_mapping)\n",
    "\n",
    "mse = MSEMeasurement()\n",
    "measurements = [\n",
    "    InteractionMeasurement(),\n",
    "    MSEMeasurement(),  \n",
    "    InteractionSpread(),                \n",
    "    InteractionSimilarity(pairs=inter_cluster_user_pairs, name='inter_cluster_interaction_similarity'), \n",
    "    InteractionSimilarity(pairs=intra_cluster_user_pairs, name='intra_cluster_interaction_similarity'), \n",
    "    RecSimilarity(pairs=inter_cluster_user_pairs, name='inter_cluster_rec_similarity'), \n",
    "    RecSimilarity(pairs=intra_cluster_user_pairs, name='intra_cluster_rec_similarity'), \n",
    "    UserMSEMeasurement(),\n",
    "    SerendipityMetric(), \n",
    "    DiversityMetric(), \n",
    "    NoveltyMetric(),\n",
    "    RecallMeasurement(),\n",
    "    MeanNumberOfTopics(),\n",
    "]"
   ]
  },
  {
   "cell_type": "code",
   "execution_count": 28,
   "metadata": {},
   "outputs": [],
   "source": [
    "# Model\n",
    "config = {\n",
    "    'actual_user_representation': users,\n",
    "    'actual_item_representation': item_representation,\n",
    "    'item_topics': item_cluster_ids,\n",
    "    'num_attributes': n_attrs,\n",
    "    'num_items_per_iter': 10,\n",
    "    'seed': 42,\n",
    "    'record_base_state': True,\n",
    "}\n",
    "\n",
    "model_name='top_k_reranking'\n",
    "requires_alpha = False\n",
    "\n",
    "if score_fn:\n",
    "    if score_fn == 'cosine_sim':\n",
    "        config['score_fn'] = cosine_sim\n",
    "        requires_alpha = True\n",
    "    elif score_fn == 'entropy':\n",
    "        config['score_fn'] = entropy\n",
    "        requires_alpha = True\n",
    "    elif score_fn == 'content_fairness':\n",
    "        config['score_fn'] = content_fairness\n",
    "    elif score_fn == 'top_k_reranking':\n",
    "        config['score_fn'] = top_k_reranking          \n",
    "    else:\n",
    "        raise Exception('Given score function does not exist.')\n",
    "    model_name = score_fn\n",
    "\n",
    "if probabilistic:\n",
    "    config['probabilistic_recommendations'] = True\n",
    "    model_name += '_prob'"
   ]
  },
  {
   "cell_type": "code",
   "execution_count": 29,
   "metadata": {},
   "outputs": [],
   "source": [
    "model = BubbleBurster(**config)\n",
    "\n",
    "model.add_metrics(*measurements)"
   ]
  },
  {
   "cell_type": "code",
   "execution_count": 30,
   "metadata": {},
   "outputs": [
    {
     "name": "stderr",
     "output_type": "stream",
     "text": [
      "100%|██████████| 10/10 [00:44<00:00,  4.40s/it]\n"
     ]
    }
   ],
   "source": [
    "# Fair Model\n",
    "train_timesteps=10\n",
    "model.startup_and_train(timesteps=train_timesteps)"
   ]
  },
  {
   "cell_type": "code",
   "execution_count": 31,
   "metadata": {},
   "outputs": [
    {
     "name": "stderr",
     "output_type": "stream",
     "text": [
      "100%|██████████| 100/100 [20:16<00:00, 12.17s/it]\n"
     ]
    }
   ],
   "source": [
    "run_timesteps=100\n",
    "model.run(timesteps=run_timesteps)"
   ]
  },
  {
   "cell_type": "code",
   "execution_count": 32,
   "metadata": {},
   "outputs": [],
   "source": [
    "def create_measurements_df(model, model_name, train_timesteps, file_path):\n",
    "    measurements = model.get_measurements()\n",
    "    df = pd.DataFrame(measurements)\n",
    "    df['state'] = 'train' # makes it easier to later understand which part was training\n",
    "    df.loc[df['timesteps'] > train_timesteps, 'state'] = 'run'\n",
    "    df['model'] = model_name\n",
    "    \n",
    "    return df"
   ]
  },
  {
   "cell_type": "code",
   "execution_count": 34,
   "metadata": {},
   "outputs": [],
   "source": [
    "measurements_df = create_measurements_df(model, model_name, train_timesteps, None)"
   ]
  },
  {
   "cell_type": "code",
   "execution_count": 35,
   "metadata": {},
   "outputs": [],
   "source": [
    "def plot_measurements_1_df(df, model_name):\n",
    "    fig, ax = plt.subplots(3, 4, figsize=(15, 15))\n",
    "    fig.tight_layout(pad=5.0)\n",
    "\n",
    "    ts = df['timesteps'].values\n",
    "    \n",
    "    cols_exclude = ['timesteps', 'interaction_histogram', 'user_mse']\n",
    "    \n",
    "    # if not requires_alpha:\n",
    "    #     alpha = np.nan\n",
    "    alpha=0.5\n",
    "        \n",
    "    # mse\n",
    "    ax[0,0].plot(ts, df['mse'], label=model_name)\n",
    "    ax[0,0].set_title('Mean Squared Error')\n",
    "    ax[0,0].set_ylabel('MSE')\n",
    "    # recall_at_k\n",
    "    ax[0,1].plot(ts, df['recall_at_k'], label=model_name)\n",
    "    ax[0,1].set_title('Recall at k')\n",
    "    ax[0,1].set_ylabel('Recall')\n",
    "    # interaction_spread\n",
    "    ax[0,2].plot(ts, df['interaction_spread'], label=model_name, alpha=alpha)\n",
    "    ax[0,2].set_title('Interaction Spread')\n",
    "    ax[0,2].set_ylabel('Jaccard Similarity')\n",
    "    ax[0,3].axis('off')\n",
    "    \n",
    "    # inter_cluster_interaction_similarity\n",
    "    ax[1,0].plot(ts, df['inter_cluster_interaction_similarity'], label=model_name, alpha=alpha)\n",
    "    ax[1,0].set_title('Inter-cluster interaction similarity')\n",
    "    ax[1,0].set_ylabel('Jaccard Similarity')\n",
    "    # intra_cluster_interaction_similarity\n",
    "    ax[1,1].plot(ts, df['intra_cluster_interaction_similarity'], label=model_name, alpha=alpha)\n",
    "    ax[1,1].set_title('Intra-cluster interaction similarity')\n",
    "    ax[1,1].set_ylabel('Jaccard Similarity')\n",
    "    # inter_cluster_rec_similarity\n",
    "    ax[1,2].plot(ts, df['inter_cluster_rec_similarity'], label=model_name, alpha=alpha)\n",
    "    ax[1,2].set_title('Inter-cluster interaction similarity')\n",
    "    ax[1,2].set_ylabel('Jaccard Similarity')\n",
    "    # intra_cluster_rec_similarity\n",
    "    ax[1,3].plot(ts, df['intra_cluster_rec_similarity'], label=model_name, alpha=alpha)\n",
    "    ax[1,3].set_title('Intra-cluster interaction similarity')\n",
    "    ax[1,3].set_ylabel('Jaccard Similarity')\n",
    "    \n",
    "    # mean_num_topics\n",
    "    ax[2,0].plot(ts, df['mean_num_topics'], label=model_name, alpha=alpha)\n",
    "    ax[2,0].set_title('Mean number of topics interacted with per timestep')\n",
    "    ax[2,0].set_ylabel('Avg. number of topics')\n",
    "    # inter_cluster_mean_interaction_distance\n",
    "    ax[2,1].plot(ts, df['inter_cluster_mean_interaction_distance'], label=model_name, alpha=alpha)\n",
    "    ax[2,1].set_title('Inter-cluster interaction similarity')\n",
    "    ax[2,1].set_ylabel('Avg. Interaction Distance')\n",
    "    # intra_cluster_mean_interaction_distance\n",
    "    ax[2,2].plot(ts, df['intra_cluster_mean_interaction_distance'], label=model_name, alpha=alpha)\n",
    "    ax[2,2].set_title('Intra-cluster interaction similarity')\n",
    "    ax[2,2].set_ylabel('Avg. Interaction Distance')\n",
    "    ax[2,3].axis('off')\n",
    "\n",
    "    for a in ax:\n",
    "        for b in a:\n",
    "            b.set_xlabel('Timestep')\n",
    "            \n",
    "    plt.title(model_name)\n",
    "    # fig.legend(legend_lines, legend_names, loc='upper center', fontsize=14, frameon=False, ncol=5, bbox_to_anchor=(.5, 1.05))\n",
    "\n",
    "def plot_histograms(measurements_df, column_name):\n",
    "    # for every 10 timesteps plot line in different color\n",
    "    fig= plt.figure(figsize=(5, 5))\n",
    "    \n",
    "    timesteps = len(measurements_df)\n",
    "    items = np.arange(len(measurements_df[column_name][1]))\n",
    "    for i in range(10, timesteps+1, 10):\n",
    "        counts = measurements_df[column_name][i]\n",
    "        plt.plot(items, sorted(counts), label=f't={i}')\n",
    "\n",
    "    plt.title(column_name)\n",
    "    plt.xlabel('Items')\n",
    "    plt.ylabel('#')\n",
    "    plt.legend()"
   ]
  },
  {
   "cell_type": "code",
   "execution_count": 36,
   "metadata": {},
   "outputs": [
    {
     "ename": "KeyError",
     "evalue": "'inter_cluster_mean_interaction_distance'",
     "output_type": "error",
     "traceback": [
      "\u001b[0;31m---------------------------------------------------------------------------\u001b[0m",
      "\u001b[0;31mKeyError\u001b[0m                                  Traceback (most recent call last)",
      "File \u001b[0;32m~/miniforge3/envs/fairRS/lib/python3.8/site-packages/pandas/core/indexes/base.py:3803\u001b[0m, in \u001b[0;36mIndex.get_loc\u001b[0;34m(self, key, method, tolerance)\u001b[0m\n\u001b[1;32m   <a href='file:///Users/madisonthantu/miniforge3/envs/fairRS/lib/python3.8/site-packages/pandas/core/indexes/base.py?line=3801'>3802</a>\u001b[0m \u001b[39mtry\u001b[39;00m:\n\u001b[0;32m-> <a href='file:///Users/madisonthantu/miniforge3/envs/fairRS/lib/python3.8/site-packages/pandas/core/indexes/base.py?line=3802'>3803</a>\u001b[0m     \u001b[39mreturn\u001b[39;00m \u001b[39mself\u001b[39;49m\u001b[39m.\u001b[39;49m_engine\u001b[39m.\u001b[39;49mget_loc(casted_key)\n\u001b[1;32m   <a href='file:///Users/madisonthantu/miniforge3/envs/fairRS/lib/python3.8/site-packages/pandas/core/indexes/base.py?line=3803'>3804</a>\u001b[0m \u001b[39mexcept\u001b[39;00m \u001b[39mKeyError\u001b[39;00m \u001b[39mas\u001b[39;00m err:\n",
      "File \u001b[0;32m~/miniforge3/envs/fairRS/lib/python3.8/site-packages/pandas/_libs/index.pyx:138\u001b[0m, in \u001b[0;36mpandas._libs.index.IndexEngine.get_loc\u001b[0;34m()\u001b[0m\n",
      "File \u001b[0;32m~/miniforge3/envs/fairRS/lib/python3.8/site-packages/pandas/_libs/index.pyx:165\u001b[0m, in \u001b[0;36mpandas._libs.index.IndexEngine.get_loc\u001b[0;34m()\u001b[0m\n",
      "File \u001b[0;32mpandas/_libs/hashtable_class_helper.pxi:5745\u001b[0m, in \u001b[0;36mpandas._libs.hashtable.PyObjectHashTable.get_item\u001b[0;34m()\u001b[0m\n",
      "File \u001b[0;32mpandas/_libs/hashtable_class_helper.pxi:5753\u001b[0m, in \u001b[0;36mpandas._libs.hashtable.PyObjectHashTable.get_item\u001b[0;34m()\u001b[0m\n",
      "\u001b[0;31mKeyError\u001b[0m: 'inter_cluster_mean_interaction_distance'",
      "\nThe above exception was the direct cause of the following exception:\n",
      "\u001b[0;31mKeyError\u001b[0m                                  Traceback (most recent call last)",
      "Cell \u001b[0;32mIn [36], line 1\u001b[0m\n\u001b[0;32m----> 1\u001b[0m \u001b[43mplot_measurements_1_df\u001b[49m\u001b[43m(\u001b[49m\u001b[43mmeasurements_df\u001b[49m\u001b[43m,\u001b[49m\u001b[43m \u001b[49m\u001b[43mmodel_name\u001b[49m\u001b[43m)\u001b[49m\n",
      "Cell \u001b[0;32mIn [35], line 49\u001b[0m, in \u001b[0;36mplot_measurements_1_df\u001b[0;34m(df, model_name)\u001b[0m\n\u001b[1;32m     47\u001b[0m ax[\u001b[38;5;241m2\u001b[39m,\u001b[38;5;241m0\u001b[39m]\u001b[38;5;241m.\u001b[39mset_ylabel(\u001b[38;5;124m'\u001b[39m\u001b[38;5;124mAvg. number of topics\u001b[39m\u001b[38;5;124m'\u001b[39m)\n\u001b[1;32m     48\u001b[0m \u001b[38;5;66;03m# inter_cluster_mean_interaction_distance\u001b[39;00m\n\u001b[0;32m---> 49\u001b[0m ax[\u001b[38;5;241m2\u001b[39m,\u001b[38;5;241m1\u001b[39m]\u001b[38;5;241m.\u001b[39mplot(ts, \u001b[43mdf\u001b[49m\u001b[43m[\u001b[49m\u001b[38;5;124;43m'\u001b[39;49m\u001b[38;5;124;43minter_cluster_mean_interaction_distance\u001b[39;49m\u001b[38;5;124;43m'\u001b[39;49m\u001b[43m]\u001b[49m, label\u001b[38;5;241m=\u001b[39mmodel_name, alpha\u001b[38;5;241m=\u001b[39malpha)\n\u001b[1;32m     50\u001b[0m ax[\u001b[38;5;241m2\u001b[39m,\u001b[38;5;241m1\u001b[39m]\u001b[38;5;241m.\u001b[39mset_title(\u001b[38;5;124m'\u001b[39m\u001b[38;5;124mInter-cluster interaction similarity\u001b[39m\u001b[38;5;124m'\u001b[39m)\n\u001b[1;32m     51\u001b[0m ax[\u001b[38;5;241m2\u001b[39m,\u001b[38;5;241m1\u001b[39m]\u001b[38;5;241m.\u001b[39mset_ylabel(\u001b[38;5;124m'\u001b[39m\u001b[38;5;124mAvg. Interaction Distance\u001b[39m\u001b[38;5;124m'\u001b[39m)\n",
      "File \u001b[0;32m~/miniforge3/envs/fairRS/lib/python3.8/site-packages/pandas/core/frame.py:3805\u001b[0m, in \u001b[0;36mDataFrame.__getitem__\u001b[0;34m(self, key)\u001b[0m\n\u001b[1;32m   <a href='file:///Users/madisonthantu/miniforge3/envs/fairRS/lib/python3.8/site-packages/pandas/core/frame.py?line=3802'>3803</a>\u001b[0m \u001b[39mif\u001b[39;00m \u001b[39mself\u001b[39m\u001b[39m.\u001b[39mcolumns\u001b[39m.\u001b[39mnlevels \u001b[39m>\u001b[39m \u001b[39m1\u001b[39m:\n\u001b[1;32m   <a href='file:///Users/madisonthantu/miniforge3/envs/fairRS/lib/python3.8/site-packages/pandas/core/frame.py?line=3803'>3804</a>\u001b[0m     \u001b[39mreturn\u001b[39;00m \u001b[39mself\u001b[39m\u001b[39m.\u001b[39m_getitem_multilevel(key)\n\u001b[0;32m-> <a href='file:///Users/madisonthantu/miniforge3/envs/fairRS/lib/python3.8/site-packages/pandas/core/frame.py?line=3804'>3805</a>\u001b[0m indexer \u001b[39m=\u001b[39m \u001b[39mself\u001b[39;49m\u001b[39m.\u001b[39;49mcolumns\u001b[39m.\u001b[39;49mget_loc(key)\n\u001b[1;32m   <a href='file:///Users/madisonthantu/miniforge3/envs/fairRS/lib/python3.8/site-packages/pandas/core/frame.py?line=3805'>3806</a>\u001b[0m \u001b[39mif\u001b[39;00m is_integer(indexer):\n\u001b[1;32m   <a href='file:///Users/madisonthantu/miniforge3/envs/fairRS/lib/python3.8/site-packages/pandas/core/frame.py?line=3806'>3807</a>\u001b[0m     indexer \u001b[39m=\u001b[39m [indexer]\n",
      "File \u001b[0;32m~/miniforge3/envs/fairRS/lib/python3.8/site-packages/pandas/core/indexes/base.py:3805\u001b[0m, in \u001b[0;36mIndex.get_loc\u001b[0;34m(self, key, method, tolerance)\u001b[0m\n\u001b[1;32m   <a href='file:///Users/madisonthantu/miniforge3/envs/fairRS/lib/python3.8/site-packages/pandas/core/indexes/base.py?line=3802'>3803</a>\u001b[0m     \u001b[39mreturn\u001b[39;00m \u001b[39mself\u001b[39m\u001b[39m.\u001b[39m_engine\u001b[39m.\u001b[39mget_loc(casted_key)\n\u001b[1;32m   <a href='file:///Users/madisonthantu/miniforge3/envs/fairRS/lib/python3.8/site-packages/pandas/core/indexes/base.py?line=3803'>3804</a>\u001b[0m \u001b[39mexcept\u001b[39;00m \u001b[39mKeyError\u001b[39;00m \u001b[39mas\u001b[39;00m err:\n\u001b[0;32m-> <a href='file:///Users/madisonthantu/miniforge3/envs/fairRS/lib/python3.8/site-packages/pandas/core/indexes/base.py?line=3804'>3805</a>\u001b[0m     \u001b[39mraise\u001b[39;00m \u001b[39mKeyError\u001b[39;00m(key) \u001b[39mfrom\u001b[39;00m \u001b[39merr\u001b[39;00m\n\u001b[1;32m   <a href='file:///Users/madisonthantu/miniforge3/envs/fairRS/lib/python3.8/site-packages/pandas/core/indexes/base.py?line=3805'>3806</a>\u001b[0m \u001b[39mexcept\u001b[39;00m \u001b[39mTypeError\u001b[39;00m:\n\u001b[1;32m   <a href='file:///Users/madisonthantu/miniforge3/envs/fairRS/lib/python3.8/site-packages/pandas/core/indexes/base.py?line=3806'>3807</a>\u001b[0m     \u001b[39m# If we have a listlike key, _check_indexing_error will raise\u001b[39;00m\n\u001b[1;32m   <a href='file:///Users/madisonthantu/miniforge3/envs/fairRS/lib/python3.8/site-packages/pandas/core/indexes/base.py?line=3807'>3808</a>\u001b[0m     \u001b[39m#  InvalidIndexError. Otherwise we fall through and re-raise\u001b[39;00m\n\u001b[1;32m   <a href='file:///Users/madisonthantu/miniforge3/envs/fairRS/lib/python3.8/site-packages/pandas/core/indexes/base.py?line=3808'>3809</a>\u001b[0m     \u001b[39m#  the TypeError.\u001b[39;00m\n\u001b[1;32m   <a href='file:///Users/madisonthantu/miniforge3/envs/fairRS/lib/python3.8/site-packages/pandas/core/indexes/base.py?line=3809'>3810</a>\u001b[0m     \u001b[39mself\u001b[39m\u001b[39m.\u001b[39m_check_indexing_error(key)\n",
      "\u001b[0;31mKeyError\u001b[0m: 'inter_cluster_mean_interaction_distance'"
     ]
    },
    {
     "data": {
      "image/png": "[encoded data removed]",
      "text/plain": [
       "<Figure size 1500x1500 with 12 Axes>"
      ]
     },
     "metadata": {},
     "output_type": "display_data"
    }
   ],
   "source": [
    "plot_measurements_1_df(measurements_df, model_name)"
   ]
  },
  {
   "cell_type": "code",
   "execution_count": 43,
   "metadata": {},
   "outputs": [
    {
     "name": "stdout",
     "output_type": "stream",
     "text": [
      "(943, 10)\n",
      "[1201  100  818  938 1033  812 1253  539 1246 1637]\n",
      "[1.31782349 0.84397485 1.77802267 1.77376666 0.84823086 1.31782349\n",
      " 1.84109785 0.86004246 0.9137242  0.39044984]\n"
     ]
    }
   ],
   "source": [
    "from numpy.random import RandomState\n",
    "rs = RandomState(42)\n",
    "k = 10\n",
    "\n",
    "pred_scores = mo.inner_product(model.predicted_user_profiles, model.predicted_item_attributes)\n",
    "top_k_idxs = mo.top_k_indices(matrix=pred_scores, k=k, random_state=rs)\n",
    "print(top_k_idxs.shape)\n",
    "print(top_k_idxs[0,:])\n",
    "print(pred_scores[0,:10])"
   ]
  },
  {
   "cell_type": "code",
   "execution_count": null,
   "metadata": {},
   "outputs": [],
   "source": [
    "plot_histograms(measurements_df, 'interaction_histogram')"
   ]
  },
  {
   "cell_type": "code",
   "execution_count": null,
   "metadata": {},
   "outputs": [],
   "source": [
    "# n_attrs=20\n",
    "# max_iter=1000\n",
    "# n_clusters=20\n",
    "\n",
    "# binary_ratings_matrix = load_and_process_movielens(file_path='../data/ml-100k/u.data')\n",
    "\n",
    "# # Get user and item representations using NMF\n",
    "# # user_representation, item_representation = create_embeddings(binary_ratings_matrix, n_attrs=n_attrs, max_iter=max_iter)\n",
    "\n",
    "# # Define topic clusters using NMF\n",
    "# item_topics = get_topic_clusters(binary_ratings_matrix, n_attrs=n_attrs)\n",
    "\n",
    "# # Create user clusters based off how often they interacted with the same item\n",
    "# print('Calculating clusters...')\n",
    "# co_occurence_matrix = binary_ratings_matrix @ binary_ratings_matrix.T\n",
    "# print(co_occurence_matrix.shape)\n",
    "\n",
    "# # Matrix factorize co_occurence_matrix to get embeddings\n",
    "# nmf_cooc = NMF(n_components=n_attrs, max_iter=max_iter)\n",
    "# W_topics = nmf_cooc.fit_transform(co_occurence_matrix)\n",
    "\n",
    "# # cluster W_topics\n",
    "# cluster_ids = KMeans(n_clusters=n_clusters, max_iter=max_iter, random_state=random_state).fit_predict(W_topics)\n",
    "\n",
    "# print('Calculated clusters.')"
   ]
  },
  {
   "cell_type": "code",
   "execution_count": null,
   "metadata": {},
   "outputs": [],
   "source": [
    "# score_fn = top_k_reranking\n",
    "# probabilistic = False\n",
    "# globals.ALPHA = 0.2\n",
    "# alpha = globals.ALPHA\n",
    "\n",
    "# # User parameters\n",
    "# drift = 0.2\n",
    "# attention_exp=1.5\n",
    "# pair_all=False"
   ]
  },
  {
   "cell_type": "code",
   "execution_count": null,
   "metadata": {},
   "outputs": [],
   "source": [
    "# num_users = user_representation.shape[0]\n",
    "# num_items = item_representation.shape[1]\n",
    "# print(f'Number of items: {num_items}')\n",
    "# print(f'Number of users: {num_users}')\n",
    "\n",
    "# if pair_all:\n",
    "#     # All possible user pairs\n",
    "#     user_pairs = [(u_idx, v_idx) for u_idx in range(len(user_representation)) for v_idx in range(len(user_representation))]\n",
    "\n",
    "# else:\n",
    "#     # create user_pairs by pairing users only with others that are not in the same cluster\n",
    "#     user_pairs = []\n",
    "#     for u_idx in range(num_users):\n",
    "#         for v_idx in range(num_users):\n",
    "#             if cluster_ids[u_idx] != cluster_ids[v_idx]:\n",
    "#                 user_pairs.append((u_idx, v_idx))\n",
    "# print(f'Number of user pairs: {len(user_pairs)}')\n",
    "                \n",
    "# users = Users(actual_user_profiles=user_representation, \n",
    "#               repeat_interactions=False, \n",
    "#               drift=drift,\n",
    "#               attention_exp=attention_exp)"
   ]
  },
  {
   "cell_type": "code",
   "execution_count": null,
   "metadata": {},
   "outputs": [],
   "source": [
    "# item_representation.shape[1]"
   ]
  },
  {
   "cell_type": "code",
   "execution_count": null,
   "metadata": {},
   "outputs": [],
   "source": [
    "# mse = MSEMeasurement()\n",
    "# measurements_list = [\n",
    "#     InteractionMeasurement(), \n",
    "#     mse,  \n",
    "#     InteractionSpread(), \n",
    "#     InteractionSimilarity(pairs=user_pairs), \n",
    "#     RecSimilarity(pairs=user_pairs), \n",
    "#     SerendipityMetric(), \n",
    "#     DiversityMetric(), \n",
    "#     NoveltyMetric(),\n",
    "#     RecallMeasurement(),\n",
    "#     # MeanNumberOfTopics(),\n",
    "# ]"
   ]
  },
  {
   "cell_type": "code",
   "execution_count": null,
   "metadata": {},
   "outputs": [],
   "source": [
    "# item_topics.shape"
   ]
  },
  {
   "cell_type": "code",
   "execution_count": null,
   "metadata": {},
   "outputs": [],
   "source": [
    "# # Model\n",
    "# config = {\n",
    "#     'actual_user_representation': users,\n",
    "#     'actual_item_representation': item_representation,\n",
    "#     'item_topics': item_topics,\n",
    "#     # 'num_attributes': n_attrs,\n",
    "#     'num_items_per_iter': 10,\n",
    "#     'seed': 42,\n",
    "#     'record_base_state': True,\n",
    "# }\n",
    "\n",
    "# model_name='myopic'\n",
    "# requires_alpha = False\n",
    "\n",
    "# config['score_fn'] = top_k_reranking\n",
    "\n",
    "# if probabilistic:\n",
    "#     config['probabilistic_recommendations'] = True\n",
    "#     model_name += '_prob'"
   ]
  },
  {
   "cell_type": "code",
   "execution_count": null,
   "metadata": {},
   "outputs": [],
   "source": [
    "# model = BubbleBurster(**config)\n",
    "\n",
    "# model.add_metrics(*measurements_list)\n",
    "\n",
    "# print(\"Model representation of users and items are given by:\")\n",
    "# print(f\"- An all-zeros matrix of users of dimension {model.predicted_user_profiles.shape}\")\n",
    "# print(f\"- A randomly generated matrix of items of dimension {model.predicted_item_attributes.shape}\")"
   ]
  },
  {
   "cell_type": "code",
   "execution_count": null,
   "metadata": {},
   "outputs": [],
   "source": [
    "# train_timesteps=10\n",
    "# model.startup_and_train(timesteps=train_timesteps)"
   ]
  },
  {
   "cell_type": "code",
   "execution_count": null,
   "metadata": {},
   "outputs": [],
   "source": [
    "# run_timesteps=100\n",
    "# model.run(timesteps=run_timesteps)"
   ]
  },
  {
   "cell_type": "code",
   "execution_count": null,
   "metadata": {},
   "outputs": [],
   "source": [
    "# measurements = model.get_measurements()\n",
    "# df_measurements = pd.DataFrame(measurements)\n",
    "# df_measurements.head(5)"
   ]
  },
  {
   "cell_type": "code",
   "execution_count": null,
   "metadata": {},
   "outputs": [],
   "source": [
    "# type(df_measurements['timesteps'].values[0])"
   ]
  },
  {
   "cell_type": "code",
   "execution_count": null,
   "metadata": {},
   "outputs": [],
   "source": [
    "# def plot_measurements(df):\n",
    "    \n",
    "#     fig, ax = plt.subplots(3, 3, figsize=(15, 15))\n",
    "#     fig.tight_layout(pad=5.0)\n",
    "\n",
    "#     # plot rec_similarity with timesteps on x axis\n",
    "#     legend_lines, legend_names = [], []\n",
    "#     # for i, df in enumerate(dfs):\n",
    "#     ts = df['timesteps']\n",
    "#     # name = parameters_df.loc[i, 'model_name']\n",
    "#     # if not np.isnan(parameters_df.loc[i, 'Lambda']):\n",
    "#     #      name += f\" (Lambda: {parameters_df.loc[i, 'Lambda']})\" \n",
    "#     # legend_names.append(name)\n",
    "#     ax[0,0].plot(ts, df['mse'], label='mse')\n",
    "#     ax[0,1].plot(ts, df['rec_similarity'], label='rec_similarity')\n",
    "#     ax[0,2].plot(ts, df['interaction_similarity'], label='interaction_similarity')\n",
    "#     ax[1,0].plot(ts, df['serendipity_metric'], label='serendipity_metric')\n",
    "#     ax[1,1].plot(ts, df['novelty_metric'], label='novelty_metric')\n",
    "#     line, = ax[1,2].plot(ts, df['diversity_metric'], label='diversity_metric')\n",
    "#     legend_lines.append(line)\n",
    "    \n",
    "#     for a in ax:\n",
    "#         for b in a:\n",
    "#             b.set_xlabel('Timestep')\n",
    "\n",
    "#     ax[0, 0].set_title('Mean Squared Error')\n",
    "#     ax[0, 0].set_ylabel('MSE')\n",
    "    \n",
    "#     ax[0, 1].set_title('Recommendation similarity')\n",
    "#     ax[0, 1].set_ylabel('Similarity')\n",
    "    \n",
    "#     ax[0, 2].set_title('Interaction Similarity')\n",
    "#     ax[0, 2].set_ylabel('Jaccard Similarity')\n",
    "    \n",
    "#     ax[1, 0].set_title('Serendipity')\n",
    "#     ax[1, 0].set_ylabel('Serendipity')\n",
    "    \n",
    "#     ax[1, 1].set_title('Novelty')\n",
    "#     ax[1, 1].set_ylabel('Novelty')\n",
    "\n",
    "#     ax[1, 2].set_title('Diversity')\n",
    "#     ax[1, 2].set_ylabel('Diversity')\n",
    "\n",
    "#     ax[2, 0].set_title('Recall')\n",
    "#     ax[2, 0].set_ylabel('Recall')\n",
    "\n",
    "    \n",
    "#     fig.legend(legend_lines, legend_names, loc='upper center', fontsize=14, frameon=False, ncol=5, bbox_to_anchor=(.5, 1.05))"
   ]
  },
  {
   "cell_type": "code",
   "execution_count": null,
   "metadata": {},
   "outputs": [],
   "source": [
    "# plot_measurements(df_measurements)"
   ]
  },
  {
   "cell_type": "code",
   "execution_count": null,
   "metadata": {},
   "outputs": [],
   "source": []
  },
  {
   "cell_type": "code",
   "execution_count": null,
   "metadata": {},
   "outputs": [],
   "source": [
    "# predicted_user_profiles =  model.predicted_user_profiles\n",
    "# predicted_item_attributes = model.predicted_item_attributes"
   ]
  },
  {
   "cell_type": "code",
   "execution_count": null,
   "metadata": {},
   "outputs": [],
   "source": []
  }
 ],
 "metadata": {
  "interpreter": {
   "hash": "82ad1e6da8c8551612185ff57ab4e881be31b0c67a550f3cbdb2f98515f5914e"
  },
  "kernelspec": {
   "display_name": "Python 3.8.15 ('fairRS')",
   "language": "python",
   "name": "python3"
  },
  "language_info": {
   "codemirror_mode": {
    "name": "ipython",
    "version": 3
   },
   "file_extension": ".py",
   "mimetype": "text/x-python",
   "name": "python",
   "nbconvert_exporter": "python",
   "pygments_lexer": "ipython3",
   "version": "3.8.15"
  },
  "orig_nbformat": 4
 },
 "nbformat": 4,
 "nbformat_minor": 2
}
