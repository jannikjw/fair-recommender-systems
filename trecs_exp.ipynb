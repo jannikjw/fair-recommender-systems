{
  "cells": [
    {
      "cell_type": "code",
      "execution_count": 1,
      "metadata": {
        "id": "lyzbdeoNVB7V"
      },
      "outputs": [],
      "source": [
        "import pandas as pd\n",
        "import matplotlib.pyplot as plt\n",
        "import numpy as np\n",
        "import networkx as nx\n",
        "from importlib import reload\n",
        "import wrapper\n",
        "from wrapper.models.bubble import BubbleBurster\n",
        "from trecs.components import Users\n",
        "from src.utils import get_topic_clusters\n",
        "from sklearn.decomposition import NMF\n",
        "from wrapper.metrics.evaluation_metrics import SerendipityMetric, DiversityMetric, NoveltyMetric, TopicInteractionMeasurement\n",
        "import os\n",
        "import src\n",
        "import trecs\n",
        "from trecs.models import ContentFiltering\n",
        "from trecs.metrics import MSEMeasurement, InteractionSpread, InteractionSpread, InteractionSimilarity, RecSimilarity, RMSEMeasurement, InteractionMeasurement\n",
        "\n",
        "random_state = np.random.seed(42)"
      ]
    },
    {
      "cell_type": "code",
      "execution_count": 2,
      "metadata": {},
      "outputs": [],
      "source": [
        "# import warnings filter\n",
        "from warnings import simplefilter\n",
        "# ignore all future warnings\n",
        "simplefilter(action='ignore', category=FutureWarning)"
      ]
    },
    {
      "cell_type": "code",
      "execution_count": 3,
      "metadata": {},
      "outputs": [],
      "source": [
        "ratings_df = pd.read_csv('data/ml-100k/u.data', sep=\"\\t\", names=['UserID', 'MovieID', 'Rating', 'Timestamp'])"
      ]
    },
    {
      "cell_type": "markdown",
      "metadata": {},
      "source": [
        "## Creating RecommenderSystem on MovieLens "
      ]
    },
    {
      "cell_type": "markdown",
      "metadata": {},
      "source": [
        "### Creating Embeddings"
      ]
    },
    {
      "cell_type": "code",
      "execution_count": 4,
      "metadata": {},
      "outputs": [],
      "source": [
        "from sklearn.decomposition import NMF\n",
        "\n",
        "binary_ratings_df = ratings_df.drop(columns=['Timestamp'])\n",
        "binary_ratings_df.loc[binary_ratings_df['Rating'] > 0, 'Rating'] = 1\n",
        "\n",
        "# turn dataframe into matrix where each movie is a column and each user is a row\n",
        "binary_ratings_matrix = binary_ratings_df.pivot(index='UserID', columns='MovieID', values='Rating').fillna(0).to_numpy()"
      ]
    },
    {
      "cell_type": "code",
      "execution_count": 5,
      "metadata": {},
      "outputs": [
        {
          "name": "stderr",
          "output_type": "stream",
          "text": [
            "c:\\Users\\Jannik\\anaconda3\\envs\\rsenv\\lib\\site-packages\\lightfm\\_lightfm_fast.py:10: UserWarning: LightFM was compiled without OpenMP support. Only a single thread will be used.\n",
            "  \"LightFM was compiled without OpenMP support. \"\n"
          ]
        }
      ],
      "source": [
        "from lightfm.cross_validation import random_train_test_split\n",
        "from scipy import sparse\n",
        "\n",
        "# split data into train and test sets\n",
        "train_interactions, test_interactions = random_train_test_split(sparse.csr_matrix(binary_ratings_matrix), test_percentage=0.2, random_state=random_state)\n",
        "train_interactions = train_interactions.toarray()\n",
        "test_interactions = test_interactions.toarray()"
      ]
    },
    {
      "cell_type": "code",
      "execution_count": 6,
      "metadata": {},
      "outputs": [
        {
          "name": "stdout",
          "output_type": "stream",
          "text": [
            "(943, 100) (100, 1682)\n"
          ]
        }
      ],
      "source": [
        "n_attrs=100\n",
        "max_iter=500\n",
        "\n",
        "if not os.path.exists('artefacts/'):\n",
        "    os.mkdir('artefacts/')\n",
        "\n",
        "user_representation_file_path = f'artefacts/ml_user_representations_{max_iter}maxiter.npy'\n",
        "item_representation_file_path = f'artefacts/ml_item_representations_{max_iter}maxiter.npy'\n",
        "if not os.path.exists(user_representation_file_path) or not os.path.exists(item_representation_file_path):\n",
        "    nmf = NMF(n_components=n_attrs, init='random', random_state=random_state, max_iter=max_iter)\n",
        "    user_representation = nmf.fit_transform(train_interactions)\n",
        "    item_representation = nmf.components_\n",
        "    np.save(user_representation_file_path, user_representation)\n",
        "    np.save(item_representation_file_path, item_representation)\n",
        "else:\n",
        "    user_representation = np.load(user_representation_file_path)\n",
        "    item_representation = np.load(item_representation_file_path)\n",
        "\n",
        "print(user_representation.shape, item_representation.shape)"
      ]
    },
    {
      "cell_type": "code",
      "execution_count": 7,
      "metadata": {},
      "outputs": [],
      "source": [
        "users = Users(actual_user_profiles=user_representation, repeat_interactions=False, attention_exp=1.5)"
      ]
    },
    {
      "cell_type": "markdown",
      "metadata": {},
      "source": [
        "## Create Fair RS Model"
      ]
    },
    {
      "cell_type": "code",
      "execution_count": 8,
      "metadata": {},
      "outputs": [],
      "source": [
        "reload(wrapper.metrics.evaluation_metrics)\n",
        "reload(wrapper.models.bubble)\n",
        "from wrapper.models.bubble import BubbleBurster\n",
        "from wrapper.metrics.evaluation_metrics import SerendipityMetric, DiversityMetric, NoveltyMetric"
      ]
    },
    {
      "cell_type": "code",
      "execution_count": 9,
      "metadata": {},
      "outputs": [],
      "source": [
        "# Define topic clusters using NMF\n",
        "max_iter=200\n",
        "nmf_solver='mu'\n",
        "\n",
        "topic_clusters_file_path = f'artefacts/ml_topic_clusters_{max_iter}maxiter_{nmf_solver}solver.npy'\n",
        "if not os.path.exists(topic_clusters_file_path):\n",
        "    item_topics = get_topic_clusters(binary_ratings_matrix, n_attrs=n_attrs, max_iter=max_iter, nmf_solver=nmf_solver)\n",
        "    np.save(topic_clusters_file_path, item_topics)\n",
        "else:\n",
        "    item_topics = np.load(topic_clusters_file_path)"
      ]
    },
    {
      "cell_type": "code",
      "execution_count": 10,
      "metadata": {},
      "outputs": [],
      "source": [
        "# Baseline Model\n",
        "recsys = BubbleBurster(\n",
        "    item_topics=item_topics,\n",
        "    actual_item_representation=item_representation,\n",
        "    actual_user_representation=users,\n",
        "    record_base_state=True,\n",
        ")"
      ]
    },
    {
      "cell_type": "code",
      "execution_count": 11,
      "metadata": {},
      "outputs": [],
      "source": [
        "# Add metrics\n",
        "user_pairs = [(u_idx, v_idx) for u_idx in range(recsys.num_users) for v_idx in range(recsys.num_users)]\n",
        "\n",
        "recsys.add_metrics(InteractionMeasurement(), MSEMeasurement(diagnostics=True), InteractionSpread(), InteractionSimilarity(pairs=user_pairs), RecSimilarity(pairs=user_pairs),\n",
        "                #    SerendipityMetric(), DiversityMetric(), NoveltyMetric()\n",
        "                )"
      ]
    },
    {
      "cell_type": "code",
      "execution_count": null,
      "metadata": {
        "colab": {
          "base_uri": "https://localhost:8080/"
        },
        "id": "yQOefImkwABn",
        "outputId": "54d4658a-d00e-41db-8ea2-d55aaa44b516"
      },
      "outputs": [],
      "source": [
        "print(\"Model representation of users and items are given by:\")\n",
        "print(f\"- An all-zeros matrix of users of dimension {recsys.predicted_user_profiles.shape}\")\n",
        "print(f\"- A randomly generated matrix of items of dimension {recsys.predicted_item_attributes.shape}\")"
      ]
    },
    {
      "cell_type": "markdown",
      "metadata": {},
      "source": [
        "## Simulation"
      ]
    },
    {
      "cell_type": "markdown",
      "metadata": {},
      "source": [
        "### Baseline (myopic)"
      ]
    },
    {
      "cell_type": "code",
      "execution_count": null,
      "metadata": {},
      "outputs": [],
      "source": [
        "# Baseline (myopic)\n",
        "timesteps=20\n",
        "# recsys.startup_and_train(timesteps=timesteps)"
      ]
    },
    {
      "cell_type": "code",
      "execution_count": null,
      "metadata": {},
      "outputs": [],
      "source": [
        "myopic_measurements = recsys.get_measurements()\n",
        "myopic_measurements_df = pd.DataFrame(myopic_measurements)\n"
      ]
    },
    {
      "cell_type": "code",
      "execution_count": null,
      "metadata": {},
      "outputs": [],
      "source": [
        "fig, ax = plt.subplots(1, 2, figsize=(15, 3))\n",
        "\n",
        "myopic_measurements_df['rec_similarity'].plot(ax=ax[0])\n",
        "myopic_measurements_df['interaction_similarity'].plot(ax=ax[1])\n",
        "\n",
        "ax[0].set_title('Recommendation similarity')\n",
        "ax[0].set_xlabel('Timestep')\n",
        "ax[0].set_ylabel('Similarity')\n",
        "ax[1].set_title('Interaction Similarity')\n",
        "ax[1].set_xlabel('Timestep')\n",
        "ax[1].set_ylabel('Jaccard Similarity')"
      ]
    },
    {
      "cell_type": "markdown",
      "metadata": {},
      "source": [
        "### Fair Model"
      ]
    },
    {
      "cell_type": "code",
      "execution_count": 12,
      "metadata": {},
      "outputs": [],
      "source": [
        "import trecs.matrix_ops as mo\n",
        "import scipy.spatial as sp\n",
        "from numpy.linalg import norm\n",
        "\n",
        "def cosine_similarity_reranking(predicted_user_profiles, predicted_item_attributes):\n",
        "    # Reranking\n",
        "    alpha = 0.1\n",
        "    predicted_scores = mo.inner_product(predicted_user_profiles, predicted_item_attributes)\n",
        "    # create a vector that contains the norms of all row vectors in predicted_user_profiles\n",
        "    user_norms = norm(predicted_user_profiles, axis=1)\n",
        "    item_norms = norm(predicted_item_attributes, axis=0)\n",
        "\n",
        "    # create a matrix that contains the outer product of user_norms and item_norms\n",
        "    norms = np.outer(user_norms, item_norms)\n",
        "    # print max value of norms\n",
        "    re_ranked_scores = predicted_scores + alpha * norms\n",
        "    return re_ranked_scores"
      ]
    },
    {
      "cell_type": "code",
      "execution_count": 18,
      "metadata": {},
      "outputs": [],
      "source": [
        "# Fair Model\n",
        "recsys = BubbleBurster(\n",
        "    item_topics=item_topics,\n",
        "    user_representation=user_representation,\n",
        "    item_representation=item_representation,\n",
        "    actual_item_representation=item_representation,\n",
        "    actual_user_representation=users,\n",
        "    record_base_state=True,\n",
        "    score_fn=cosine_similarity_reranking,\n",
        ")"
      ]
    },
    {
      "cell_type": "code",
      "execution_count": 19,
      "metadata": {},
      "outputs": [],
      "source": [
        "recsys.add_metrics(InteractionMeasurement(), MSEMeasurement(diagnostics=True), InteractionSpread(), InteractionSimilarity(pairs=user_pairs), RecSimilarity(pairs=user_pairs),# TopicInteractionMeasurement(),\n",
        "                #    SerendipityMetric(), DiversityMetric(), NoveltyMetric()\n",
        "                )"
      ]
    },
    {
      "cell_type": "code",
      "execution_count": 20,
      "metadata": {},
      "outputs": [
        {
          "data": {
            "text/plain": [
              "array([0, 0, 0, 0, 0, 0, 0, 0, 0, 0, 0, 0, 0, 0, 0, 0, 0, 0, 0, 0, 0, 0,\n",
              "       0, 0, 0, 0, 0, 0, 0, 0, 0, 0, 0, 0, 0, 0, 0, 0, 0, 0, 0, 0, 0, 0,\n",
              "       0, 0, 0, 0, 0, 0, 0, 0, 0, 0, 0, 0, 0, 0, 0, 0, 0, 0, 0, 0, 0, 0,\n",
              "       0, 0, 0, 0, 0, 0, 0, 0, 0, 0, 0, 0, 0, 0, 0, 0, 0, 0, 0, 0, 0, 0,\n",
              "       0, 0, 0, 0, 0, 0, 0, 0, 0, 0, 0, 0])"
            ]
          },
          "execution_count": 20,
          "metadata": {},
          "output_type": "execute_result"
        }
      ],
      "source": [
        "sum(recsys.user_topic_history)"
      ]
    },
    {
      "cell_type": "code",
      "execution_count": 21,
      "metadata": {
        "colab": {
          "base_uri": "https://localhost:8080/"
        },
        "id": "wVSpo-18VHH4",
        "outputId": "cef8814a-7ccb-4da1-dae9-aab8fdcad51d"
      },
      "outputs": [
        {
          "name": "stderr",
          "output_type": "stream",
          "text": [
            "100%|██████████| 10/10 [03:02<00:00, 18.25s/it]\n"
          ]
        }
      ],
      "source": [
        "# Fair Model\n",
        "timesteps=10\n",
        "recsys.startup_and_train(timesteps=timesteps)"
      ]
    },
    {
      "cell_type": "code",
      "execution_count": 22,
      "metadata": {},
      "outputs": [],
      "source": [
        "fair_measurements = recsys.get_measurements()"
      ]
    },
    {
      "cell_type": "code",
      "execution_count": 23,
      "metadata": {
        "colab": {
          "base_uri": "https://localhost:8080/",
          "height": 295
        },
        "id": "SwOYonhMvBfP",
        "outputId": "107aca06-cf5d-4d5d-c522-38f5362fc80b"
      },
      "outputs": [
        {
          "data": {
            "image/png": "[encoded data removed]",
            "text/plain": [
              "<Figure size 640x480 with 1 Axes>"
            ]
          },
          "metadata": {},
          "output_type": "display_data"
        }
      ],
      "source": [
        "# for every 10 timesteps plot line in different color\n",
        "for i in range(10, timesteps+10, 10):\n",
        "    plt.plot(np.arange(recsys.num_items), sorted(fair_measurements['interaction_histogram'][i]), label=f't={i}')\n",
        "\n",
        "plt.legend()\n",
        "plt.xlabel(\"Items\")\n",
        "plt.ylabel(\"# interactions\")\n",
        "plt.show()"
      ]
    },
    {
      "cell_type": "code",
      "execution_count": 26,
      "metadata": {
        "colab": {
          "base_uri": "https://localhost:8080/",
          "height": 424
        },
        "id": "zbOWgfvksMs4",
        "outputId": "c770281b-05e6-4b3c-c79c-91809cd5f76a"
      },
      "outputs": [
        {
          "data": {
            "text/html": [
              "<div>\n",
              "<style scoped>\n",
              "    .dataframe tbody tr th:only-of-type {\n",
              "        vertical-align: middle;\n",
              "    }\n",
              "\n",
              "    .dataframe tbody tr th {\n",
              "        vertical-align: top;\n",
              "    }\n",
              "\n",
              "    .dataframe thead th {\n",
              "        text-align: right;\n",
              "    }\n",
              "</style>\n",
              "<table border=\"1\" class=\"dataframe\">\n",
              "  <thead>\n",
              "    <tr style=\"text-align: right;\">\n",
              "      <th></th>\n",
              "      <th>interaction_histogram</th>\n",
              "      <th>mse</th>\n",
              "      <th>interaction_spread</th>\n",
              "      <th>interaction_similarity</th>\n",
              "      <th>rec_similarity</th>\n",
              "      <th>timesteps</th>\n",
              "    </tr>\n",
              "  </thead>\n",
              "  <tbody>\n",
              "    <tr>\n",
              "      <th>0</th>\n",
              "      <td>None</td>\n",
              "      <td>0.101459</td>\n",
              "      <td>NaN</td>\n",
              "      <td>NaN</td>\n",
              "      <td>NaN</td>\n",
              "      <td>0</td>\n",
              "    </tr>\n",
              "    <tr>\n",
              "      <th>1</th>\n",
              "      <td>[1.0, 0.0, 2.0, 3.0, 1.0, 1.0, 0.0, 0.0, 1.0, ...</td>\n",
              "      <td>0.101459</td>\n",
              "      <td>-940.0</td>\n",
              "      <td>0.002266</td>\n",
              "      <td>0.004177</td>\n",
              "      <td>1</td>\n",
              "    </tr>\n",
              "  </tbody>\n",
              "</table>\n",
              "</div>"
            ],
            "text/plain": [
              "                               interaction_histogram       mse  \\\n",
              "0                                               None  0.101459   \n",
              "1  [1.0, 0.0, 2.0, 3.0, 1.0, 1.0, 0.0, 0.0, 1.0, ...  0.101459   \n",
              "\n",
              "   interaction_spread  interaction_similarity  rec_similarity  timesteps  \n",
              "0                 NaN                     NaN             NaN          0  \n",
              "1              -940.0                0.002266        0.004177          1  "
            ]
          },
          "metadata": {},
          "output_type": "display_data"
        }
      ],
      "source": [
        "fair_measurements_df = pd.DataFrame(fair_measurements)\n",
        "# for each key in fair_measurements print length of values\n",
        "display(fair_measurements_df.head(2))"
      ]
    },
    {
      "cell_type": "code",
      "execution_count": 27,
      "metadata": {},
      "outputs": [
        {
          "data": {
            "text/plain": [
              "Text(0, 0.5, 'Jaccard Similarity')"
            ]
          },
          "execution_count": 27,
          "metadata": {},
          "output_type": "execute_result"
        },
        {
          "data": {
            "image/png": "[encoded data removed]",
            "text/plain": [
              "<Figure size 1500x300 with 2 Axes>"
            ]
          },
          "metadata": {},
          "output_type": "display_data"
        }
      ],
      "source": [
        "fig, ax = plt.subplots(1, 2, figsize=(15, 3))\n",
        "\n",
        "fair_measurements_df['rec_similarity'].plot(ax=ax[0])\n",
        "fair_measurements_df['interaction_similarity'].plot(ax=ax[1])\n",
        "\n",
        "ax[0].set_title('Recommendation similarity')\n",
        "ax[0].set_xlabel('Timestep')\n",
        "ax[0].set_ylabel('Similarity')\n",
        "ax[1].set_title('Interaction Similarity')\n",
        "ax[1].set_xlabel('Timestep')\n",
        "ax[1].set_ylabel('Jaccard Similarity')"
      ]
    },
    {
      "cell_type": "code",
      "execution_count": null,
      "metadata": {
        "id": "LilaYN47C2Lj"
      },
      "outputs": [],
      "source": [
        "# print majority / minority outcome stats\n",
        "def majority_minority_outcomes(metric, split_index):\n",
        "    split_indices = [split_index]\n",
        "\n",
        "        \n",
        "    maj_mean = metric.last_observation[:split_index].mean()\n",
        "    maj_std = metric.last_observation[:split_index].std()\n",
        "\n",
        "    min_mean = metric.last_observation[split_index:].mean()\n",
        "    min_std = metric.last_observation[split_index:].std()\n",
        "\n",
        "    print(\"Majority group statistics: \", maj_mean, \"(mean), \", maj_std, \"(std)\")\n",
        "    print(\"Minority group statistics: \", min_mean, \"(mean), \", min_std, \"(std)\")\n",
        "    print()\n",
        "    \n",
        "    metric.hist(split_indices)"
      ]
    },
    {
      "cell_type": "code",
      "execution_count": null,
      "metadata": {
        "id": "4nNZlIYIH6kh"
      },
      "outputs": [],
      "source": [
        "majority_minority_outcomes(mse, )"
      ]
    }
  ],
  "metadata": {
    "colab": {
      "provenance": []
    },
    "gpuClass": "standard",
    "kernelspec": {
      "display_name": "Python 3.7.15 ('rsenv')",
      "language": "python",
      "name": "python3"
    },
    "language_info": {
      "codemirror_mode": {
        "name": "ipython",
        "version": 3
      },
      "file_extension": ".py",
      "mimetype": "text/x-python",
      "name": "python",
      "nbconvert_exporter": "python",
      "pygments_lexer": "ipython3",
      "version": "3.7.15"
    },
    "vscode": {
      "interpreter": {
        "hash": "8ff424ff1c077e7075cac16d9e16e601aa03a34fd87e9d6557d5c3f29437c7df"
      }
    }
  },
  "nbformat": 4,
  "nbformat_minor": 0
}
