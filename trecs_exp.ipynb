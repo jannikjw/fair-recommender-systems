{
  "cells": [
    {
      "cell_type": "code",
      "execution_count": 19,
      "metadata": {
        "id": "lyzbdeoNVB7V"
      },
      "outputs": [],
      "source": [
        "import pandas as pd\n",
        "import matplotlib.pyplot as plt\n",
        "import numpy as np\n",
        "import networkx as nx\n",
        "import importlib as imp\n",
        "\n",
        "import src\n",
        "import trecs\n",
        "from trecs.models import ContentFiltering\n",
        "from trecs.metrics import MSEMeasurement, InteractionSpread, InteractionSpread, InteractionSimilarity, RecSimilarity, RMSEMeasurement, InteractionMeasurement\n",
        "\n",
        "random_state = np.random.seed(42)"
      ]
    },
    {
      "cell_type": "code",
      "execution_count": 20,
      "metadata": {},
      "outputs": [],
      "source": [
        "# import warnings filter\n",
        "from warnings import simplefilter\n",
        "# ignore all future warnings\n",
        "simplefilter(action='ignore', category=FutureWarning)"
      ]
    },
    {
      "cell_type": "code",
      "execution_count": 21,
      "metadata": {},
      "outputs": [],
      "source": [
        "ratings_df = pd.read_csv('data/ml-100k/u.data', \n",
        "                 sep=\"\\t\", \n",
        "                 names=['UserID', 'MovieID', 'Rating', 'Timestamp'])"
      ]
    },
    {
      "cell_type": "markdown",
      "metadata": {},
      "source": [
        "## Creating RecommenderSystem on MovieLens "
      ]
    },
    {
      "cell_type": "markdown",
      "metadata": {},
      "source": [
        "### Creating Embeddings"
      ]
    },
    {
      "cell_type": "code",
      "execution_count": 24,
      "metadata": {},
      "outputs": [],
      "source": [
        "from sklearn.decomposition import NMF\n",
        "\n",
        "binary_ratings_df = ratings_df.drop(columns=['Timestamp'])\n",
        "binary_ratings_df.loc[binary_ratings_df['Rating'] > 0, 'Rating'] = 1\n",
        "\n",
        "# turn dataframe into matrix where each movie is a column and each user is a row\n",
        "binary_ratings_matrix = binary_ratings_df.pivot(index='UserID', columns='MovieID', values='Rating').fillna(0).to_numpy()"
      ]
    },
    {
      "cell_type": "code",
      "execution_count": 25,
      "metadata": {},
      "outputs": [
        {
          "name": "stderr",
          "output_type": "stream",
          "text": [
            "c:\\Users\\Jannik\\anaconda3\\envs\\rsenv\\lib\\site-packages\\lightfm\\_lightfm_fast.py:10: UserWarning: LightFM was compiled without OpenMP support. Only a single thread will be used.\n",
            "  \"LightFM was compiled without OpenMP support. \"\n"
          ]
        }
      ],
      "source": [
        "from lightfm.cross_validation import random_train_test_split\n",
        "from scipy import sparse\n",
        "\n",
        "# split data into train and test sets\n",
        "train_interactions, test_interactions = random_train_test_split(sparse.csr_matrix(binary_ratings_matrix), test_percentage=0.2, random_state=random_state)\n",
        "train_interactions = train_interactions.toarray()\n",
        "test_interactions = test_interactions.toarray()"
      ]
    },
    {
      "cell_type": "code",
      "execution_count": 33,
      "metadata": {},
      "outputs": [
        {
          "name": "stderr",
          "output_type": "stream",
          "text": [
            "c:\\Users\\Jannik\\anaconda3\\envs\\rsenv\\lib\\site-packages\\sklearn\\decomposition\\_nmf.py:1641: ConvergenceWarning: Maximum number of iterations 200 reached. Increase it to improve convergence.\n",
            "  ConvergenceWarning,\n"
          ]
        },
        {
          "name": "stdout",
          "output_type": "stream",
          "text": [
            "(943, 100) (100, 1682)\n"
          ]
        }
      ],
      "source": [
        "n_attrs=100\n",
        "\n",
        "nmf = NMF(n_components=n_attrs, solver=\"mu\", max_iter=500)\n",
        "user_representation = nmf.fit_transform(binary_ratings_matrix)\n",
        "item_representation = nmf.components_\n",
        "print(user_representation.shape, item_representation.shape)"
      ]
    },
    {
      "cell_type": "markdown",
      "metadata": {},
      "source": [
        "## Create RS Model"
      ]
    },
    {
      "cell_type": "code",
      "execution_count": 39,
      "metadata": {},
      "outputs": [],
      "source": [
        "from importlib import reload\n",
        "import wrapper\n",
        "from wrapper.models.bubble import BubbleBurster\n",
        "from trecs.components import Users\n",
        "from src.utils import get_topic_clusters\n",
        "from wrapper.metrics.evaluation_metrics import SerendipityMetric, DiversityMetric, NoveltyMetric\n",
        "reload(wrapper.metrics.evaluation_metrics)\n",
        "reload(wrapper.models.bubble)\n",
        "from wrapper.models.bubble import BubbleBurster\n",
        "from wrapper.metrics.evaluation_metrics import SerendipityMetric, DiversityMetric, NoveltyMetric"
      ]
    },
    {
      "cell_type": "code",
      "execution_count": 31,
      "metadata": {},
      "outputs": [
        {
          "name": "stderr",
          "output_type": "stream",
          "text": [
            "c:\\Users\\Jannik\\anaconda3\\envs\\rsenv\\lib\\site-packages\\sklearn\\decomposition\\_nmf.py:1641: ConvergenceWarning: Maximum number of iterations 100 reached. Increase it to improve convergence.\n",
            "  ConvergenceWarning,\n"
          ]
        }
      ],
      "source": [
        "users = Users(size=(943,100), repeat_interactions=False)\n",
        "\n",
        "num_topics = None\n",
        "item_topics = get_topic_clusters(binary_ratings_matrix, n_attrs=n_attrs, max_iter=200, nmf_solver=\"mu\")\n",
        "user_topic_history = None\n",
        "item_count = None"
      ]
    },
    {
      "cell_type": "code",
      "execution_count": 40,
      "metadata": {},
      "outputs": [
        {
          "name": "stdout",
          "output_type": "stream",
          "text": [
            "[]\n"
          ]
        },
        {
          "ename": "IndexError",
          "evalue": "index 0 is out of bounds for axis 1 with size 0",
          "output_type": "error",
          "traceback": [
            "\u001b[1;31m---------------------------------------------------------------------------\u001b[0m",
            "\u001b[1;31mIndexError\u001b[0m                                Traceback (most recent call last)",
            "\u001b[1;32m~\\AppData\\Local\\Temp\\ipykernel_8172\\1174441314.py\u001b[0m in \u001b[0;36m<module>\u001b[1;34m\u001b[0m\n\u001b[0;32m     17\u001b[0m                    \u001b[0mDiversityMetric\u001b[0m\u001b[1;33m(\u001b[0m\u001b[1;33m)\u001b[0m\u001b[1;33m,\u001b[0m\u001b[1;33m\u001b[0m\u001b[1;33m\u001b[0m\u001b[0m\n\u001b[0;32m     18\u001b[0m                    \u001b[0mNoveltyMetric\u001b[0m\u001b[1;33m(\u001b[0m\u001b[1;33m)\u001b[0m\u001b[1;33m,\u001b[0m\u001b[1;33m\u001b[0m\u001b[1;33m\u001b[0m\u001b[0m\n\u001b[1;32m---> 19\u001b[1;33m                    \u001b[0mRecSimilarity\u001b[0m\u001b[1;33m(\u001b[0m\u001b[0mpairs\u001b[0m\u001b[1;33m=\u001b[0m\u001b[0muser_pairs\u001b[0m\u001b[1;33m)\u001b[0m\u001b[1;33m,\u001b[0m\u001b[1;33m\u001b[0m\u001b[1;33m\u001b[0m\u001b[0m\n\u001b[0m\u001b[0;32m     20\u001b[0m                    )\n",
            "\u001b[1;32m~\\Documents\\Projects\\fair-recommender-systems\\t-recs\\trecs\\metrics\\measurement.py\u001b[0m in \u001b[0;36madd_metrics\u001b[1;34m(self, *args)\u001b[0m\n\u001b[0;32m    278\u001b[0m         \u001b[1;31m# after adding a new metric, we always perform an initial measurement\u001b[0m\u001b[1;33m\u001b[0m\u001b[1;33m\u001b[0m\u001b[1;33m\u001b[0m\u001b[0m\n\u001b[0;32m    279\u001b[0m         \u001b[1;32mfor\u001b[0m \u001b[0mmetric\u001b[0m \u001b[1;32min\u001b[0m \u001b[0margs\u001b[0m\u001b[1;33m:\u001b[0m\u001b[1;33m\u001b[0m\u001b[1;33m\u001b[0m\u001b[0m\n\u001b[1;32m--> 280\u001b[1;33m             \u001b[0mmetric\u001b[0m\u001b[1;33m.\u001b[0m\u001b[0mmeasure\u001b[0m\u001b[1;33m(\u001b[0m\u001b[0mself\u001b[0m\u001b[1;33m)\u001b[0m\u001b[1;33m\u001b[0m\u001b[1;33m\u001b[0m\u001b[0m\n\u001b[0m\u001b[0;32m    281\u001b[0m \u001b[1;33m\u001b[0m\u001b[0m\n\u001b[0;32m    282\u001b[0m     \u001b[1;32mdef\u001b[0m \u001b[0mmeasure_content\u001b[0m\u001b[1;33m(\u001b[0m\u001b[0mself\u001b[0m\u001b[1;33m)\u001b[0m\u001b[1;33m:\u001b[0m\u001b[1;33m\u001b[0m\u001b[1;33m\u001b[0m\u001b[0m\n",
            "\u001b[1;32mc:\\Users\\Jannik\\Documents\\Projects\\fair-recommender-systems\\wrapper\\metrics\\evaluation_metrics.py\u001b[0m in \u001b[0;36mmeasure\u001b[1;34m(self, recommender)\u001b[0m\n\u001b[0;32m    117\u001b[0m         \u001b[1;32mfor\u001b[0m \u001b[0mi\u001b[0m \u001b[1;32min\u001b[0m \u001b[0mcombos\u001b[0m\u001b[1;33m:\u001b[0m\u001b[1;33m\u001b[0m\u001b[1;33m\u001b[0m\u001b[0m\n\u001b[0;32m    118\u001b[0m             \u001b[0mprint\u001b[0m\u001b[1;33m(\u001b[0m\u001b[0mitems_shown\u001b[0m\u001b[1;33m)\u001b[0m\u001b[1;33m\u001b[0m\u001b[1;33m\u001b[0m\u001b[0m\n\u001b[1;32m--> 119\u001b[1;33m             \u001b[0mitem_pair\u001b[0m \u001b[1;33m=\u001b[0m \u001b[0mitems_shown\u001b[0m\u001b[1;33m[\u001b[0m\u001b[1;33m:\u001b[0m\u001b[1;33m,\u001b[0m \u001b[0mi\u001b[0m\u001b[1;33m]\u001b[0m\u001b[1;33m\u001b[0m\u001b[1;33m\u001b[0m\u001b[0m\n\u001b[0m\u001b[0;32m    120\u001b[0m             \u001b[0mtopic_pair\u001b[0m \u001b[1;33m=\u001b[0m \u001b[0mrecommender\u001b[0m\u001b[1;33m.\u001b[0m\u001b[0mtopics\u001b[0m\u001b[1;33m[\u001b[0m\u001b[0mitem_pair\u001b[0m\u001b[1;33m]\u001b[0m\u001b[1;33m\u001b[0m\u001b[1;33m\u001b[0m\u001b[0m\n\u001b[0;32m    121\u001b[0m             \u001b[0mtopic_similarity\u001b[0m \u001b[1;33m=\u001b[0m \u001b[1;33m(\u001b[0m\u001b[0mtopic_pair\u001b[0m\u001b[1;33m[\u001b[0m\u001b[1;33m:\u001b[0m\u001b[1;33m,\u001b[0m\u001b[1;36m0\u001b[0m\u001b[1;33m]\u001b[0m \u001b[1;33m!=\u001b[0m \u001b[0mtopic_pair\u001b[0m\u001b[1;33m[\u001b[0m\u001b[1;33m:\u001b[0m\u001b[1;33m,\u001b[0m\u001b[1;36m1\u001b[0m\u001b[1;33m]\u001b[0m\u001b[1;33m)\u001b[0m\u001b[1;33m\u001b[0m\u001b[1;33m\u001b[0m\u001b[0m\n",
            "\u001b[1;31mIndexError\u001b[0m: index 0 is out of bounds for axis 1 with size 0"
          ]
        }
      ],
      "source": [
        "recsys = BubbleBurster(\n",
        "    item_topics=item_topics,\n",
        "    user_representation=user_representation,\n",
        "    item_representation=item_representation,\n",
        "    actual_user_representation=users,\n",
        "    record_base_state=True,\n",
        ")\n",
        "\n",
        "user_pairs = [(u_idx, v_idx) for u_idx in range(recsys.num_users) for v_idx in range(recsys.num_users)]\n",
        "\n",
        "mse = MSEMeasurement(diagnostics=True)\n",
        "\n",
        "recsys.add_metrics(InteractionMeasurement(),\n",
        "                   mse,\n",
        "                   InteractionSpread(),\n",
        "                   SerendipityMetric(),\n",
        "                   DiversityMetric(),\n",
        "                   NoveltyMetric(),\n",
        "                   RecSimilarity(pairs=user_pairs),\n",
        "                   )"
      ]
    },
    {
      "cell_type": "code",
      "execution_count": null,
      "metadata": {
        "colab": {
          "base_uri": "https://localhost:8080/"
        },
        "id": "yQOefImkwABn",
        "outputId": "54d4658a-d00e-41db-8ea2-d55aaa44b516"
      },
      "outputs": [
        {
          "name": "stdout",
          "output_type": "stream",
          "text": [
            "Model representation of users and items are given by:\n",
            "- An all-zeros matrix of users of dimension (943, 100)\n",
            "- A randomly generated matrix of items of dimension (100, 1682)\n"
          ]
        }
      ],
      "source": [
        "print(\"Model representation of users and items are given by:\")\n",
        "print(f\"- An all-zeros matrix of users of dimension {recsys.predicted_user_profiles.shape}\")\n",
        "print(f\"- A randomly generated matrix of items of dimension {recsys.predicted_item_attributes.shape}\")"
      ]
    },
    {
      "cell_type": "markdown",
      "metadata": {},
      "source": [
        "## Simulation"
      ]
    },
    {
      "cell_type": "code",
      "execution_count": null,
      "metadata": {
        "colab": {
          "base_uri": "https://localhost:8080/"
        },
        "id": "wVSpo-18VHH4",
        "outputId": "cef8814a-7ccb-4da1-dae9-aab8fdcad51d"
      },
      "outputs": [
        {
          "name": "stderr",
          "output_type": "stream",
          "text": [
            "100%|██████████| 100/100 [15:00<00:00,  9.01s/it]\n"
          ]
        }
      ],
      "source": [
        "recsys.startup_and_train(timesteps=100)"
      ]
    },
    {
      "cell_type": "code",
      "execution_count": null,
      "metadata": {
        "colab": {
          "base_uri": "https://localhost:8080/",
          "height": 295
        },
        "id": "SwOYonhMvBfP",
        "outputId": "107aca06-cf5d-4d5d-c522-38f5362fc80b"
      },
      "outputs": [
        {
          "data": {
            "image/png": "[encoded data removed]",
            "text/plain": [
              "<Figure size 640x480 with 1 Axes>"
            ]
          },
          "metadata": {},
          "output_type": "display_data"
        }
      ],
      "source": [
        "# for every 10 timesteps plot line in different color\n",
        "for i in range(10, 101, 10):\n",
        "    plt.plot(np.arange(recsys.num_items), sorted(measurements['interaction_histogram'][i]), label=f't={i}')\n",
        "\n",
        "plt.legend()\n",
        "plt.title(\"Interaction histogram at timestep %d (sorted by ascending # interactions)\" % timestep)\n",
        "plt.xlabel(\"Items\")\n",
        "plt.ylabel(\"# interactions\")\n",
        "plt.show()"
      ]
    },
    {
      "cell_type": "code",
      "execution_count": null,
      "metadata": {
        "colab": {
          "base_uri": "https://localhost:8080/",
          "height": 424
        },
        "id": "zbOWgfvksMs4",
        "outputId": "c770281b-05e6-4b3c-c79c-91809cd5f76a"
      },
      "outputs": [
        {
          "data": {
            "text/html": [
              "<div>\n",
              "<style scoped>\n",
              "    .dataframe tbody tr th:only-of-type {\n",
              "        vertical-align: middle;\n",
              "    }\n",
              "\n",
              "    .dataframe tbody tr th {\n",
              "        vertical-align: top;\n",
              "    }\n",
              "\n",
              "    .dataframe thead th {\n",
              "        text-align: right;\n",
              "    }\n",
              "</style>\n",
              "<table border=\"1\" class=\"dataframe\">\n",
              "  <thead>\n",
              "    <tr style=\"text-align: right;\">\n",
              "      <th></th>\n",
              "      <th>interaction_histogram</th>\n",
              "      <th>mse</th>\n",
              "      <th>interaction_spread</th>\n",
              "      <th>rec_similarity</th>\n",
              "      <th>timesteps</th>\n",
              "    </tr>\n",
              "  </thead>\n",
              "  <tbody>\n",
              "    <tr>\n",
              "      <th>0</th>\n",
              "      <td>None</td>\n",
              "      <td>0.077926</td>\n",
              "      <td>NaN</td>\n",
              "      <td>NaN</td>\n",
              "      <td>0</td>\n",
              "    </tr>\n",
              "    <tr>\n",
              "      <th>1</th>\n",
              "      <td>[2.0, 4.0, 1.0, 2.0, 0.0, 0.0, 1.0, 1.0, 1.0, ...</td>\n",
              "      <td>0.077926</td>\n",
              "      <td>-940.0</td>\n",
              "      <td>0.004164</td>\n",
              "      <td>1</td>\n",
              "    </tr>\n",
              "    <tr>\n",
              "      <th>2</th>\n",
              "      <td>[1.0, 2.0, 0.0, 1.0, 0.0, 0.0, 1.0, 1.0, 3.0, ...</td>\n",
              "      <td>0.077926</td>\n",
              "      <td>0.5</td>\n",
              "      <td>0.004155</td>\n",
              "      <td>2</td>\n",
              "    </tr>\n",
              "    <tr>\n",
              "      <th>3</th>\n",
              "      <td>[5.0, 0.0, 1.0, 0.0, 0.0, 1.0, 1.0, 1.0, 1.0, ...</td>\n",
              "      <td>0.077926</td>\n",
              "      <td>-0.5</td>\n",
              "      <td>0.004157</td>\n",
              "      <td>3</td>\n",
              "    </tr>\n",
              "    <tr>\n",
              "      <th>4</th>\n",
              "      <td>[1.0, 0.0, 1.0, 2.0, 0.0, 0.0, 1.0, 1.0, 0.0, ...</td>\n",
              "      <td>0.077926</td>\n",
              "      <td>-0.5</td>\n",
              "      <td>0.004206</td>\n",
              "      <td>4</td>\n",
              "    </tr>\n",
              "    <tr>\n",
              "      <th>...</th>\n",
              "      <td>...</td>\n",
              "      <td>...</td>\n",
              "      <td>...</td>\n",
              "      <td>...</td>\n",
              "      <td>...</td>\n",
              "    </tr>\n",
              "    <tr>\n",
              "      <th>96</th>\n",
              "      <td>[0.0, 4.0, 0.0, 1.0, 2.0, 0.0, 4.0, 1.0, 2.0, ...</td>\n",
              "      <td>0.077926</td>\n",
              "      <td>0.0</td>\n",
              "      <td>0.004172</td>\n",
              "      <td>96</td>\n",
              "    </tr>\n",
              "    <tr>\n",
              "      <th>97</th>\n",
              "      <td>[2.0, 0.0, 2.0, 1.0, 1.0, 0.0, 2.0, 1.0, 1.0, ...</td>\n",
              "      <td>0.077926</td>\n",
              "      <td>0.0</td>\n",
              "      <td>0.004226</td>\n",
              "      <td>97</td>\n",
              "    </tr>\n",
              "    <tr>\n",
              "      <th>98</th>\n",
              "      <td>[2.0, 0.0, 1.0, 0.0, 0.0, 0.0, 0.0, 1.0, 3.0, ...</td>\n",
              "      <td>0.077926</td>\n",
              "      <td>0.0</td>\n",
              "      <td>0.004173</td>\n",
              "      <td>98</td>\n",
              "    </tr>\n",
              "    <tr>\n",
              "      <th>99</th>\n",
              "      <td>[1.0, 1.0, 2.0, 3.0, 3.0, 1.0, 0.0, 1.0, 2.0, ...</td>\n",
              "      <td>0.077926</td>\n",
              "      <td>1.5</td>\n",
              "      <td>0.004217</td>\n",
              "      <td>99</td>\n",
              "    </tr>\n",
              "    <tr>\n",
              "      <th>100</th>\n",
              "      <td>[2.0, 1.0, 1.0, 0.0, 2.0, 0.0, 3.0, 2.0, 1.0, ...</td>\n",
              "      <td>0.077926</td>\n",
              "      <td>-2.0</td>\n",
              "      <td>0.004185</td>\n",
              "      <td>100</td>\n",
              "    </tr>\n",
              "  </tbody>\n",
              "</table>\n",
              "<p>101 rows × 5 columns</p>\n",
              "</div>"
            ],
            "text/plain": [
              "                                 interaction_histogram       mse  \\\n",
              "0                                                 None  0.077926   \n",
              "1    [2.0, 4.0, 1.0, 2.0, 0.0, 0.0, 1.0, 1.0, 1.0, ...  0.077926   \n",
              "2    [1.0, 2.0, 0.0, 1.0, 0.0, 0.0, 1.0, 1.0, 3.0, ...  0.077926   \n",
              "3    [5.0, 0.0, 1.0, 0.0, 0.0, 1.0, 1.0, 1.0, 1.0, ...  0.077926   \n",
              "4    [1.0, 0.0, 1.0, 2.0, 0.0, 0.0, 1.0, 1.0, 0.0, ...  0.077926   \n",
              "..                                                 ...       ...   \n",
              "96   [0.0, 4.0, 0.0, 1.0, 2.0, 0.0, 4.0, 1.0, 2.0, ...  0.077926   \n",
              "97   [2.0, 0.0, 2.0, 1.0, 1.0, 0.0, 2.0, 1.0, 1.0, ...  0.077926   \n",
              "98   [2.0, 0.0, 1.0, 0.0, 0.0, 0.0, 0.0, 1.0, 3.0, ...  0.077926   \n",
              "99   [1.0, 1.0, 2.0, 3.0, 3.0, 1.0, 0.0, 1.0, 2.0, ...  0.077926   \n",
              "100  [2.0, 1.0, 1.0, 0.0, 2.0, 0.0, 3.0, 2.0, 1.0, ...  0.077926   \n",
              "\n",
              "     interaction_spread  rec_similarity  timesteps  \n",
              "0                   NaN             NaN          0  \n",
              "1                -940.0        0.004164          1  \n",
              "2                   0.5        0.004155          2  \n",
              "3                  -0.5        0.004157          3  \n",
              "4                  -0.5        0.004206          4  \n",
              "..                  ...             ...        ...  \n",
              "96                  0.0        0.004172         96  \n",
              "97                  0.0        0.004226         97  \n",
              "98                  0.0        0.004173         98  \n",
              "99                  1.5        0.004217         99  \n",
              "100                -2.0        0.004185        100  \n",
              "\n",
              "[101 rows x 5 columns]"
            ]
          },
          "execution_count": 186,
          "metadata": {},
          "output_type": "execute_result"
        }
      ],
      "source": [
        "measurements = recsys.get_measurements()\n",
        "pd.DataFrame(measurements)\n",
        "#plot time series of mse over timesteps\n",
        "# plt.plot(measurements['mse'])"
      ]
    },
    {
      "cell_type": "code",
      "execution_count": null,
      "metadata": {
        "id": "LilaYN47C2Lj"
      },
      "outputs": [],
      "source": [
        "# print majority / minority outcome stats\n",
        "def majority_minority_outcomes(metric, split_index):\n",
        "    split_indices = [split_index]\n",
        "\n",
        "        \n",
        "    maj_mean = metric.last_observation[:split_index].mean()\n",
        "    maj_std = metric.last_observation[:split_index].std()\n",
        "\n",
        "    min_mean = metric.last_observation[split_index:].mean()\n",
        "    min_std = metric.last_observation[split_index:].std()\n",
        "\n",
        "    print(\"Majority group statistics: \", maj_mean, \"(mean), \", maj_std, \"(std)\")\n",
        "    print(\"Minority group statistics: \", min_mean, \"(mean), \", min_std, \"(std)\")\n",
        "    print()\n",
        "    \n",
        "    metric.hist(split_indices)"
      ]
    },
    {
      "cell_type": "code",
      "execution_count": null,
      "metadata": {
        "id": "4nNZlIYIH6kh"
      },
      "outputs": [],
      "source": [
        "majority_minority_outcomes(mse, )"
      ]
    }
  ],
  "metadata": {
    "colab": {
      "provenance": []
    },
    "gpuClass": "standard",
    "kernelspec": {
      "display_name": "Python 3.7.15 ('rsenv')",
      "language": "python",
      "name": "python3"
    },
    "language_info": {
      "codemirror_mode": {
        "name": "ipython",
        "version": 3
      },
      "file_extension": ".py",
      "mimetype": "text/x-python",
      "name": "python",
      "nbconvert_exporter": "python",
      "pygments_lexer": "ipython3",
      "version": "3.7.15"
    },
    "vscode": {
      "interpreter": {
        "hash": "8ff424ff1c077e7075cac16d9e16e601aa03a34fd87e9d6557d5c3f29437c7df"
      }
    }
  },
  "nbformat": 4,
  "nbformat_minor": 0
}
