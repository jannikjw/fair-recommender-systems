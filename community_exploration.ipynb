{
  "cells": [
    {
      "cell_type": "code",
      "execution_count": 10,
      "metadata": {
        "id": "lyzbdeoNVB7V"
      },
      "outputs": [],
      "source": [
        "import pandas as pd\n",
        "import matplotlib.pyplot as plt\n",
        "import numpy as np\n",
        "import networkx as nx\n",
        "import importlib as imp\n",
        "\n",
        "import src\n",
        "import trecs\n",
        "from trecs.models import ContentFiltering\n",
        "from trecs.metrics import MSEMeasurement, InteractionSpread, InteractionSpread, InteractionSimilarity, RecSimilarity, RMSEMeasurement, InteractionMeasurement\n",
        "\n",
        "random_state = np.random.seed(42)"
      ]
    },
    {
      "cell_type": "code",
      "execution_count": 11,
      "metadata": {},
      "outputs": [],
      "source": [
        "# import warnings filter\n",
        "from warnings import simplefilter\n",
        "# ignore all future warnings\n",
        "simplefilter(action='ignore', category=FutureWarning)"
      ]
    },
    {
      "cell_type": "markdown",
      "metadata": {},
      "source": [
        "## Analyzing Communities in MovieLens"
      ]
    },
    {
      "cell_type": "code",
      "execution_count": 12,
      "metadata": {},
      "outputs": [],
      "source": [
        "ratings_df = pd.read_csv('data/ml-100k/u.data', \n",
        "                 sep=\"\\t\", \n",
        "                 names=['UserID', 'MovieID', 'Rating', 'Timestamp'])"
      ]
    },
    {
      "cell_type": "code",
      "execution_count": 13,
      "metadata": {},
      "outputs": [],
      "source": [
        "# Add 1000 to every MovieID so they don't overlap with UserID\n",
        "ratings_df['MovieID'] = ratings_df['MovieID'] + 1000"
      ]
    },
    {
      "cell_type": "code",
      "execution_count": 14,
      "metadata": {},
      "outputs": [
        {
          "data": {
            "text/html": [
              "<div>\n",
              "<style scoped>\n",
              "    .dataframe tbody tr th:only-of-type {\n",
              "        vertical-align: middle;\n",
              "    }\n",
              "\n",
              "    .dataframe tbody tr th {\n",
              "        vertical-align: top;\n",
              "    }\n",
              "\n",
              "    .dataframe thead th {\n",
              "        text-align: right;\n",
              "    }\n",
              "</style>\n",
              "<table border=\"1\" class=\"dataframe\">\n",
              "  <thead>\n",
              "    <tr style=\"text-align: right;\">\n",
              "      <th></th>\n",
              "      <th>UserID</th>\n",
              "      <th>MovieID</th>\n",
              "      <th>Rating</th>\n",
              "      <th>Timestamp</th>\n",
              "    </tr>\n",
              "  </thead>\n",
              "  <tbody>\n",
              "    <tr>\n",
              "      <th>66567</th>\n",
              "      <td>1</td>\n",
              "      <td>1055</td>\n",
              "      <td>5</td>\n",
              "      <td>875072688</td>\n",
              "    </tr>\n",
              "    <tr>\n",
              "      <th>62820</th>\n",
              "      <td>1</td>\n",
              "      <td>1203</td>\n",
              "      <td>4</td>\n",
              "      <td>878542231</td>\n",
              "    </tr>\n",
              "    <tr>\n",
              "      <th>10207</th>\n",
              "      <td>1</td>\n",
              "      <td>1183</td>\n",
              "      <td>5</td>\n",
              "      <td>875072262</td>\n",
              "    </tr>\n",
              "    <tr>\n",
              "      <th>9971</th>\n",
              "      <td>1</td>\n",
              "      <td>1150</td>\n",
              "      <td>5</td>\n",
              "      <td>876892196</td>\n",
              "    </tr>\n",
              "    <tr>\n",
              "      <th>22496</th>\n",
              "      <td>1</td>\n",
              "      <td>1068</td>\n",
              "      <td>4</td>\n",
              "      <td>875072688</td>\n",
              "    </tr>\n",
              "  </tbody>\n",
              "</table>\n",
              "</div>"
            ],
            "text/plain": [
              "       UserID  MovieID  Rating  Timestamp\n",
              "66567       1     1055       5  875072688\n",
              "62820       1     1203       4  878542231\n",
              "10207       1     1183       5  875072262\n",
              "9971        1     1150       5  876892196\n",
              "22496       1     1068       4  875072688"
            ]
          },
          "execution_count": 14,
          "metadata": {},
          "output_type": "execute_result"
        }
      ],
      "source": [
        "ratings_df.sort_values('UserID').head(5)"
      ]
    },
    {
      "cell_type": "code",
      "execution_count": 15,
      "metadata": {},
      "outputs": [
        {
          "name": "stdout",
          "output_type": "stream",
          "text": [
            "MultiGraph with 2625 nodes and 100000 edges\n"
          ]
        }
      ],
      "source": [
        "graph_dct = ratings_df.groupby('UserID')['MovieID'].apply(list).to_dict()\n",
        "\n",
        "G = nx.MultiGraph(graph_dct)\n",
        "print(nx.info(G))\n",
        "\n",
        "# visualize graph\n",
        "color_map = []\n",
        "for node in G:\n",
        "    if node < 1000:\n",
        "        color_map.append('blue')\n",
        "    else: \n",
        "        color_map.append('green')      \n",
        "\n",
        "\n",
        "pos = nx.spring_layout(G)\n",
        "nx.draw(G, node_color=color_map, node_size=15, alpha=0.8)\n",
        "plt.show()"
      ]
    },
    {
      "cell_type": "code",
      "execution_count": 16,
      "metadata": {},
      "outputs": [
        {
          "data": {
            "text/plain": [
              "array([ 0,  1,  2,  3,  4,  5,  6,  7,  8,  9, 10, 11, 12, 13, 14, 15, 16,\n",
              "       17, 18, 19, 20, 21, 22, 23, 24, 25, 26, 27, 28, 29, 30, 31, 32, 33,\n",
              "       34, 35, 36, 37, 38, 39, 40, 41, 42, 43, 44, 45, 46, 47, 48, 49, 50,\n",
              "       51, 52, 53, 54, 55, 56, 57, 58, 59, 60, 61, 62, 63, 64, 65, 66, 67,\n",
              "       68, 69, 70, 71, 72, 73, 74, 75, 76, 77, 78, 79, 80, 81])"
            ]
          },
          "execution_count": 16,
          "metadata": {},
          "output_type": "execute_result"
        }
      ],
      "source": [
        "from community import community_louvain\n",
        "\n",
        "comms = community_louvain.best_partition(G, resolution=2.5)\n",
        "\n",
        "unique_coms = np.unique(list(comms.values()))\n",
        "unique_coms"
      ]
    },
    {
      "cell_type": "code",
      "execution_count": 17,
      "metadata": {},
      "outputs": [],
      "source": [
        "cmap = {\n",
        "    0 : 'maroon',\n",
        "    1 : 'teal',\n",
        "    2 : 'black', \n",
        "    3 : 'orange',\n",
        "    4 : 'green',\n",
        "    5 : 'yellow'\n",
        "}\n",
        "\n",
        "node_cmap = [cmap[v] for _,v in comms.items()]\n",
        "\n",
        "pos = nx.spring_layout(G)\n",
        "nx.draw(G, pos, node_size = 10, alpha = 0.8, node_color=node_cmap)\n",
        "plt.show()"
      ]
    },
    {
      "cell_type": "code",
      "execution_count": 18,
      "metadata": {},
      "outputs": [],
      "source": [
        "# Add comms to ratings_df as column communtyID\n",
        "for i in range(len(ratings_df)):\n",
        "    ratings_df.loc[i, 'communityID'] = comms[ratings_df.loc[i, 'UserID']]"
      ]
    },
    {
      "cell_type": "code",
      "execution_count": null,
      "metadata": {},
      "outputs": [
        {
          "data": {
            "text/html": [
              "<div>\n",
              "<style scoped>\n",
              "    .dataframe tbody tr th:only-of-type {\n",
              "        vertical-align: middle;\n",
              "    }\n",
              "\n",
              "    .dataframe tbody tr th {\n",
              "        vertical-align: top;\n",
              "    }\n",
              "\n",
              "    .dataframe thead th {\n",
              "        text-align: right;\n",
              "    }\n",
              "</style>\n",
              "<table border=\"1\" class=\"dataframe\">\n",
              "  <thead>\n",
              "    <tr style=\"text-align: right;\">\n",
              "      <th></th>\n",
              "      <th>UserID</th>\n",
              "      <th>MovieID</th>\n",
              "      <th>Rating</th>\n",
              "      <th>Timestamp</th>\n",
              "      <th>communityID</th>\n",
              "    </tr>\n",
              "  </thead>\n",
              "  <tbody>\n",
              "    <tr>\n",
              "      <th>0</th>\n",
              "      <td>196</td>\n",
              "      <td>1242</td>\n",
              "      <td>3</td>\n",
              "      <td>881250949</td>\n",
              "      <td>1.0</td>\n",
              "    </tr>\n",
              "    <tr>\n",
              "      <th>1</th>\n",
              "      <td>186</td>\n",
              "      <td>1302</td>\n",
              "      <td>3</td>\n",
              "      <td>891717742</td>\n",
              "      <td>31.0</td>\n",
              "    </tr>\n",
              "    <tr>\n",
              "      <th>2</th>\n",
              "      <td>22</td>\n",
              "      <td>1377</td>\n",
              "      <td>1</td>\n",
              "      <td>878887116</td>\n",
              "      <td>13.0</td>\n",
              "    </tr>\n",
              "    <tr>\n",
              "      <th>3</th>\n",
              "      <td>244</td>\n",
              "      <td>1051</td>\n",
              "      <td>2</td>\n",
              "      <td>880606923</td>\n",
              "      <td>55.0</td>\n",
              "    </tr>\n",
              "    <tr>\n",
              "      <th>4</th>\n",
              "      <td>166</td>\n",
              "      <td>1346</td>\n",
              "      <td>1</td>\n",
              "      <td>886397596</td>\n",
              "      <td>2.0</td>\n",
              "    </tr>\n",
              "  </tbody>\n",
              "</table>\n",
              "</div>"
            ],
            "text/plain": [
              "   UserID  MovieID  Rating  Timestamp  communityID\n",
              "0     196     1242       3  881250949          1.0\n",
              "1     186     1302       3  891717742         31.0\n",
              "2      22     1377       1  878887116         13.0\n",
              "3     244     1051       2  880606923         55.0\n",
              "4     166     1346       1  886397596          2.0"
            ]
          },
          "execution_count": 10,
          "metadata": {},
          "output_type": "execute_result"
        }
      ],
      "source": [
        "ratings_df.head(5)"
      ]
    },
    {
      "cell_type": "code",
      "execution_count": null,
      "metadata": {},
      "outputs": [
        {
          "data": {
            "text/plain": [
              "Text(0, 0.5, 'Number of Movies')"
            ]
          },
          "execution_count": 11,
          "metadata": {},
          "output_type": "execute_result"
        },
        {
          "data": {
            "image/png": "[encoded data removed]",
            "text/plain": [
              "<Figure size 1500x300 with 2 Axes>"
            ]
          },
          "metadata": {},
          "output_type": "display_data"
        }
      ],
      "source": [
        "fig, ax = plt.subplots(1, 2, figsize=(15, 3))\n",
        "ratings_df.groupby('communityID')['UserID'].nunique().plot(kind='bar', ax=ax[0])\n",
        "ratings_df.groupby('communityID')['MovieID'].nunique().plot(kind='bar', ax=ax[1])\n",
        "\n",
        "ax[0].set_title('Community Size by User')\n",
        "ax[0].set_xlabel('Community ID')\n",
        "ax[0].set_ylabel('Number of Users')\n",
        "ax[1].set_title('Community Size by Movie')\n",
        "ax[1].set_xlabel('Community ID')\n",
        "ax[1].set_ylabel('Number of Movies')"
      ]
    },
    {
      "cell_type": "code",
      "execution_count": null,
      "metadata": {},
      "outputs": [
        {
          "data": {
            "text/plain": [
              "Text(0.5, 1.0, 'Number of reached Communities')"
            ]
          },
          "execution_count": 12,
          "metadata": {},
          "output_type": "execute_result"
        },
        {
          "data": {
            "image/png": "[encoded data removed]",
            "text/plain": [
              "<Figure size 1000x500 with 1 Axes>"
            ]
          },
          "metadata": {},
          "output_type": "display_data"
        }
      ],
      "source": [
        "num_movies = len(np.unique(ratings_df['MovieID']))\n",
        "temp = ratings_df.groupby('MovieID')['communityID'].nunique().sort_values(ascending=True)\n",
        "#group temp by value\n",
        "temp = temp.groupby(temp.values).count()\n",
        "#divide values of temp by num_movies\n",
        "temp = temp/num_movies * 100\n",
        "#create bar chart of temp in descending order\n",
        "temp.plot(kind='bar', figsize=(10, 5))\n",
        "# add axes\n",
        "plt.xlabel('Number of reached Communities')\n",
        "plt.ylabel('Percentage of Movies')\n",
        "plt.title('Number of reached Communities')"
      ]
    },
    {
      "cell_type": "code",
      "execution_count": null,
      "metadata": {},
      "outputs": [
        {
          "data": {
            "text/html": [
              "<div>\n",
              "<style scoped>\n",
              "    .dataframe tbody tr th:only-of-type {\n",
              "        vertical-align: middle;\n",
              "    }\n",
              "\n",
              "    .dataframe tbody tr th {\n",
              "        vertical-align: top;\n",
              "    }\n",
              "\n",
              "    .dataframe thead th {\n",
              "        text-align: right;\n",
              "    }\n",
              "</style>\n",
              "<table border=\"1\" class=\"dataframe\">\n",
              "  <thead>\n",
              "    <tr style=\"text-align: right;\">\n",
              "      <th></th>\n",
              "      <th>movie_id</th>\n",
              "      <th>title</th>\n",
              "      <th>release_date</th>\n",
              "      <th>video_release_date</th>\n",
              "      <th>IMDb_URL</th>\n",
              "      <th>unknown</th>\n",
              "      <th>Action</th>\n",
              "      <th>Adventure</th>\n",
              "      <th>Animation</th>\n",
              "      <th>Childrens</th>\n",
              "      <th>...</th>\n",
              "      <th>Fantasy</th>\n",
              "      <th>Film-Noir</th>\n",
              "      <th>Horror</th>\n",
              "      <th>Musical</th>\n",
              "      <th>Mystery</th>\n",
              "      <th>Romance</th>\n",
              "      <th>Sci-Fi</th>\n",
              "      <th>Thriller</th>\n",
              "      <th>War</th>\n",
              "      <th>Western</th>\n",
              "    </tr>\n",
              "  </thead>\n",
              "  <tbody>\n",
              "    <tr>\n",
              "      <th>0</th>\n",
              "      <td>1</td>\n",
              "      <td>Toy Story (1995)</td>\n",
              "      <td>01-Jan-1995</td>\n",
              "      <td>NaN</td>\n",
              "      <td>http://us.imdb.com/M/title-exact?Toy%20Story%2...</td>\n",
              "      <td>0</td>\n",
              "      <td>0</td>\n",
              "      <td>0</td>\n",
              "      <td>1</td>\n",
              "      <td>1</td>\n",
              "      <td>...</td>\n",
              "      <td>0</td>\n",
              "      <td>0</td>\n",
              "      <td>0</td>\n",
              "      <td>0</td>\n",
              "      <td>0</td>\n",
              "      <td>0</td>\n",
              "      <td>0</td>\n",
              "      <td>0</td>\n",
              "      <td>0</td>\n",
              "      <td>0</td>\n",
              "    </tr>\n",
              "    <tr>\n",
              "      <th>1</th>\n",
              "      <td>2</td>\n",
              "      <td>GoldenEye (1995)</td>\n",
              "      <td>01-Jan-1995</td>\n",
              "      <td>NaN</td>\n",
              "      <td>http://us.imdb.com/M/title-exact?GoldenEye%20(...</td>\n",
              "      <td>0</td>\n",
              "      <td>1</td>\n",
              "      <td>1</td>\n",
              "      <td>0</td>\n",
              "      <td>0</td>\n",
              "      <td>...</td>\n",
              "      <td>0</td>\n",
              "      <td>0</td>\n",
              "      <td>0</td>\n",
              "      <td>0</td>\n",
              "      <td>0</td>\n",
              "      <td>0</td>\n",
              "      <td>0</td>\n",
              "      <td>1</td>\n",
              "      <td>0</td>\n",
              "      <td>0</td>\n",
              "    </tr>\n",
              "  </tbody>\n",
              "</table>\n",
              "<p>2 rows × 24 columns</p>\n",
              "</div>"
            ],
            "text/plain": [
              "   movie_id             title release_date  video_release_date  \\\n",
              "0         1  Toy Story (1995)  01-Jan-1995                 NaN   \n",
              "1         2  GoldenEye (1995)  01-Jan-1995                 NaN   \n",
              "\n",
              "                                            IMDb_URL  unknown  Action  \\\n",
              "0  http://us.imdb.com/M/title-exact?Toy%20Story%2...        0       0   \n",
              "1  http://us.imdb.com/M/title-exact?GoldenEye%20(...        0       1   \n",
              "\n",
              "   Adventure  Animation  Childrens  ...  Fantasy  Film-Noir  Horror  Musical  \\\n",
              "0          0          1          1  ...        0          0       0        0   \n",
              "1          1          0          0  ...        0          0       0        0   \n",
              "\n",
              "   Mystery  Romance  Sci-Fi  Thriller  War  Western  \n",
              "0        0        0       0         0    0        0  \n",
              "1        0        0       0         1    0        0  \n",
              "\n",
              "[2 rows x 24 columns]"
            ]
          },
          "metadata": {},
          "output_type": "display_data"
        },
        {
          "name": "stdout",
          "output_type": "stream",
          "text": [
            "(1682, 24)\n"
          ]
        }
      ],
      "source": [
        "movie_cols = ['movie_id', 'title', 'release_date', 'video_release_date', 'IMDb_URL', 'unknown', 'Action', 'Adventure', 'Animation', 'Childrens', 'Comedy', 'Crime', 'Documentary', 'Drama', 'Fantasy', 'Film-Noir', 'Horror', 'Musical', 'Mystery', 'Romance', 'Sci-Fi', 'Thriller', 'War', 'Western']\n",
        "\n",
        "movies_df = pd.read_csv('data/ml-100k/u.item', sep=\"|\", names=movie_cols, encoding='latin')\n",
        "\n",
        "display(movies_df.head(2))\n",
        "print(movies_df.shape)"
      ]
    },
    {
      "cell_type": "code",
      "execution_count": null,
      "metadata": {},
      "outputs": [
        {
          "data": {
            "text/html": [
              "<div>\n",
              "<style scoped>\n",
              "    .dataframe tbody tr th:only-of-type {\n",
              "        vertical-align: middle;\n",
              "    }\n",
              "\n",
              "    .dataframe tbody tr th {\n",
              "        vertical-align: top;\n",
              "    }\n",
              "\n",
              "    .dataframe thead th {\n",
              "        text-align: right;\n",
              "    }\n",
              "</style>\n",
              "<table border=\"1\" class=\"dataframe\">\n",
              "  <thead>\n",
              "    <tr style=\"text-align: right;\">\n",
              "      <th></th>\n",
              "      <th>UserID</th>\n",
              "      <th>MovieID</th>\n",
              "      <th>Action</th>\n",
              "      <th>Adventure</th>\n",
              "      <th>Animation</th>\n",
              "      <th>Childrens</th>\n",
              "      <th>Comedy</th>\n",
              "      <th>Crime</th>\n",
              "      <th>Documentary</th>\n",
              "      <th>Drama</th>\n",
              "      <th>Fantasy</th>\n",
              "      <th>Film-Noir</th>\n",
              "      <th>Horror</th>\n",
              "      <th>Musical</th>\n",
              "      <th>Mystery</th>\n",
              "      <th>Romance</th>\n",
              "      <th>Sci-Fi</th>\n",
              "      <th>Thriller</th>\n",
              "      <th>War</th>\n",
              "      <th>Western</th>\n",
              "    </tr>\n",
              "    <tr>\n",
              "      <th>communityID</th>\n",
              "      <th></th>\n",
              "      <th></th>\n",
              "      <th></th>\n",
              "      <th></th>\n",
              "      <th></th>\n",
              "      <th></th>\n",
              "      <th></th>\n",
              "      <th></th>\n",
              "      <th></th>\n",
              "      <th></th>\n",
              "      <th></th>\n",
              "      <th></th>\n",
              "      <th></th>\n",
              "      <th></th>\n",
              "      <th></th>\n",
              "      <th></th>\n",
              "      <th></th>\n",
              "      <th></th>\n",
              "      <th></th>\n",
              "      <th></th>\n",
              "    </tr>\n",
              "  </thead>\n",
              "  <tbody>\n",
              "    <tr>\n",
              "      <th>0.0</th>\n",
              "      <td>272</td>\n",
              "      <td>309128</td>\n",
              "      <td>26</td>\n",
              "      <td>14</td>\n",
              "      <td>6</td>\n",
              "      <td>15</td>\n",
              "      <td>94</td>\n",
              "      <td>22</td>\n",
              "      <td>10</td>\n",
              "      <td>122</td>\n",
              "      <td>3</td>\n",
              "      <td>1</td>\n",
              "      <td>5</td>\n",
              "      <td>8</td>\n",
              "      <td>7</td>\n",
              "      <td>35</td>\n",
              "      <td>7</td>\n",
              "      <td>30</td>\n",
              "      <td>6</td>\n",
              "      <td>3</td>\n",
              "    </tr>\n",
              "    <tr>\n",
              "      <th>1.0</th>\n",
              "      <td>1387502</td>\n",
              "      <td>3651341</td>\n",
              "      <td>293</td>\n",
              "      <td>157</td>\n",
              "      <td>14</td>\n",
              "      <td>99</td>\n",
              "      <td>947</td>\n",
              "      <td>167</td>\n",
              "      <td>71</td>\n",
              "      <td>1401</td>\n",
              "      <td>26</td>\n",
              "      <td>36</td>\n",
              "      <td>31</td>\n",
              "      <td>117</td>\n",
              "      <td>80</td>\n",
              "      <td>496</td>\n",
              "      <td>67</td>\n",
              "      <td>361</td>\n",
              "      <td>74</td>\n",
              "      <td>11</td>\n",
              "    </tr>\n",
              "    <tr>\n",
              "      <th>2.0</th>\n",
              "      <td>3176548</td>\n",
              "      <td>8379449</td>\n",
              "      <td>382</td>\n",
              "      <td>86</td>\n",
              "      <td>10</td>\n",
              "      <td>138</td>\n",
              "      <td>2223</td>\n",
              "      <td>252</td>\n",
              "      <td>342</td>\n",
              "      <td>3232</td>\n",
              "      <td>96</td>\n",
              "      <td>151</td>\n",
              "      <td>70</td>\n",
              "      <td>223</td>\n",
              "      <td>159</td>\n",
              "      <td>1267</td>\n",
              "      <td>41</td>\n",
              "      <td>374</td>\n",
              "      <td>48</td>\n",
              "      <td>12</td>\n",
              "    </tr>\n",
              "    <tr>\n",
              "      <th>3.0</th>\n",
              "      <td>1226379</td>\n",
              "      <td>4783174</td>\n",
              "      <td>323</td>\n",
              "      <td>100</td>\n",
              "      <td>59</td>\n",
              "      <td>184</td>\n",
              "      <td>1106</td>\n",
              "      <td>193</td>\n",
              "      <td>146</td>\n",
              "      <td>1837</td>\n",
              "      <td>29</td>\n",
              "      <td>26</td>\n",
              "      <td>70</td>\n",
              "      <td>88</td>\n",
              "      <td>82</td>\n",
              "      <td>535</td>\n",
              "      <td>65</td>\n",
              "      <td>358</td>\n",
              "      <td>106</td>\n",
              "      <td>32</td>\n",
              "    </tr>\n",
              "    <tr>\n",
              "      <th>4.0</th>\n",
              "      <td>60271</td>\n",
              "      <td>127064</td>\n",
              "      <td>8</td>\n",
              "      <td>5</td>\n",
              "      <td>2</td>\n",
              "      <td>3</td>\n",
              "      <td>27</td>\n",
              "      <td>3</td>\n",
              "      <td>5</td>\n",
              "      <td>49</td>\n",
              "      <td>2</td>\n",
              "      <td>2</td>\n",
              "      <td>2</td>\n",
              "      <td>6</td>\n",
              "      <td>1</td>\n",
              "      <td>12</td>\n",
              "      <td>5</td>\n",
              "      <td>10</td>\n",
              "      <td>3</td>\n",
              "      <td>0</td>\n",
              "    </tr>\n",
              "  </tbody>\n",
              "</table>\n",
              "</div>"
            ],
            "text/plain": [
              "              UserID  MovieID  Action  Adventure  Animation  Childrens  \\\n",
              "communityID                                                              \n",
              "0.0              272   309128      26         14          6         15   \n",
              "1.0          1387502  3651341     293        157         14         99   \n",
              "2.0          3176548  8379449     382         86         10        138   \n",
              "3.0          1226379  4783174     323        100         59        184   \n",
              "4.0            60271   127064       8          5          2          3   \n",
              "\n",
              "             Comedy  Crime  Documentary  Drama  Fantasy  Film-Noir  Horror  \\\n",
              "communityID                                                                  \n",
              "0.0              94     22           10    122        3          1       5   \n",
              "1.0             947    167           71   1401       26         36      31   \n",
              "2.0            2223    252          342   3232       96        151      70   \n",
              "3.0            1106    193          146   1837       29         26      70   \n",
              "4.0              27      3            5     49        2          2       2   \n",
              "\n",
              "             Musical  Mystery  Romance  Sci-Fi  Thriller  War  Western  \n",
              "communityID                                                             \n",
              "0.0                8        7       35       7        30    6        3  \n",
              "1.0              117       80      496      67       361   74       11  \n",
              "2.0              223      159     1267      41       374   48       12  \n",
              "3.0               88       82      535      65       358  106       32  \n",
              "4.0                6        1       12       5        10    3        0  "
            ]
          },
          "execution_count": 14,
          "metadata": {},
          "output_type": "execute_result"
        }
      ],
      "source": [
        "# join ratings_df and movies_df on movie_id\n",
        "large_df = ratings_df.merge(movies_df, left_on='MovieID', right_on='movie_id')\n",
        "large_df = large_df.drop(columns=['movie_id', 'release_date', 'video_release_date', 'Timestamp', 'Rating', 'title', 'IMDb_URL', 'unknown'])\n",
        "\n",
        "large_df.head(2)\n",
        "# group by communityID and sum all genre columns\n",
        "genre_df = large_df.groupby('communityID').sum()\n",
        "genre_df.head(5)\n",
        "# for each communityID list the most common genre\n",
        "# genre_df.drop(columns=['MovieID', 'UserID', 'Drama']).idxmax(axis=1)"
      ]
    },
    {
      "cell_type": "code",
      "execution_count": null,
      "metadata": {},
      "outputs": [
        {
          "data": {
            "text/plain": [
              "<AxesSubplot:xlabel='MovieID'>"
            ]
          },
          "execution_count": 15,
          "metadata": {},
          "output_type": "execute_result"
        },
        {
          "data": {
            "image/png": "[encoded data removed]",
            "text/plain": [
              "<Figure size 1500x500 with 1 Axes>"
            ]
          },
          "metadata": {},
          "output_type": "display_data"
        }
      ],
      "source": [
        "# create graph of number of interactions per movie\n",
        "ratings_df.groupby('MovieID')['UserID'].count().plot(kind='bar', figsize=(15, 5))"
      ]
    }
  ],
  "metadata": {
    "colab": {
      "provenance": []
    },
    "gpuClass": "standard",
    "kernelspec": {
      "display_name": "Python 3.7.15 ('rsenv')",
      "language": "python",
      "name": "python3"
    },
    "language_info": {
      "codemirror_mode": {
        "name": "ipython",
        "version": 3
      },
      "file_extension": ".py",
      "mimetype": "text/x-python",
      "name": "python",
      "nbconvert_exporter": "python",
      "pygments_lexer": "ipython3",
      "version": "3.7.15"
    },
    "vscode": {
      "interpreter": {
        "hash": "8ff424ff1c077e7075cac16d9e16e601aa03a34fd87e9d6557d5c3f29437c7df"
      }
    }
  },
  "nbformat": 4,
  "nbformat_minor": 0
}
