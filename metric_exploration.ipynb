{
 "cells": [
  {
   "cell_type": "markdown",
   "metadata": {},
   "source": [
    "# Setup"
   ]
  },
  {
   "cell_type": "code",
   "execution_count": 1,
   "metadata": {},
   "outputs": [
    {
     "name": "stderr",
     "output_type": "stream",
     "text": [
      "/var/folders/sm/hcy50x855gvf2b1qwkjstnvh0000gn/T/ipykernel_12164/2532379127.py:26: MatplotlibDeprecationWarning: The seaborn styles shipped by Matplotlib are deprecated since 3.6, as they no longer correspond to the styles shipped by seaborn. However, they will remain available as 'seaborn-v0_8-<style>'. Alternatively, directly use the seaborn API instead.\n",
      "  plt.style.use(\"seaborn\")\n"
     ]
    }
   ],
   "source": [
    "import pandas as pd\n",
    "import matplotlib.pyplot as plt\n",
    "from matplotlib import style\n",
    "import numpy as np\n",
    "import pickle\n",
    "import os\n",
    "from sklearn.decomposition import NMF, PCA\n",
    "from sklearn.cluster import KMeans\n",
    "from importlib import reload\n",
    "import seaborn as sns\n",
    "\n",
    "import sys\n",
    "sys.path.insert(1, '../t-recs/')\n",
    "from trecs.metrics import MSEMeasurement, InteractionSpread, InteractionSpread, InteractionSimilarity, RecSimilarity, RMSEMeasurement, InteractionMeasurement\n",
    "from trecs.components import Users\n",
    "import trecs.matrix_ops as mo\n",
    "\n",
    "import src.globals as globals\n",
    "from wrapper.models.bubble import BubbleBurster\n",
    "from src.utils import get_topic_clusters, create_embeddings, load_or_create_measurements_df, load_and_process_movielens, collect_parameters, load_measurements\n",
    "from src.scoring_functions import cosine_sim, entropy, content_fairness\n",
    "from wrapper.metrics.evaluation_metrics import SerendipityMetric, DiversityMetric, NoveltyMetric, RecallMeasurement, UserMSEMeasurement\n",
    "import src.globals as globals\n",
    "\n",
    "random_state = np.random.seed(42)\n",
    "plt.style.use(\"seaborn\")\n",
    "\n",
    "# import warnings filter\n",
    "from warnings import simplefilter\n",
    "# ignore all future warnings\n",
    "simplefilter(action='ignore', category=FutureWarning)\n",
    "\n",
    "globals.initialize()"
   ]
  },
  {
   "cell_type": "code",
   "execution_count": 2,
   "metadata": {},
   "outputs": [
    {
     "name": "stdout",
     "output_type": "stream",
     "text": [
      "Loaded embeddings.\n",
      "Loaded clusters.\n"
     ]
    }
   ],
   "source": [
    "n_attrs=20\n",
    "max_iter=1000\n",
    "n_clusters=20\n",
    "\n",
    "binary_ratings_matrix = load_and_process_movielens(file_path='data/ml-100k/u.data')\n",
    "\n",
    "# Get user and item representations using NMF\n",
    "user_representation, item_representation = create_embeddings(binary_ratings_matrix, n_attrs=n_attrs, max_iter=max_iter)\n",
    "\n",
    "# Define topic clusters using NMF\n",
    "item_topics = get_topic_clusters(binary_ratings_matrix, n_clusters=n_clusters, n_attrs=n_attrs, max_iter=max_iter)"
   ]
  },
  {
   "cell_type": "code",
   "execution_count": 3,
   "metadata": {},
   "outputs": [
    {
     "name": "stdout",
     "output_type": "stream",
     "text": [
      "Calculating clusters...\n",
      "(943, 943)\n",
      "Calculated clusters.\n"
     ]
    }
   ],
   "source": [
    "# Create user clusters based off how often they interacted with the same item\n",
    "print('Calculating clusters...')\n",
    "co_occurence_matrix = binary_ratings_matrix @ binary_ratings_matrix.T\n",
    "print(co_occurence_matrix.shape)\n",
    "\n",
    "# Matrix factorize co_occurence_matrix to get embeddings\n",
    "nmf_cooc = NMF(n_components=n_attrs, max_iter=max_iter)\n",
    "W_topics = nmf_cooc.fit_transform(co_occurence_matrix)\n",
    "\n",
    "# cluster W_topics\n",
    "cluster_ids = KMeans(n_clusters=n_clusters, max_iter=max_iter, random_state=random_state).fit_predict(W_topics)\n",
    "\n",
    "print('Calculated clusters.')"
   ]
  },
  {
   "cell_type": "markdown",
   "metadata": {},
   "source": [
    "# Simulation"
   ]
  },
  {
   "cell_type": "code",
   "execution_count": 4,
   "metadata": {},
   "outputs": [],
   "source": [
    "score_fn = ''\n",
    "probabilistic = False\n",
    "globals.ALPHA = 0.2\n",
    "alpha = globals.ALPHA\n",
    "\n",
    "# User parameters\n",
    "drift = 0.2\n",
    "attention_exp=1.5\n",
    "pair_all=False"
   ]
  },
  {
   "cell_type": "code",
   "execution_count": 5,
   "metadata": {},
   "outputs": [
    {
     "name": "stdout",
     "output_type": "stream",
     "text": [
      "Number of items: 20\n",
      "Number of users: 943\n",
      "Number of user pairs: 769020\n"
     ]
    }
   ],
   "source": [
    "num_users = len(user_representation)\n",
    "num_items = len(item_representation)\n",
    "print(f'Number of items: {num_items}')\n",
    "print(f'Number of users: {num_users}')\n",
    "\n",
    "if pair_all:\n",
    "    # All possible user pairs\n",
    "    user_pairs = [(u_idx, v_idx) for u_idx in range(len(user_representation)) for v_idx in range(len(user_representation))]\n",
    "\n",
    "else:\n",
    "    # create user_pairs by pairing users only with others that are not in the same cluster\n",
    "    user_pairs = []\n",
    "    for u_idx in range(num_users):\n",
    "        for v_idx in range(num_users):\n",
    "            if cluster_ids[u_idx] != cluster_ids[v_idx]:\n",
    "                user_pairs.append((u_idx, v_idx))\n",
    "print(f'Number of user pairs: {len(user_pairs)}')\n",
    "                \n",
    "users = Users(actual_user_profiles=user_representation, \n",
    "              repeat_interactions=False, \n",
    "              drift=drift,\n",
    "              attention_exp=attention_exp)"
   ]
  },
  {
   "cell_type": "code",
   "execution_count": 6,
   "metadata": {},
   "outputs": [],
   "source": [
    "mse = MSEMeasurement()\n",
    "measurements_list = [\n",
    "    InteractionMeasurement(), \n",
    "    MSEMeasurement(),  \n",
    "    InteractionSpread(), \n",
    "    InteractionSimilarity(pairs=user_pairs), \n",
    "    RecSimilarity(pairs=user_pairs), \n",
    "    SerendipityMetric(), \n",
    "    DiversityMetric(), \n",
    "    NoveltyMetric(),\n",
    "    RecallMeasurement(),\n",
    "    UserMSEMeasurement(),\n",
    "]"
   ]
  },
  {
   "cell_type": "code",
   "execution_count": 7,
   "metadata": {},
   "outputs": [],
   "source": [
    "# Model\n",
    "config = {\n",
    "    'actual_user_representation': users,\n",
    "    'actual_item_representation': item_representation,\n",
    "    'item_topics': item_topics,\n",
    "    'num_attributes': n_attrs,\n",
    "    'num_items_per_iter': 10,\n",
    "    'seed': 42,\n",
    "    'record_base_state': True,\n",
    "}\n",
    "\n",
    "model_name='myopic'\n",
    "requires_alpha = False\n",
    "\n",
    "if score_fn:\n",
    "    if score_fn == 'cosine_sim':\n",
    "        config['score_fn'] = cosine_sim\n",
    "        requires_alpha = True\n",
    "    elif score_fn == 'entropy':\n",
    "        config['score_fn'] = entropy\n",
    "        requires_alpha = True\n",
    "    elif score_fn == 'content_fairness':\n",
    "        config['score_fn'] = content_fairness        \n",
    "    else:\n",
    "        raise Exception('Given score function does not exist.')\n",
    "    model_name = score_fn\n",
    "\n",
    "if probabilistic:\n",
    "    config['probabilistic_recommendations'] = True\n",
    "    model_name += '_prob'"
   ]
  },
  {
   "cell_type": "code",
   "execution_count": 8,
   "metadata": {},
   "outputs": [
    {
     "name": "stdout",
     "output_type": "stream",
     "text": [
      "Model representation of users and items are given by:\n",
      "- An all-zeros matrix of users of dimension (943, 20)\n",
      "- A randomly generated matrix of items of dimension (20, 1682)\n"
     ]
    }
   ],
   "source": [
    "model = BubbleBurster(**config)\n",
    "\n",
    "model.add_metrics(*measurements_list)\n",
    "\n",
    "print(\"Model representation of users and items are given by:\")\n",
    "print(f\"- An all-zeros matrix of users of dimension {model.predicted_user_profiles.shape}\")\n",
    "print(f\"- A randomly generated matrix of items of dimension {model.predicted_item_attributes.shape}\")"
   ]
  },
  {
   "cell_type": "code",
   "execution_count": 9,
   "metadata": {},
   "outputs": [
    {
     "name": "stderr",
     "output_type": "stream",
     "text": [
      "100%|██████████| 5/5 [00:17<00:00,  3.48s/it]\n"
     ]
    }
   ],
   "source": [
    "# Fair Model\n",
    "train_timesteps=5\n",
    "model.startup_and_train(timesteps=train_timesteps)"
   ]
  },
  {
   "cell_type": "code",
   "execution_count": 10,
   "metadata": {},
   "outputs": [
    {
     "name": "stderr",
     "output_type": "stream",
     "text": [
      "  0%|          | 0/20 [00:00<?, ?it/s]"
     ]
    },
    {
     "name": "stdout",
     "output_type": "stream",
     "text": [
      "(943, 10)\n"
     ]
    },
    {
     "name": "stderr",
     "output_type": "stream",
     "text": [
      "  5%|▌         | 1/20 [00:05<01:37,  5.15s/it]"
     ]
    },
    {
     "name": "stdout",
     "output_type": "stream",
     "text": [
      "(943, 10)\n"
     ]
    },
    {
     "name": "stderr",
     "output_type": "stream",
     "text": [
      " 10%|█         | 2/20 [00:10<01:32,  5.14s/it]"
     ]
    },
    {
     "name": "stdout",
     "output_type": "stream",
     "text": [
      "(943, 10)\n"
     ]
    },
    {
     "name": "stderr",
     "output_type": "stream",
     "text": [
      " 15%|█▌        | 3/20 [00:15<01:28,  5.19s/it]"
     ]
    },
    {
     "name": "stdout",
     "output_type": "stream",
     "text": [
      "(943, 10)\n"
     ]
    },
    {
     "name": "stderr",
     "output_type": "stream",
     "text": [
      " 20%|██        | 4/20 [00:20<01:23,  5.24s/it]"
     ]
    },
    {
     "name": "stdout",
     "output_type": "stream",
     "text": [
      "(943, 10)\n"
     ]
    },
    {
     "name": "stderr",
     "output_type": "stream",
     "text": [
      " 25%|██▌       | 5/20 [00:26<01:20,  5.34s/it]"
     ]
    },
    {
     "name": "stdout",
     "output_type": "stream",
     "text": [
      "(943, 10)\n"
     ]
    },
    {
     "name": "stderr",
     "output_type": "stream",
     "text": [
      " 30%|███       | 6/20 [00:32<01:17,  5.51s/it]"
     ]
    },
    {
     "name": "stdout",
     "output_type": "stream",
     "text": [
      "(943, 10)\n"
     ]
    },
    {
     "name": "stderr",
     "output_type": "stream",
     "text": [
      " 35%|███▌      | 7/20 [00:38<01:13,  5.62s/it]"
     ]
    },
    {
     "name": "stdout",
     "output_type": "stream",
     "text": [
      "(943, 10)\n"
     ]
    },
    {
     "name": "stderr",
     "output_type": "stream",
     "text": [
      " 40%|████      | 8/20 [00:43<01:08,  5.70s/it]"
     ]
    },
    {
     "name": "stdout",
     "output_type": "stream",
     "text": [
      "(943, 10)\n"
     ]
    },
    {
     "name": "stderr",
     "output_type": "stream",
     "text": [
      " 45%|████▌     | 9/20 [00:49<01:03,  5.77s/it]"
     ]
    },
    {
     "name": "stdout",
     "output_type": "stream",
     "text": [
      "(943, 10)\n"
     ]
    },
    {
     "name": "stderr",
     "output_type": "stream",
     "text": [
      " 50%|█████     | 10/20 [00:55<00:58,  5.86s/it]"
     ]
    },
    {
     "name": "stdout",
     "output_type": "stream",
     "text": [
      "(943, 10)\n"
     ]
    },
    {
     "name": "stderr",
     "output_type": "stream",
     "text": [
      " 55%|█████▌    | 11/20 [01:02<00:53,  5.95s/it]"
     ]
    },
    {
     "name": "stdout",
     "output_type": "stream",
     "text": [
      "(943, 10)\n"
     ]
    },
    {
     "name": "stderr",
     "output_type": "stream",
     "text": [
      " 60%|██████    | 12/20 [01:08<00:48,  6.03s/it]"
     ]
    },
    {
     "name": "stdout",
     "output_type": "stream",
     "text": [
      "(943, 10)\n"
     ]
    },
    {
     "name": "stderr",
     "output_type": "stream",
     "text": [
      " 65%|██████▌   | 13/20 [01:14<00:42,  6.10s/it]"
     ]
    },
    {
     "name": "stdout",
     "output_type": "stream",
     "text": [
      "(943, 10)\n"
     ]
    },
    {
     "name": "stderr",
     "output_type": "stream",
     "text": [
      " 70%|███████   | 14/20 [01:21<00:37,  6.33s/it]"
     ]
    },
    {
     "name": "stdout",
     "output_type": "stream",
     "text": [
      "(943, 10)\n"
     ]
    },
    {
     "name": "stderr",
     "output_type": "stream",
     "text": [
      " 75%|███████▌  | 15/20 [01:28<00:32,  6.51s/it]"
     ]
    },
    {
     "name": "stdout",
     "output_type": "stream",
     "text": [
      "(943, 10)\n"
     ]
    },
    {
     "name": "stderr",
     "output_type": "stream",
     "text": [
      " 80%|████████  | 16/20 [01:35<00:26,  6.62s/it]"
     ]
    },
    {
     "name": "stdout",
     "output_type": "stream",
     "text": [
      "(943, 10)\n"
     ]
    },
    {
     "name": "stderr",
     "output_type": "stream",
     "text": [
      " 85%|████████▌ | 17/20 [01:42<00:20,  6.74s/it]"
     ]
    },
    {
     "name": "stdout",
     "output_type": "stream",
     "text": [
      "(943, 10)\n"
     ]
    },
    {
     "name": "stderr",
     "output_type": "stream",
     "text": [
      " 90%|█████████ | 18/20 [01:49<00:13,  6.83s/it]"
     ]
    },
    {
     "name": "stdout",
     "output_type": "stream",
     "text": [
      "(943, 10)\n"
     ]
    },
    {
     "name": "stderr",
     "output_type": "stream",
     "text": [
      " 95%|█████████▌| 19/20 [01:56<00:06,  6.92s/it]"
     ]
    },
    {
     "name": "stdout",
     "output_type": "stream",
     "text": [
      "(943, 10)\n"
     ]
    },
    {
     "name": "stderr",
     "output_type": "stream",
     "text": [
      "100%|██████████| 20/20 [02:03<00:00,  6.18s/it]\n"
     ]
    }
   ],
   "source": [
    "run_timesteps=20\n",
    "model.run(timesteps=run_timesteps)"
   ]
  },
  {
   "cell_type": "code",
   "execution_count": 15,
   "metadata": {},
   "outputs": [
    {
     "name": "stdout",
     "output_type": "stream",
     "text": [
      "Measurements saved.\n"
     ]
    },
    {
     "data": {
      "image/png": "[encoded data removed]",
      "text/plain": [
       "<Figure size 1500x1500 with 9 Axes>"
      ]
     },
     "metadata": {},
     "output_type": "display_data"
    }
   ],
   "source": [
    "import src\n",
    "reload(src.utils)\n",
    "from src.utils import *\n",
    "    \n",
    "# Save measurements\n",
    "measurements_dir = f'artefacts/experiment_measurements/'\n",
    "file_name = f'{model_name}_measurements_{train_timesteps}trainTimesteps_{run_timesteps}runTimesteps_{n_attrs}nAttrs_{n_clusters}nClusters_{drift}Drift_{attention_exp}AttentionExp_{pair_all}PairAll'\n",
    "measurements_path = measurements_dir + file_name\n",
    "if requires_alpha:\n",
    "    measurements_path += f'_{alpha}Lambda'\n",
    "measurements_path += '.csv'\n",
    "measurements_df = load_or_create_measurements_df(model, model_name, train_timesteps, measurements_path)\n",
    "measurements_df.to_csv(measurements_path)\n",
    "print('Measurements saved.')\n",
    "\n",
    "# Create df for parametrics\n",
    "numeric_cols = ['trainTimesteps', 'runTimesteps', 'nAttrs', 'nClusters', 'Lambda']\n",
    "columns = ['model_name'] + numeric_cols\n",
    "\n",
    "data = [[model_name, train_timesteps, run_timesteps, n_attrs, n_clusters, None]]\n",
    "if requires_alpha:\n",
    "    data = [[model_name, train_timesteps, run_timesteps, n_attrs, n_clusters, alpha]]\n",
    "\n",
    "parameters_df = pd.DataFrame(data,\n",
    "                             columns = columns)\n",
    "for col in numeric_cols:\n",
    "    parameters_df[col] = pd.to_numeric(parameters_df[col])\n",
    "    \n",
    "plot_measurements([measurements_df], parameters_df)"
   ]
  },
  {
   "cell_type": "code",
   "execution_count": 17,
   "metadata": {},
   "outputs": [
    {
     "data": {
      "text/html": [
       "<div>\n",
       "<style scoped>\n",
       "    .dataframe tbody tr th:only-of-type {\n",
       "        vertical-align: middle;\n",
       "    }\n",
       "\n",
       "    .dataframe tbody tr th {\n",
       "        vertical-align: top;\n",
       "    }\n",
       "\n",
       "    .dataframe thead th {\n",
       "        text-align: right;\n",
       "    }\n",
       "</style>\n",
       "<table border=\"1\" class=\"dataframe\">\n",
       "  <thead>\n",
       "    <tr style=\"text-align: right;\">\n",
       "      <th></th>\n",
       "      <th>interaction_histogram</th>\n",
       "      <th>mse</th>\n",
       "      <th>interaction_spread</th>\n",
       "      <th>interaction_similarity</th>\n",
       "      <th>rec_similarity</th>\n",
       "      <th>serendipity_metric</th>\n",
       "      <th>diversity_metric</th>\n",
       "      <th>novelty_metric</th>\n",
       "      <th>recall_at_k</th>\n",
       "      <th>user_mse</th>\n",
       "      <th>timesteps</th>\n",
       "      <th>state</th>\n",
       "      <th>model</th>\n",
       "      <th>lambda</th>\n",
       "    </tr>\n",
       "  </thead>\n",
       "  <tbody>\n",
       "    <tr>\n",
       "      <th>0</th>\n",
       "      <td>None</td>\n",
       "      <td>0.090065</td>\n",
       "      <td>NaN</td>\n",
       "      <td>NaN</td>\n",
       "      <td>NaN</td>\n",
       "      <td>NaN</td>\n",
       "      <td>NaN</td>\n",
       "      <td>NaN</td>\n",
       "      <td>NaN</td>\n",
       "      <td>[0.0351226880773755, 0.08176822920068769, 0.16...</td>\n",
       "      <td>0</td>\n",
       "      <td>train</td>\n",
       "      <td>myopic</td>\n",
       "      <td>0.2</td>\n",
       "    </tr>\n",
       "    <tr>\n",
       "      <th>1</th>\n",
       "      <td>[4.0, 0.0, 0.0, 0.0, 0.0, 0.0, 2.0, 1.0, 3.0, ...</td>\n",
       "      <td>0.106959</td>\n",
       "      <td>-939.5</td>\n",
       "      <td>0.001394</td>\n",
       "      <td>0.003169</td>\n",
       "      <td>0.507317</td>\n",
       "      <td>0.871816</td>\n",
       "      <td>NaN</td>\n",
       "      <td>0.979852</td>\n",
       "      <td>[0.06374638234871707, 0.1014930973617665, 0.14...</td>\n",
       "      <td>1</td>\n",
       "      <td>train</td>\n",
       "      <td>myopic</td>\n",
       "      <td>0.2</td>\n",
       "    </tr>\n",
       "    <tr>\n",
       "      <th>2</th>\n",
       "      <td>[1.0, 1.0, 1.0, 4.0, 0.0, 0.0, 1.0, 2.0, 1.0, ...</td>\n",
       "      <td>0.122103</td>\n",
       "      <td>0.0</td>\n",
       "      <td>0.001827</td>\n",
       "      <td>0.003113</td>\n",
       "      <td>0.486957</td>\n",
       "      <td>0.870143</td>\n",
       "      <td>NaN</td>\n",
       "      <td>0.992577</td>\n",
       "      <td>[0.11547496098395811, 0.10116669393179846, 0.1...</td>\n",
       "      <td>2</td>\n",
       "      <td>train</td>\n",
       "      <td>myopic</td>\n",
       "      <td>0.2</td>\n",
       "    </tr>\n",
       "    <tr>\n",
       "      <th>3</th>\n",
       "      <td>[3.0, 1.0, 0.0, 3.0, 0.0, 0.0, 5.0, 1.0, 2.0, ...</td>\n",
       "      <td>0.135808</td>\n",
       "      <td>0.0</td>\n",
       "      <td>0.002483</td>\n",
       "      <td>0.003147</td>\n",
       "      <td>0.464793</td>\n",
       "      <td>0.872393</td>\n",
       "      <td>NaN</td>\n",
       "      <td>0.989396</td>\n",
       "      <td>[0.12745204819714256, 0.10120718200602329, 0.1...</td>\n",
       "      <td>3</td>\n",
       "      <td>train</td>\n",
       "      <td>myopic</td>\n",
       "      <td>0.2</td>\n",
       "    </tr>\n",
       "    <tr>\n",
       "      <th>4</th>\n",
       "      <td>[3.0, 0.0, 3.0, 1.0, 1.0, 2.0, 4.0, 4.0, 1.0, ...</td>\n",
       "      <td>0.147444</td>\n",
       "      <td>-0.5</td>\n",
       "      <td>0.003142</td>\n",
       "      <td>0.003127</td>\n",
       "      <td>0.446023</td>\n",
       "      <td>0.870885</td>\n",
       "      <td>NaN</td>\n",
       "      <td>0.991516</td>\n",
       "      <td>[0.14272994558360202, 0.10296126920999937, 0.1...</td>\n",
       "      <td>4</td>\n",
       "      <td>train</td>\n",
       "      <td>myopic</td>\n",
       "      <td>0.2</td>\n",
       "    </tr>\n",
       "    <tr>\n",
       "      <th>5</th>\n",
       "      <td>[9.0, 2.0, 0.0, 0.0, 1.0, 1.0, 1.0, 5.0, 1.0, ...</td>\n",
       "      <td>0.157167</td>\n",
       "      <td>1.5</td>\n",
       "      <td>0.003873</td>\n",
       "      <td>0.003149</td>\n",
       "      <td>0.399682</td>\n",
       "      <td>0.871863</td>\n",
       "      <td>NaN</td>\n",
       "      <td>0.990456</td>\n",
       "      <td>[0.16249295842154862, 0.11657197143886217, 0.2...</td>\n",
       "      <td>5</td>\n",
       "      <td>train</td>\n",
       "      <td>myopic</td>\n",
       "      <td>0.2</td>\n",
       "    </tr>\n",
       "    <tr>\n",
       "      <th>6</th>\n",
       "      <td>[3.0, 0.0, 1.0, 4.0, 0.0, 0.0, 5.0, 0.0, 8.0, ...</td>\n",
       "      <td>1.024092</td>\n",
       "      <td>12.5</td>\n",
       "      <td>0.004907</td>\n",
       "      <td>0.010399</td>\n",
       "      <td>0.424920</td>\n",
       "      <td>0.886945</td>\n",
       "      <td>-0.841186</td>\n",
       "      <td>0.788971</td>\n",
       "      <td>[0.8056761404289207, 0.936633458862777, 0.9982...</td>\n",
       "      <td>6</td>\n",
       "      <td>run</td>\n",
       "      <td>myopic</td>\n",
       "      <td>0.2</td>\n",
       "    </tr>\n",
       "    <tr>\n",
       "      <th>7</th>\n",
       "      <td>[0.0, 2.0, 5.0, 3.0, 0.0, 0.0, 9.0, 1.0, 10.0,...</td>\n",
       "      <td>1.086016</td>\n",
       "      <td>1.5</td>\n",
       "      <td>0.006546</td>\n",
       "      <td>0.013434</td>\n",
       "      <td>0.432556</td>\n",
       "      <td>0.891882</td>\n",
       "      <td>-0.939367</td>\n",
       "      <td>0.811241</td>\n",
       "      <td>[0.872726399455945, 1.0115987908662925, 1.1393...</td>\n",
       "      <td>7</td>\n",
       "      <td>run</td>\n",
       "      <td>myopic</td>\n",
       "      <td>0.2</td>\n",
       "    </tr>\n",
       "    <tr>\n",
       "      <th>8</th>\n",
       "      <td>[1.0, 0.0, 3.0, 1.0, 0.0, 0.0, 9.0, 1.0, 7.0, ...</td>\n",
       "      <td>1.132577</td>\n",
       "      <td>-4.0</td>\n",
       "      <td>0.008442</td>\n",
       "      <td>0.014827</td>\n",
       "      <td>0.431601</td>\n",
       "      <td>0.894368</td>\n",
       "      <td>-1.024640</td>\n",
       "      <td>0.833510</td>\n",
       "      <td>[0.915250563198406, 1.0582841139233345, 1.2670...</td>\n",
       "      <td>8</td>\n",
       "      <td>run</td>\n",
       "      <td>myopic</td>\n",
       "      <td>0.2</td>\n",
       "    </tr>\n",
       "    <tr>\n",
       "      <th>9</th>\n",
       "      <td>[1.0, 0.0, 2.0, 1.0, 0.0, 1.0, 0.0, 0.0, 12.0,...</td>\n",
       "      <td>1.165194</td>\n",
       "      <td>-3.0</td>\n",
       "      <td>0.010307</td>\n",
       "      <td>0.015354</td>\n",
       "      <td>0.427678</td>\n",
       "      <td>0.896665</td>\n",
       "      <td>-1.100146</td>\n",
       "      <td>0.782609</td>\n",
       "      <td>[0.9961475715030683, 1.0936977849730387, 1.291...</td>\n",
       "      <td>9</td>\n",
       "      <td>run</td>\n",
       "      <td>myopic</td>\n",
       "      <td>0.2</td>\n",
       "    </tr>\n",
       "    <tr>\n",
       "      <th>10</th>\n",
       "      <td>[4.0, 0.0, 5.0, 0.0, 0.0, 0.0, 2.0, 0.0, 5.0, ...</td>\n",
       "      <td>1.185869</td>\n",
       "      <td>1.0</td>\n",
       "      <td>0.012273</td>\n",
       "      <td>0.015352</td>\n",
       "      <td>0.426193</td>\n",
       "      <td>0.896418</td>\n",
       "      <td>-1.176054</td>\n",
       "      <td>0.818664</td>\n",
       "      <td>[1.0189528815612607, 1.1067320473056352, 1.331...</td>\n",
       "      <td>10</td>\n",
       "      <td>run</td>\n",
       "      <td>myopic</td>\n",
       "      <td>0.2</td>\n",
       "    </tr>\n",
       "    <tr>\n",
       "      <th>11</th>\n",
       "      <td>[2.0, 0.0, 5.0, 2.0, 0.0, 1.0, 0.0, 0.0, 4.0, ...</td>\n",
       "      <td>1.198885</td>\n",
       "      <td>0.5</td>\n",
       "      <td>0.014019</td>\n",
       "      <td>0.015634</td>\n",
       "      <td>0.416543</td>\n",
       "      <td>0.893979</td>\n",
       "      <td>-1.250895</td>\n",
       "      <td>0.827147</td>\n",
       "      <td>[1.0425706944521516, 1.1561461183945445, 1.341...</td>\n",
       "      <td>11</td>\n",
       "      <td>run</td>\n",
       "      <td>myopic</td>\n",
       "      <td>0.2</td>\n",
       "    </tr>\n",
       "    <tr>\n",
       "      <th>12</th>\n",
       "      <td>[0.0, 2.0, 2.0, 1.0, 0.0, 2.0, 2.0, 0.0, 3.0, ...</td>\n",
       "      <td>1.208470</td>\n",
       "      <td>-4.0</td>\n",
       "      <td>0.015437</td>\n",
       "      <td>0.015481</td>\n",
       "      <td>0.396394</td>\n",
       "      <td>0.893885</td>\n",
       "      <td>-1.329615</td>\n",
       "      <td>0.827147</td>\n",
       "      <td>[1.0443741063858798, 1.148401009644095, 1.3902...</td>\n",
       "      <td>12</td>\n",
       "      <td>run</td>\n",
       "      <td>myopic</td>\n",
       "      <td>0.2</td>\n",
       "    </tr>\n",
       "    <tr>\n",
       "      <th>13</th>\n",
       "      <td>[0.0, 1.0, 0.0, 1.0, 0.0, 2.0, 2.0, 1.0, 1.0, ...</td>\n",
       "      <td>1.214985</td>\n",
       "      <td>-2.0</td>\n",
       "      <td>0.016826</td>\n",
       "      <td>0.015610</td>\n",
       "      <td>0.395440</td>\n",
       "      <td>0.895417</td>\n",
       "      <td>-1.403335</td>\n",
       "      <td>0.827147</td>\n",
       "      <td>[1.050920228783746, 1.1408509044835913, 1.4028...</td>\n",
       "      <td>13</td>\n",
       "      <td>run</td>\n",
       "      <td>myopic</td>\n",
       "      <td>0.2</td>\n",
       "    </tr>\n",
       "    <tr>\n",
       "      <th>14</th>\n",
       "      <td>[1.0, 1.0, 1.0, 1.0, 0.0, 1.0, 0.0, 0.0, 1.0, ...</td>\n",
       "      <td>1.220619</td>\n",
       "      <td>2.5</td>\n",
       "      <td>0.018056</td>\n",
       "      <td>0.015468</td>\n",
       "      <td>0.409756</td>\n",
       "      <td>0.900542</td>\n",
       "      <td>-1.478037</td>\n",
       "      <td>0.831389</td>\n",
       "      <td>[1.0817246608099413, 1.1430752055323472, 1.415...</td>\n",
       "      <td>14</td>\n",
       "      <td>run</td>\n",
       "      <td>myopic</td>\n",
       "      <td>0.2</td>\n",
       "    </tr>\n",
       "    <tr>\n",
       "      <th>15</th>\n",
       "      <td>[1.0, 0.0, 0.0, 0.0, 0.0, 0.0, 1.0, 0.0, 2.0, ...</td>\n",
       "      <td>1.224204</td>\n",
       "      <td>-0.5</td>\n",
       "      <td>0.019464</td>\n",
       "      <td>0.015575</td>\n",
       "      <td>0.395546</td>\n",
       "      <td>0.898103</td>\n",
       "      <td>-1.548515</td>\n",
       "      <td>0.831389</td>\n",
       "      <td>[1.0975034898134586, 1.1595036295466774, 1.467...</td>\n",
       "      <td>15</td>\n",
       "      <td>run</td>\n",
       "      <td>myopic</td>\n",
       "      <td>0.2</td>\n",
       "    </tr>\n",
       "    <tr>\n",
       "      <th>16</th>\n",
       "      <td>[0.0, 1.0, 4.0, 1.0, 0.0, 0.0, 0.0, 0.0, 1.0, ...</td>\n",
       "      <td>1.228636</td>\n",
       "      <td>-0.5</td>\n",
       "      <td>0.020564</td>\n",
       "      <td>0.015545</td>\n",
       "      <td>0.376776</td>\n",
       "      <td>0.897054</td>\n",
       "      <td>-1.613937</td>\n",
       "      <td>0.823966</td>\n",
       "      <td>[1.1313782897840932, 1.1415523064028548, 1.485...</td>\n",
       "      <td>16</td>\n",
       "      <td>run</td>\n",
       "      <td>myopic</td>\n",
       "      <td>0.2</td>\n",
       "    </tr>\n",
       "    <tr>\n",
       "      <th>17</th>\n",
       "      <td>[0.0, 0.0, 2.0, 2.0, 0.0, 1.0, 1.0, 0.0, 1.0, ...</td>\n",
       "      <td>1.233695</td>\n",
       "      <td>2.5</td>\n",
       "      <td>0.021644</td>\n",
       "      <td>0.015855</td>\n",
       "      <td>0.369671</td>\n",
       "      <td>0.896724</td>\n",
       "      <td>-1.670567</td>\n",
       "      <td>0.848356</td>\n",
       "      <td>[1.1493468869397674, 1.1580621914168032, 1.528...</td>\n",
       "      <td>17</td>\n",
       "      <td>run</td>\n",
       "      <td>myopic</td>\n",
       "      <td>0.2</td>\n",
       "    </tr>\n",
       "    <tr>\n",
       "      <th>18</th>\n",
       "      <td>[0.0, 0.0, 2.0, 0.0, 0.0, 1.0, 0.0, 0.0, 6.0, ...</td>\n",
       "      <td>1.237433</td>\n",
       "      <td>-5.0</td>\n",
       "      <td>0.022374</td>\n",
       "      <td>0.015655</td>\n",
       "      <td>0.354825</td>\n",
       "      <td>0.897514</td>\n",
       "      <td>-1.728309</td>\n",
       "      <td>0.833510</td>\n",
       "      <td>[1.1388098253532428, 1.1507221642833079, 1.512...</td>\n",
       "      <td>18</td>\n",
       "      <td>run</td>\n",
       "      <td>myopic</td>\n",
       "      <td>0.2</td>\n",
       "    </tr>\n",
       "    <tr>\n",
       "      <th>19</th>\n",
       "      <td>[0.0, 0.0, 4.0, 0.0, 0.0, 1.0, 0.0, 1.0, 0.0, ...</td>\n",
       "      <td>1.242204</td>\n",
       "      <td>1.0</td>\n",
       "      <td>0.023139</td>\n",
       "      <td>0.015547</td>\n",
       "      <td>0.241039</td>\n",
       "      <td>0.897314</td>\n",
       "      <td>-1.780754</td>\n",
       "      <td>0.799576</td>\n",
       "      <td>[1.1252516432749071, 1.1492017521963918, 1.521...</td>\n",
       "      <td>19</td>\n",
       "      <td>run</td>\n",
       "      <td>myopic</td>\n",
       "      <td>0.2</td>\n",
       "    </tr>\n",
       "    <tr>\n",
       "      <th>20</th>\n",
       "      <td>[2.0, 0.0, 3.0, 1.0, 0.0, 1.0, 2.0, 1.0, 2.0, ...</td>\n",
       "      <td>1.245855</td>\n",
       "      <td>5.0</td>\n",
       "      <td>0.023838</td>\n",
       "      <td>0.015506</td>\n",
       "      <td>0.227890</td>\n",
       "      <td>0.899564</td>\n",
       "      <td>-1.834157</td>\n",
       "      <td>0.804878</td>\n",
       "      <td>[1.1083578047896678, 1.1378990945519143, 1.551...</td>\n",
       "      <td>20</td>\n",
       "      <td>run</td>\n",
       "      <td>myopic</td>\n",
       "      <td>0.2</td>\n",
       "    </tr>\n",
       "    <tr>\n",
       "      <th>21</th>\n",
       "      <td>[2.0, 0.0, 2.0, 1.0, 0.0, 1.0, 0.0, 0.0, 3.0, ...</td>\n",
       "      <td>1.250756</td>\n",
       "      <td>-5.5</td>\n",
       "      <td>0.024477</td>\n",
       "      <td>0.015945</td>\n",
       "      <td>0.210817</td>\n",
       "      <td>0.898480</td>\n",
       "      <td>-1.877156</td>\n",
       "      <td>0.837752</td>\n",
       "      <td>[1.141194819565784, 1.1539362104240611, 1.5441...</td>\n",
       "      <td>21</td>\n",
       "      <td>run</td>\n",
       "      <td>myopic</td>\n",
       "      <td>0.2</td>\n",
       "    </tr>\n",
       "    <tr>\n",
       "      <th>22</th>\n",
       "      <td>[0.0, 0.0, 0.0, 0.0, 0.0, 2.0, 0.0, 1.0, 0.0, ...</td>\n",
       "      <td>1.255553</td>\n",
       "      <td>0.0</td>\n",
       "      <td>0.025125</td>\n",
       "      <td>0.015453</td>\n",
       "      <td>0.213892</td>\n",
       "      <td>0.898645</td>\n",
       "      <td>-1.921502</td>\n",
       "      <td>0.836691</td>\n",
       "      <td>[1.1467914735394669, 1.162753497889924, 1.5348...</td>\n",
       "      <td>22</td>\n",
       "      <td>run</td>\n",
       "      <td>myopic</td>\n",
       "      <td>0.2</td>\n",
       "    </tr>\n",
       "    <tr>\n",
       "      <th>23</th>\n",
       "      <td>[1.0, 0.0, 2.0, 0.0, 0.0, 0.0, 0.0, 0.0, 0.0, ...</td>\n",
       "      <td>1.259643</td>\n",
       "      <td>2.0</td>\n",
       "      <td>0.025644</td>\n",
       "      <td>0.015564</td>\n",
       "      <td>0.206893</td>\n",
       "      <td>0.898174</td>\n",
       "      <td>-1.963222</td>\n",
       "      <td>0.815483</td>\n",
       "      <td>[1.127510618418134, 1.1791809977927028, 1.5425...</td>\n",
       "      <td>23</td>\n",
       "      <td>run</td>\n",
       "      <td>myopic</td>\n",
       "      <td>0.2</td>\n",
       "    </tr>\n",
       "    <tr>\n",
       "      <th>24</th>\n",
       "      <td>[0.0, 0.0, 2.0, 0.0, 0.0, 0.0, 1.0, 0.0, 2.0, ...</td>\n",
       "      <td>1.263014</td>\n",
       "      <td>-1.0</td>\n",
       "      <td>0.026219</td>\n",
       "      <td>0.015865</td>\n",
       "      <td>0.204348</td>\n",
       "      <td>0.898174</td>\n",
       "      <td>-1.999611</td>\n",
       "      <td>0.816543</td>\n",
       "      <td>[1.1140207372579949, 1.1768054669321775, 1.571...</td>\n",
       "      <td>24</td>\n",
       "      <td>run</td>\n",
       "      <td>myopic</td>\n",
       "      <td>0.2</td>\n",
       "    </tr>\n",
       "    <tr>\n",
       "      <th>25</th>\n",
       "      <td>[0.0, 1.0, 4.0, 2.0, 0.0, 0.0, 1.0, 0.0, 4.0, ...</td>\n",
       "      <td>1.266380</td>\n",
       "      <td>-0.5</td>\n",
       "      <td>0.026570</td>\n",
       "      <td>0.015444</td>\n",
       "      <td>0.163839</td>\n",
       "      <td>0.899670</td>\n",
       "      <td>-2.036602</td>\n",
       "      <td>0.837752</td>\n",
       "      <td>[1.1267019913423697, 1.1702690753257172, 1.550...</td>\n",
       "      <td>25</td>\n",
       "      <td>run</td>\n",
       "      <td>myopic</td>\n",
       "      <td>0.2</td>\n",
       "    </tr>\n",
       "  </tbody>\n",
       "</table>\n",
       "</div>"
      ],
      "text/plain": [
       "                                interaction_histogram       mse  \\\n",
       "0                                                None  0.090065   \n",
       "1   [4.0, 0.0, 0.0, 0.0, 0.0, 0.0, 2.0, 1.0, 3.0, ...  0.106959   \n",
       "2   [1.0, 1.0, 1.0, 4.0, 0.0, 0.0, 1.0, 2.0, 1.0, ...  0.122103   \n",
       "3   [3.0, 1.0, 0.0, 3.0, 0.0, 0.0, 5.0, 1.0, 2.0, ...  0.135808   \n",
       "4   [3.0, 0.0, 3.0, 1.0, 1.0, 2.0, 4.0, 4.0, 1.0, ...  0.147444   \n",
       "5   [9.0, 2.0, 0.0, 0.0, 1.0, 1.0, 1.0, 5.0, 1.0, ...  0.157167   \n",
       "6   [3.0, 0.0, 1.0, 4.0, 0.0, 0.0, 5.0, 0.0, 8.0, ...  1.024092   \n",
       "7   [0.0, 2.0, 5.0, 3.0, 0.0, 0.0, 9.0, 1.0, 10.0,...  1.086016   \n",
       "8   [1.0, 0.0, 3.0, 1.0, 0.0, 0.0, 9.0, 1.0, 7.0, ...  1.132577   \n",
       "9   [1.0, 0.0, 2.0, 1.0, 0.0, 1.0, 0.0, 0.0, 12.0,...  1.165194   \n",
       "10  [4.0, 0.0, 5.0, 0.0, 0.0, 0.0, 2.0, 0.0, 5.0, ...  1.185869   \n",
       "11  [2.0, 0.0, 5.0, 2.0, 0.0, 1.0, 0.0, 0.0, 4.0, ...  1.198885   \n",
       "12  [0.0, 2.0, 2.0, 1.0, 0.0, 2.0, 2.0, 0.0, 3.0, ...  1.208470   \n",
       "13  [0.0, 1.0, 0.0, 1.0, 0.0, 2.0, 2.0, 1.0, 1.0, ...  1.214985   \n",
       "14  [1.0, 1.0, 1.0, 1.0, 0.0, 1.0, 0.0, 0.0, 1.0, ...  1.220619   \n",
       "15  [1.0, 0.0, 0.0, 0.0, 0.0, 0.0, 1.0, 0.0, 2.0, ...  1.224204   \n",
       "16  [0.0, 1.0, 4.0, 1.0, 0.0, 0.0, 0.0, 0.0, 1.0, ...  1.228636   \n",
       "17  [0.0, 0.0, 2.0, 2.0, 0.0, 1.0, 1.0, 0.0, 1.0, ...  1.233695   \n",
       "18  [0.0, 0.0, 2.0, 0.0, 0.0, 1.0, 0.0, 0.0, 6.0, ...  1.237433   \n",
       "19  [0.0, 0.0, 4.0, 0.0, 0.0, 1.0, 0.0, 1.0, 0.0, ...  1.242204   \n",
       "20  [2.0, 0.0, 3.0, 1.0, 0.0, 1.0, 2.0, 1.0, 2.0, ...  1.245855   \n",
       "21  [2.0, 0.0, 2.0, 1.0, 0.0, 1.0, 0.0, 0.0, 3.0, ...  1.250756   \n",
       "22  [0.0, 0.0, 0.0, 0.0, 0.0, 2.0, 0.0, 1.0, 0.0, ...  1.255553   \n",
       "23  [1.0, 0.0, 2.0, 0.0, 0.0, 0.0, 0.0, 0.0, 0.0, ...  1.259643   \n",
       "24  [0.0, 0.0, 2.0, 0.0, 0.0, 0.0, 1.0, 0.0, 2.0, ...  1.263014   \n",
       "25  [0.0, 1.0, 4.0, 2.0, 0.0, 0.0, 1.0, 0.0, 4.0, ...  1.266380   \n",
       "\n",
       "    interaction_spread  interaction_similarity  rec_similarity  \\\n",
       "0                  NaN                     NaN             NaN   \n",
       "1               -939.5                0.001394        0.003169   \n",
       "2                  0.0                0.001827        0.003113   \n",
       "3                  0.0                0.002483        0.003147   \n",
       "4                 -0.5                0.003142        0.003127   \n",
       "5                  1.5                0.003873        0.003149   \n",
       "6                 12.5                0.004907        0.010399   \n",
       "7                  1.5                0.006546        0.013434   \n",
       "8                 -4.0                0.008442        0.014827   \n",
       "9                 -3.0                0.010307        0.015354   \n",
       "10                 1.0                0.012273        0.015352   \n",
       "11                 0.5                0.014019        0.015634   \n",
       "12                -4.0                0.015437        0.015481   \n",
       "13                -2.0                0.016826        0.015610   \n",
       "14                 2.5                0.018056        0.015468   \n",
       "15                -0.5                0.019464        0.015575   \n",
       "16                -0.5                0.020564        0.015545   \n",
       "17                 2.5                0.021644        0.015855   \n",
       "18                -5.0                0.022374        0.015655   \n",
       "19                 1.0                0.023139        0.015547   \n",
       "20                 5.0                0.023838        0.015506   \n",
       "21                -5.5                0.024477        0.015945   \n",
       "22                 0.0                0.025125        0.015453   \n",
       "23                 2.0                0.025644        0.015564   \n",
       "24                -1.0                0.026219        0.015865   \n",
       "25                -0.5                0.026570        0.015444   \n",
       "\n",
       "    serendipity_metric  diversity_metric  novelty_metric  recall_at_k  \\\n",
       "0                  NaN               NaN             NaN          NaN   \n",
       "1             0.507317          0.871816             NaN     0.979852   \n",
       "2             0.486957          0.870143             NaN     0.992577   \n",
       "3             0.464793          0.872393             NaN     0.989396   \n",
       "4             0.446023          0.870885             NaN     0.991516   \n",
       "5             0.399682          0.871863             NaN     0.990456   \n",
       "6             0.424920          0.886945       -0.841186     0.788971   \n",
       "7             0.432556          0.891882       -0.939367     0.811241   \n",
       "8             0.431601          0.894368       -1.024640     0.833510   \n",
       "9             0.427678          0.896665       -1.100146     0.782609   \n",
       "10            0.426193          0.896418       -1.176054     0.818664   \n",
       "11            0.416543          0.893979       -1.250895     0.827147   \n",
       "12            0.396394          0.893885       -1.329615     0.827147   \n",
       "13            0.395440          0.895417       -1.403335     0.827147   \n",
       "14            0.409756          0.900542       -1.478037     0.831389   \n",
       "15            0.395546          0.898103       -1.548515     0.831389   \n",
       "16            0.376776          0.897054       -1.613937     0.823966   \n",
       "17            0.369671          0.896724       -1.670567     0.848356   \n",
       "18            0.354825          0.897514       -1.728309     0.833510   \n",
       "19            0.241039          0.897314       -1.780754     0.799576   \n",
       "20            0.227890          0.899564       -1.834157     0.804878   \n",
       "21            0.210817          0.898480       -1.877156     0.837752   \n",
       "22            0.213892          0.898645       -1.921502     0.836691   \n",
       "23            0.206893          0.898174       -1.963222     0.815483   \n",
       "24            0.204348          0.898174       -1.999611     0.816543   \n",
       "25            0.163839          0.899670       -2.036602     0.837752   \n",
       "\n",
       "                                             user_mse  timesteps  state  \\\n",
       "0   [0.0351226880773755, 0.08176822920068769, 0.16...          0  train   \n",
       "1   [0.06374638234871707, 0.1014930973617665, 0.14...          1  train   \n",
       "2   [0.11547496098395811, 0.10116669393179846, 0.1...          2  train   \n",
       "3   [0.12745204819714256, 0.10120718200602329, 0.1...          3  train   \n",
       "4   [0.14272994558360202, 0.10296126920999937, 0.1...          4  train   \n",
       "5   [0.16249295842154862, 0.11657197143886217, 0.2...          5  train   \n",
       "6   [0.8056761404289207, 0.936633458862777, 0.9982...          6    run   \n",
       "7   [0.872726399455945, 1.0115987908662925, 1.1393...          7    run   \n",
       "8   [0.915250563198406, 1.0582841139233345, 1.2670...          8    run   \n",
       "9   [0.9961475715030683, 1.0936977849730387, 1.291...          9    run   \n",
       "10  [1.0189528815612607, 1.1067320473056352, 1.331...         10    run   \n",
       "11  [1.0425706944521516, 1.1561461183945445, 1.341...         11    run   \n",
       "12  [1.0443741063858798, 1.148401009644095, 1.3902...         12    run   \n",
       "13  [1.050920228783746, 1.1408509044835913, 1.4028...         13    run   \n",
       "14  [1.0817246608099413, 1.1430752055323472, 1.415...         14    run   \n",
       "15  [1.0975034898134586, 1.1595036295466774, 1.467...         15    run   \n",
       "16  [1.1313782897840932, 1.1415523064028548, 1.485...         16    run   \n",
       "17  [1.1493468869397674, 1.1580621914168032, 1.528...         17    run   \n",
       "18  [1.1388098253532428, 1.1507221642833079, 1.512...         18    run   \n",
       "19  [1.1252516432749071, 1.1492017521963918, 1.521...         19    run   \n",
       "20  [1.1083578047896678, 1.1378990945519143, 1.551...         20    run   \n",
       "21  [1.141194819565784, 1.1539362104240611, 1.5441...         21    run   \n",
       "22  [1.1467914735394669, 1.162753497889924, 1.5348...         22    run   \n",
       "23  [1.127510618418134, 1.1791809977927028, 1.5425...         23    run   \n",
       "24  [1.1140207372579949, 1.1768054669321775, 1.571...         24    run   \n",
       "25  [1.1267019913423697, 1.1702690753257172, 1.550...         25    run   \n",
       "\n",
       "     model  lambda  \n",
       "0   myopic     0.2  \n",
       "1   myopic     0.2  \n",
       "2   myopic     0.2  \n",
       "3   myopic     0.2  \n",
       "4   myopic     0.2  \n",
       "5   myopic     0.2  \n",
       "6   myopic     0.2  \n",
       "7   myopic     0.2  \n",
       "8   myopic     0.2  \n",
       "9   myopic     0.2  \n",
       "10  myopic     0.2  \n",
       "11  myopic     0.2  \n",
       "12  myopic     0.2  \n",
       "13  myopic     0.2  \n",
       "14  myopic     0.2  \n",
       "15  myopic     0.2  \n",
       "16  myopic     0.2  \n",
       "17  myopic     0.2  \n",
       "18  myopic     0.2  \n",
       "19  myopic     0.2  \n",
       "20  myopic     0.2  \n",
       "21  myopic     0.2  \n",
       "22  myopic     0.2  \n",
       "23  myopic     0.2  \n",
       "24  myopic     0.2  \n",
       "25  myopic     0.2  "
      ]
     },
     "execution_count": 17,
     "metadata": {},
     "output_type": "execute_result"
    }
   ],
   "source": [
    "measurements_df"
   ]
  },
  {
   "cell_type": "code",
   "execution_count": 24,
   "metadata": {},
   "outputs": [
    {
     "data": {
      "text/plain": [
       "(26,)"
      ]
     },
     "execution_count": 24,
     "metadata": {},
     "output_type": "execute_result"
    }
   ],
   "source": [
    "measurements_df['interaction_histogram'][0].shape#.shape"
   ]
  },
  {
   "cell_type": "code",
   "execution_count": 56,
   "metadata": {},
   "outputs": [
    {
     "data": {
      "text/plain": [
       "(943, 26)"
      ]
     },
     "execution_count": 56,
     "metadata": {},
     "output_type": "execute_result"
    }
   ],
   "source": [
    "user_mse = np.array(measurements_df['user_mse'].values.tolist()).T\n",
    "user_mse.shape\n",
    "# user_mse[0]\n",
    "# user_mse.to_numpy().flatten().shape#[0].shape#.reshape((user_mse[0].shape[0]))\n",
    "# user_mse.shape"
   ]
  },
  {
   "cell_type": "code",
   "execution_count": null,
   "metadata": {},
   "outputs": [],
   "source": []
  }
 ],
 "metadata": {
  "interpreter": {
   "hash": "82ad1e6da8c8551612185ff57ab4e881be31b0c67a550f3cbdb2f98515f5914e"
  },
  "kernelspec": {
   "display_name": "Python 3.8.15 ('fairRS')",
   "language": "python",
   "name": "python3"
  },
  "language_info": {
   "codemirror_mode": {
    "name": "ipython",
    "version": 3
   },
   "file_extension": ".py",
   "mimetype": "text/x-python",
   "name": "python",
   "nbconvert_exporter": "python",
   "pygments_lexer": "ipython3",
   "version": "3.8.15"
  },
  "orig_nbformat": 4
 },
 "nbformat": 4,
 "nbformat_minor": 2
}
