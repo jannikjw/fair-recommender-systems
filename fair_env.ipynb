{
 "cells": [
  {
   "cell_type": "markdown",
   "metadata": {},
   "source": [
    "# Fair RS"
   ]
  },
  {
   "cell_type": "markdown",
   "metadata": {},
   "source": [
    "## Questions and Notes"
   ]
  },
  {
   "cell_type": "markdown",
   "metadata": {},
   "source": [
    "### Questions\n",
    "1. How do we distribute documents?\n",
    "2. How does reading a document influence a user?\n",
    "3. How do we simulate a user's past/initial leaning?\n",
    "4. What set of users do we start from? Can we base it on real life or a dataset?\n",
    "5. What features does each document have (clickbaityness, topic, political leaning, quality, ...)?\n",
    "6. How do we define engagement?\n",
    "7. How can we drive a user into a certain direction?\n",
    "8. What assumptions are legitimate? How do you make good assumptions in modeling?"
   ]
  },
  {
   "cell_type": "markdown",
   "metadata": {},
   "source": [
    "### Notes\n",
    "**Initial Assumptions:**\n",
    "- If a piece is aligned with a person's interest, they prefer it\n",
    "- We present 10 pieces of content to each user \n",
    "- When presented with content, the user clicks on 0 or 1 piece of content\n",
    "- Content has attributes:\n",
    "    - leaning\n",
    "    - clickbaityness\n",
    "- User has attributes:\n",
    "    - opinion\n",
    "    - satisfaction\n",
    "\n",
    "**Advanced Assumptions:**\n",
    "- On each topic, a user has an opinion and a piece of content also has a leaning. The closer opinion and leaning are, the more satisfaction a user derives from the piece of content\n",
    "- If a user likes a piece content their opinion shifts in the direction of the content's leaning  \n",
    "- Users generally do not notice/dislike that they are in a filter bubble\n",
    "- While content might have a general leaning, liking/disliking is more complex than that -> I might agree with the infrastructure bill even though I am a republican -> This effect is stronger the closer to the edge of my filter bubble I am\n",
    "- We could research some social science studies on filter bubbles and why people click on what to model it"
   ]
  },
  {
   "cell_type": "markdown",
   "metadata": {},
   "source": [
    "## Driver Code"
   ]
  },
  {
   "cell_type": "code",
   "execution_count": null,
   "metadata": {},
   "outputs": [],
   "source": []
  }
 ],
 "metadata": {
  "kernelspec": {
   "display_name": "Python 3.7.15 ('rsenv')",
   "language": "python",
   "name": "python3"
  },
  "language_info": {
   "name": "python",
   "version": "3.7.15"
  },
  "orig_nbformat": 4,
  "vscode": {
   "interpreter": {
    "hash": "137c6895ff1e4ad4bdd0994a4515bb1506326ea24e2217cfe75aba587b044e56"
   }
  }
 },
 "nbformat": 4,
 "nbformat_minor": 2
}
