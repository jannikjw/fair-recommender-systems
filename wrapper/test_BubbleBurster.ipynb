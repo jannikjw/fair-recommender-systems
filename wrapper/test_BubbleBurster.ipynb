{
 "cells": [
  {
   "cell_type": "code",
   "execution_count": 1,
   "metadata": {},
   "outputs": [],
   "source": [
    "# some_file.py\n",
    "import sys\n",
    "# caution: path[0] is reserved for script path (or '' in REPL)\n",
    "sys.path.insert(1, '../t-recs/')\n",
    "from trecs.models import ContentFiltering\n",
    "from trecs.metrics import *\n",
    "from trecs.random import Generator\n",
    "from trecs.components import Users"
   ]
  },
  {
   "cell_type": "code",
   "execution_count": 2,
   "metadata": {},
   "outputs": [],
   "source": [
    "import pandas as pd\n",
    "import matplotlib.pyplot as plt\n",
    "import numpy as np\n",
    "import networkx as nx\n",
    "\n",
    "random_state = np.random.seed(42)"
   ]
  },
  {
   "cell_type": "code",
   "execution_count": 3,
   "metadata": {},
   "outputs": [],
   "source": [
    "# import warnings filter\n",
    "from warnings import simplefilter\n",
    "# ignore all future warnings\n",
    "simplefilter(action='ignore', category=FutureWarning)"
   ]
  },
  {
   "cell_type": "code",
   "execution_count": 4,
   "metadata": {},
   "outputs": [],
   "source": [
    "ratings_df = pd.read_csv('../ml-100k/u.data', \n",
    "    sep=\"\\t\", \n",
    "    names=['UserID', 'MovieID', 'Rating', 'Timestamp']\n",
    ")"
   ]
  },
  {
   "cell_type": "code",
   "execution_count": 5,
   "metadata": {},
   "outputs": [],
   "source": [
    "movie_cols = ['movie_id', 'title', 'release_date', 'video_release_date', 'IMDb_URL', 'unknown', 'Action', 'Adventure', 'Animation', 'Childrens', 'Comedy', 'Crime', 'Documentary', 'Drama', 'Fantasy', 'Film-Noir', 'Horror', 'Musical', 'Mystery', 'Romance', 'Sci-Fi', 'Thriller', 'War', 'Western']\n",
    "\n",
    "movies_df = pd.read_csv('../ml-100k/u.item', sep=\"|\", names=movie_cols, encoding='latin')\n",
    "\n",
    "# display(movies_df.head(2))\n",
    "# print(movies_df.shape)"
   ]
  },
  {
   "cell_type": "code",
   "execution_count": 6,
   "metadata": {},
   "outputs": [],
   "source": [
    "from sklearn.cluster import KMeans\n",
    "\n",
    "def get_topic_clusters(binary_ratings_matrix, n_attrs:int=100, nmf_solver:str=\"mu\"):\n",
    "    \"\"\"\n",
    "    Creates clusters of movies based on their genre.\n",
    "    Inputs:\n",
    "        binary_ratings_matrix: a binary matrix of users and movies\n",
    "        n_attrs: number of attributes to use in NMF\n",
    "        nmf_solver: solver to use in NMF\n",
    "    Outputs:\n",
    "        clusters: a list of cluster assignments\n",
    "    \"\"\"\n",
    "    # Create topic clusters\n",
    "    #create co-occurence matrix from binary_interaction_matrix\n",
    "    co_occurence_matrix = binary_ratings_matrix.T @ binary_ratings_matrix\n",
    "    co_occurence_matrix\n",
    "\n",
    "    # Matrix factorize co_occurence_matrix to get embeddings\n",
    "    nmf_cooc = NMF(n_components=n_attrs, solver=nmf_solver)\n",
    "    W_topics = nmf_cooc.fit_transform(co_occurence_matrix)\n",
    "\n",
    "    # cluster W_topics\n",
    "    kmeans = KMeans(n_clusters=100, random_state=random_state).fit(W_topics)\n",
    "\n",
    "    # assign nearest cluster to observation\n",
    "    cluster_ids = kmeans.predict(W_topics)\n",
    "\n",
    "    return cluster_ids"
   ]
  },
  {
   "cell_type": "code",
   "execution_count": 7,
   "metadata": {},
   "outputs": [],
   "source": [
    "from sklearn.decomposition import NMF\n",
    "\n",
    "binary_ratings_df = ratings_df.drop(columns=['Timestamp'])\n",
    "binary_ratings_df.loc[binary_ratings_df['Rating'] > 0, 'Rating'] = 1\n",
    "\n",
    "# turn dataframe into matrix where each movie is a column and each user is a row\n",
    "binary_ratings_matrix = binary_ratings_df.pivot(index='UserID', columns='MovieID', values='Rating').fillna(0).to_numpy()"
   ]
  },
  {
   "cell_type": "code",
   "execution_count": 8,
   "metadata": {},
   "outputs": [
    {
     "name": "stderr",
     "output_type": "stream",
     "text": [
      "/Users/madisonthantu/miniforge3/envs/fairRS/lib/python3.8/site-packages/lightfm/_lightfm_fast.py:9: UserWarning: LightFM was compiled without OpenMP support. Only a single thread will be used.\n",
      "  warnings.warn(\n"
     ]
    }
   ],
   "source": [
    "from lightfm.cross_validation import random_train_test_split\n",
    "from scipy import sparse\n",
    "\n",
    "# split data into train and test sets\n",
    "train_interactions, test_interactions = random_train_test_split(sparse.csr_matrix(binary_ratings_matrix), test_percentage=0.2, random_state=random_state)\n",
    "train_interactions = train_interactions.toarray()\n",
    "test_interactions = test_interactions.toarray()"
   ]
  },
  {
   "cell_type": "code",
   "execution_count": 9,
   "metadata": {},
   "outputs": [
    {
     "name": "stdout",
     "output_type": "stream",
     "text": [
      "(943, 100) (100, 1682)\n"
     ]
    },
    {
     "name": "stderr",
     "output_type": "stream",
     "text": [
      "/Users/madisonthantu/miniforge3/envs/fairRS/lib/python3.8/site-packages/sklearn/decomposition/_nmf.py:1692: ConvergenceWarning: Maximum number of iterations 200 reached. Increase it to improve convergence.\n",
      "  warnings.warn(\n"
     ]
    }
   ],
   "source": [
    "n_attrs=100\n",
    "nmf = NMF(n_components=n_attrs, solver=\"mu\")\n",
    "user_representation = nmf.fit_transform(binary_ratings_matrix)\n",
    "item_representation = nmf.components_\n",
    "print(user_representation.shape, item_representation.shape)"
   ]
  },
  {
   "cell_type": "code",
   "execution_count": 10,
   "metadata": {},
   "outputs": [],
   "source": [
    "users = Users(size=(943,100), repeat_interactions=False)"
   ]
  },
  {
   "cell_type": "code",
   "execution_count": 11,
   "metadata": {},
   "outputs": [
    {
     "name": "stdout",
     "output_type": "stream",
     "text": [
      "(943, 100)\n",
      "(100, 1682)\n"
     ]
    }
   ],
   "source": [
    "print(user_representation.shape)\n",
    "print(item_representation.shape)"
   ]
  },
  {
   "cell_type": "code",
   "execution_count": 12,
   "metadata": {},
   "outputs": [],
   "source": [
    "from wrapper.models.bubble import BubbleBurster"
   ]
  },
  {
   "cell_type": "code",
   "execution_count": 13,
   "metadata": {},
   "outputs": [],
   "source": [
    "num_topics = None\n",
    "item_topics = get_topic_clusters(binary_ratings_matrix, n_attrs=n_attrs, nmf_solver=\"mu\")\n",
    "user_topic_history = None\n",
    "item_count = None"
   ]
  },
  {
   "cell_type": "code",
   "execution_count": 14,
   "metadata": {},
   "outputs": [],
   "source": [
    "recsys = BubbleBurster(\n",
    "    # num_users=number_of_users,\n",
    "    # num_items=num_items,\n",
    "    # num_attributes=number_of_attributes,\n",
    "    item_topics=item_topics,\n",
    "    user_representation=user_representation,\n",
    "    item_representation=item_representation,\n",
    "    actual_user_representation=users,\n",
    "    record_base_state=True,\n",
    ")"
   ]
  },
  {
   "cell_type": "code",
   "execution_count": 15,
   "metadata": {},
   "outputs": [
    {
     "name": "stdout",
     "output_type": "stream",
     "text": [
      "100\n",
      "(1682,)\n",
      "(943, 100)\n",
      "[0.]\n",
      "(1, 1682)\n"
     ]
    }
   ],
   "source": [
    "print(recsys.num_topics)\n",
    "print(recsys.item_topics.shape)\n",
    "print(recsys.user_topic_history.shape)\n",
    "print(np.unique(recsys.user_topic_history))\n",
    "print(recsys.item_count.shape) "
   ]
  },
  {
   "cell_type": "code",
   "execution_count": 16,
   "metadata": {},
   "outputs": [
    {
     "name": "stdout",
     "output_type": "stream",
     "text": [
      "These are the current metrics:\n",
      "[<trecs.metrics.measurement.MSEMeasurement object at 0x15c50c700>, <trecs.metrics.measurement.InteractionSpread object at 0x15c50c7f0>, <trecs.metrics.measurement.AverageFeatureScoreRange object at 0x15c50c910>]\n"
     ]
    }
   ],
   "source": [
    "recsys.add_metrics(MSEMeasurement(), InteractionSpread(), AverageFeatureScoreRange())\n",
    "print(\"These are the current metrics:\")\n",
    "print(recsys.metrics)"
   ]
  },
  {
   "cell_type": "code",
   "execution_count": 17,
   "metadata": {},
   "outputs": [
    {
     "name": "stderr",
     "output_type": "stream",
     "text": [
      "100%|██████████| 1/1 [00:03<00:00,  3.44s/it]\n"
     ]
    }
   ],
   "source": [
    "# now we run the model\n",
    "recsys.run(timesteps=1)\n",
    "measurements = recsys.get_measurements()"
   ]
  },
  {
   "cell_type": "markdown",
   "metadata": {},
   "source": [
    "**-> Model successfully runs for 1 timestep**"
   ]
  },
  {
   "cell_type": "code",
   "execution_count": 18,
   "metadata": {},
   "outputs": [
    {
     "name": "stdout",
     "output_type": "stream",
     "text": [
      "all_interactions\n",
      "_logger\n",
      "metrics\n",
      "users_hat\n",
      "items_hat\n",
      "score_fn\n",
      "interleaving_fn\n",
      "predicted_scores\n",
      "probabilistic_recommendations\n",
      "items_shown\n",
      "interactions\n",
      "users\n",
      "items\n",
      "creators\n",
      "_system_state\n",
      "num_users\n",
      "num_items\n",
      "expand_items_per_iter\n",
      "num_items_per_iter\n",
      "random_state\n",
      "indices\n",
      "item_topics\n",
      "num_topics\n",
      "user_topic_history\n",
      "item_count\n"
     ]
    }
   ],
   "source": [
    "keys = recsys.__dict__.keys()\n",
    "vals = recsys.__dict__.values()\n",
    "\n",
    "for k, v in zip(keys,vals):\n",
    "    print(k)"
   ]
  },
  {
   "cell_type": "code",
   "execution_count": 25,
   "metadata": {},
   "outputs": [],
   "source": [
    "def state_update(recommender, item_count, user_topic_history, item_topics):\n",
    "    items_shown = recommender.items_shown\n",
    "    for i in range(items_shown.shape[0]):\n",
    "        items_shown_val, items_shown_count = np.unique(items_shown[i,:], return_counts=True)\n",
    "        item_count[0, items_shown_val] += 1\n",
    "        topics_shown = item_topics[items_shown_val]\n",
    "        topics_shown_val, topics_shown_count = np.unique(topics_shown, return_counts=True)\n",
    "        user_topic_history[i, topics_shown_val] += topics_shown_count\n",
    "        if (sum(items_shown_count) != 10):\n",
    "            print(\"DUPLICATE ITEMS IN SLATE\", items_shown_count)\n",
    "            break\n",
    "    return item_count, user_topic_history"
   ]
  },
  {
   "cell_type": "code",
   "execution_count": 26,
   "metadata": {},
   "outputs": [],
   "source": [
    "test_item_count = np.zeros((1,recsys.num_items))\n",
    "test_user_topic_history = np.zeros((recsys.num_users, recsys.num_topics))\n",
    "\n",
    "test_item_count, test_user_topic_history = state_update(recsys, test_item_count, test_user_topic_history, item_topics)"
   ]
  },
  {
   "cell_type": "code",
   "execution_count": 30,
   "metadata": {},
   "outputs": [
    {
     "name": "stdout",
     "output_type": "stream",
     "text": [
      "True\n",
      "True\n"
     ]
    }
   ],
   "source": [
    "print(np.array_equal(recsys.item_count, test_item_count))\n",
    "print(np.array_equal(recsys.user_topic_history, test_user_topic_history))"
   ]
  },
  {
   "cell_type": "markdown",
   "metadata": {},
   "source": [
    "**-> Two values are equal after 1 iteration**"
   ]
  },
  {
   "cell_type": "code",
   "execution_count": 31,
   "metadata": {},
   "outputs": [
    {
     "name": "stderr",
     "output_type": "stream",
     "text": [
      "100%|██████████| 1/1 [00:03<00:00,  3.92s/it]\n"
     ]
    }
   ],
   "source": [
    "# now we run the model\n",
    "recsys.run(timesteps=1)\n",
    "measurements = recsys.get_measurements()"
   ]
  },
  {
   "cell_type": "code",
   "execution_count": 32,
   "metadata": {},
   "outputs": [
    {
     "name": "stdout",
     "output_type": "stream",
     "text": [
      "True\n",
      "True\n"
     ]
    }
   ],
   "source": [
    "test_item_count, test_user_topic_history = state_update(recsys, test_item_count, test_user_topic_history, item_topics)\n",
    "print(np.array_equal(recsys.item_count, test_item_count))\n",
    "print(np.array_equal(recsys.user_topic_history, test_user_topic_history))"
   ]
  },
  {
   "cell_type": "markdown",
   "metadata": {},
   "source": [
    "**-> The two values are equal after a second iteration**"
   ]
  },
  {
   "cell_type": "code",
   "execution_count": 33,
   "metadata": {},
   "outputs": [
    {
     "name": "stdout",
     "output_type": "stream",
     "text": [
      "mse [0.22339414046796585, 0.1738726227590423, 0.16824752880109448]\n",
      "interaction_spread [None, -905.5, -19.5]\n",
      "afsr [None, 11.748918789814644, 9.868651018668231]\n",
      "timesteps [0 1 2]\n"
     ]
    }
   ],
   "source": [
    "for key in measurements.keys():\n",
    "    print(key, measurements[key])"
   ]
  },
  {
   "cell_type": "code",
   "execution_count": 36,
   "metadata": {},
   "outputs": [],
   "source": [
    "bubble = BubbleBurster(\n",
    "    # num_users=number_of_users,\n",
    "    # num_items=num_items,\n",
    "    # num_attributes=number_of_attributes,\n",
    "    item_topics=item_topics,\n",
    "    user_representation=user_representation,\n",
    "    item_representation=item_representation,\n",
    "    actual_user_representation=users,\n",
    "    record_base_state=True,\n",
    ")"
   ]
  },
  {
   "cell_type": "code",
   "execution_count": 37,
   "metadata": {},
   "outputs": [
    {
     "name": "stdout",
     "output_type": "stream",
     "text": [
      "These are the current metrics:\n",
      "[<trecs.metrics.measurement.MSEMeasurement object at 0x15c50c700>, <trecs.metrics.measurement.InteractionSpread object at 0x15c50c7f0>, <trecs.metrics.measurement.AverageFeatureScoreRange object at 0x15c50c910>]\n"
     ]
    }
   ],
   "source": [
    "bubble.add_metrics(MSEMeasurement(), InteractionSpread(), AverageFeatureScoreRange())\n",
    "print(\"These are the current metrics:\")\n",
    "print(recsys.metrics)"
   ]
  },
  {
   "cell_type": "code",
   "execution_count": 38,
   "metadata": {},
   "outputs": [
    {
     "name": "stderr",
     "output_type": "stream",
     "text": [
      "100%|██████████| 100/100 [00:07<00:00, 13.20it/s]\n"
     ]
    }
   ],
   "source": [
    "bubble.startup_and_train(timesteps=100)"
   ]
  },
  {
   "cell_type": "code",
   "execution_count": 40,
   "metadata": {},
   "outputs": [
    {
     "name": "stdout",
     "output_type": "stream",
     "text": [
      "mse [0.1652112923772018, 0.1652112923772018, 0.1652112923772018, 0.1652112923772018, 0.1652112923772018, 0.1652112923772018, 0.1652112923772018, 0.1652112923772018, 0.1652112923772018, 0.1652112923772018, 0.1652112923772018, 0.1652112923772018, 0.1652112923772018, 0.1652112923772018, 0.1652112923772018, 0.1652112923772018, 0.1652112923772018, 0.1652112923772018, 0.1652112923772018, 0.1652112923772018, 0.1652112923772018, 0.1652112923772018, 0.1652112923772018, 0.1652112923772018, 0.1652112923772018, 0.1652112923772018, 0.1652112923772018, 0.1652112923772018, 0.1652112923772018, 0.1652112923772018, 0.1652112923772018, 0.1652112923772018, 0.1652112923772018, 0.1652112923772018, 0.1652112923772018, 0.1652112923772018, 0.1652112923772018, 0.1652112923772018, 0.1652112923772018, 0.1652112923772018, 0.1652112923772018, 0.1652112923772018, 0.1652112923772018, 0.1652112923772018, 0.1652112923772018, 0.1652112923772018, 0.1652112923772018, 0.1652112923772018, 0.1652112923772018, 0.1652112923772018, 0.1652112923772018, 0.1652112923772018, 0.1652112923772018, 0.1652112923772018, 0.1652112923772018, 0.1652112923772018, 0.1652112923772018, 0.1652112923772018, 0.1652112923772018, 0.1652112923772018, 0.1652112923772018, 0.1652112923772018, 0.1652112923772018, 0.1652112923772018, 0.1652112923772018, 0.1652112923772018, 0.1652112923772018, 0.1652112923772018, 0.1652112923772018, 0.1652112923772018, 0.1652112923772018, 0.1652112923772018, 0.1652112923772018, 0.1652112923772018, 0.1652112923772018, 0.1652112923772018, 0.1652112923772018, 0.1652112923772018, 0.1652112923772018, 0.1652112923772018, 0.1652112923772018, 0.1652112923772018, 0.1652112923772018, 0.1652112923772018, 0.1652112923772018, 0.1652112923772018, 0.1652112923772018, 0.1652112923772018, 0.1652112923772018, 0.1652112923772018, 0.1652112923772018, 0.1652112923772018, 0.1652112923772018, 0.1652112923772018, 0.1652112923772018, 0.1652112923772018, 0.1652112923772018, 0.1652112923772018, 0.1652112923772018, 0.1652112923772018, 0.1652112923772018]\n",
      "interaction_spread [None, -940.0, -0.5, 0.0, 0.0, 1.0, -1.0, -0.5, 0.0, 0.0, 0.5, 0.0, -0.5, 0.5, 0.0, 0.0, 0.0, 0.5, -1.0, 0.5, 0.5, -1.0, 0.0, 0.5, 0.5, -0.5, -0.5, 0.0, 1.0, -0.5, 0.0, 0.0, -0.5, 0.5, -0.5, 1.0, -0.5, 0.0, 0.0, 0.5, -0.5, -0.5, 0.0, 0.5, 0.5, -0.5, 0.0, -0.5, 0.5, 0.0, 0.5, -1.0, 1.0, 0.0, -0.5, 0.5, -0.5, 0.0, 0.5, -1.0, 0.5, 0.5, -0.5, 0.0, -0.5, 0.5, 0.0, 0.5, -1.0, 0.0, 0.5, -0.5, 0.0, 1.5, -1.5, 0.5, 0.0, -0.5, 0.0, 0.0, 0.5, 0.5, -0.5, 0.0, 0.0, 0.5, -1.0, 0.5, 0.0, -0.5, 1.0, 0.0, -1.0, 0.0, 0.0, 0.0, 0.0, 0.0, 1.0, -1.0, 0.0]\n",
      "afsr [None, 3.5751229179647654, 3.7582971346923384, 3.5612722886117347, 3.5767384935323125, 3.453770637131675, 3.7018805026022634, 3.478928876267246, 3.7008391968617507, 3.548889753118035, 3.499450403208957, 3.5659528845425377, 3.6115760891475888, 3.515854952120628, 3.7588893256477705, 3.515411561120459, 3.567161478386634, 3.680802389973637, 3.669999304560444, 3.5625930232018126, 3.516937008207026, 3.7370291427992672, 3.55919487062421, 3.5189975713005843, 3.576938803499581, 3.7531039514848485, 3.622783305137741, 3.6920675698472416, 3.421791284250075, 3.5449594464407763, 3.702115911118289, 3.477544757626819, 3.7077583441058066, 3.5747831053854675, 3.6250835240623895, 3.532320510147658, 3.6909175948849793, 3.6635308032911733, 3.6190001248207837, 3.5834250478872995, 3.582425316199415, 3.5866026515997063, 3.611617853797289, 3.665336647764332, 3.5675556088231772, 3.5934893484574686, 3.622200623846467, 3.634568582254608, 3.5701233092414544, 3.525597189468553, 3.6138180177964996, 3.4663052455425425, 3.5008424314342297, 3.661220993088322, 3.5250060232746114, 3.5397757226247544, 3.687370615218866, 3.7527059072747715, 3.6068620601749526, 3.6456601487492546, 3.580965591753428, 3.531863932823633, 3.6110329173226994, 3.5329022029607815, 3.6606093337231513, 3.6432869479889387, 3.472292954304218, 3.4902614629284012, 3.6154576132237057, 3.672337771392569, 3.610455637558722, 3.6480599276880725, 3.738750003856923, 3.544667958720343, 3.48456221086252, 3.616656988549992, 3.603998579903414, 3.568990618306159, 3.76677614195263, 3.5380676448545763, 3.701102254154263, 3.585267020462551, 3.6720514823405224, 3.603590244285322, 3.5568032720209457, 3.6909141969422286, 3.679879427510315, 3.5254774470513484, 3.664013539381775, 3.507545940829244, 3.69380936763408, 3.593716278570158, 3.559594324431946, 3.711206866363022, 3.4809298650120533, 3.565471918932529, 3.70445189261059, 3.5948866594540543, 3.592942913991325, 3.630236002936206, 3.614224670640213]\n",
      "timesteps [  0   1   2   3   4   5   6   7   8   9  10  11  12  13  14  15  16  17\n",
      "  18  19  20  21  22  23  24  25  26  27  28  29  30  31  32  33  34  35\n",
      "  36  37  38  39  40  41  42  43  44  45  46  47  48  49  50  51  52  53\n",
      "  54  55  56  57  58  59  60  61  62  63  64  65  66  67  68  69  70  71\n",
      "  72  73  74  75  76  77  78  79  80  81  82  83  84  85  86  87  88  89\n",
      "  90  91  92  93  94  95  96  97  98  99 100]\n"
     ]
    }
   ],
   "source": [
    "for key in bubble.get_measurements().keys():\n",
    "    print(key, bubble.get_measurements()[key])"
   ]
  },
  {
   "cell_type": "code",
   "execution_count": null,
   "metadata": {},
   "outputs": [],
   "source": []
  }
 ],
 "metadata": {
  "interpreter": {
   "hash": "82ad1e6da8c8551612185ff57ab4e881be31b0c67a550f3cbdb2f98515f5914e"
  },
  "kernelspec": {
   "display_name": "Python 3.8.15 ('fairRS')",
   "language": "python",
   "name": "python3"
  },
  "language_info": {
   "codemirror_mode": {
    "name": "ipython",
    "version": 3
   },
   "file_extension": ".py",
   "mimetype": "text/x-python",
   "name": "python",
   "nbconvert_exporter": "python",
   "pygments_lexer": "ipython3",
   "version": "3.8.15"
  },
  "orig_nbformat": 4
 },
 "nbformat": 4,
 "nbformat_minor": 2
}
