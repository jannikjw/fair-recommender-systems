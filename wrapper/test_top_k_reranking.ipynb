{
 "cells": [
  {
   "cell_type": "markdown",
   "metadata": {},
   "source": [
    "# Setup"
   ]
  },
  {
   "cell_type": "code",
   "execution_count": 1,
   "metadata": {},
   "outputs": [
    {
     "name": "stderr",
     "output_type": "stream",
     "text": [
      "/var/folders/sm/hcy50x855gvf2b1qwkjstnvh0000gn/T/ipykernel_23208/230766039.py:27: MatplotlibDeprecationWarning: The seaborn styles shipped by Matplotlib are deprecated since 3.6, as they no longer correspond to the styles shipped by seaborn. However, they will remain available as 'seaborn-v0_8-<style>'. Alternatively, directly use the seaborn API instead.\n",
      "  plt.style.use(\"seaborn\")\n"
     ]
    }
   ],
   "source": [
    "import pandas as pd\n",
    "import matplotlib.pyplot as plt\n",
    "from matplotlib import style\n",
    "import numpy as np\n",
    "import pickle\n",
    "import os\n",
    "from sklearn.decomposition import NMF, PCA\n",
    "from sklearn.cluster import KMeans\n",
    "from importlib import reload\n",
    "import seaborn as sns\n",
    "\n",
    "import sys\n",
    "sys.path.insert(1, '../../t-recs/')\n",
    "from trecs.metrics import MSEMeasurement, InteractionSpread, InteractionSpread, InteractionSimilarity, RecSimilarity, RMSEMeasurement, InteractionMeasurement\n",
    "from trecs.components import Users\n",
    "import trecs.matrix_ops as mo\n",
    "\n",
    "sys.path.insert(1, '../')\n",
    "import src.globals as globals\n",
    "from wrapper.models.bubble import BubbleBurster\n",
    "from src.utils import get_topic_clusters, create_embeddings, load_or_create_measurements_df, load_and_process_movielens, collect_parameters, load_measurements\n",
    "from src.scoring_functions import top_k_reranking\n",
    "from wrapper.metrics.evaluation_metrics import SerendipityMetric, DiversityMetric, NoveltyMetric, RecallMeasurement, UserMSEMeasurement\n",
    "import src.globals as globals\n",
    "\n",
    "random_state = np.random.seed(42)\n",
    "plt.style.use(\"seaborn\")\n",
    "\n",
    "# import warnings filter\n",
    "from warnings import simplefilter\n",
    "# ignore all future warnings\n",
    "simplefilter(action='ignore', category=FutureWarning)\n",
    "\n",
    "globals.initialize()\n",
    "\n",
    "ratings_df = pd.read_csv('../data/ml-100k/u.data', \n",
    "    sep=\"\\t\", \n",
    "    names=['UserID', 'MovieID', 'Rating', 'Timestamp']\n",
    ")\n",
    "\n",
    "movie_cols = ['movie_id', 'title', 'release_date', 'video_release_date', 'IMDb_URL', 'unknown', 'Action', 'Adventure', 'Animation', 'Childrens', 'Comedy', 'Crime', 'Documentary', 'Drama', 'Fantasy', 'Film-Noir', 'Horror', 'Musical', 'Mystery', 'Romance', 'Sci-Fi', 'Thriller', 'War', 'Western']\n",
    "\n",
    "movies_df = pd.read_csv('../data/ml-100k/u.item', sep=\"|\", names=movie_cols, encoding='latin')\n",
    "\n",
    "# display(movies_df.head(2))\n",
    "# print(movies_df.shape)"
   ]
  },
  {
   "cell_type": "code",
   "execution_count": 2,
   "metadata": {},
   "outputs": [],
   "source": [
    "from sklearn.cluster import KMeans\n",
    "\n",
    "def get_topic_clusters(binary_ratings_matrix, n_attrs:int=100, nmf_solver:str=\"mu\"):\n",
    "    \"\"\"\n",
    "    Creates clusters of movies based on their genre.\n",
    "    Inputs:\n",
    "        binary_ratings_matrix: a binary matrix of users and movies\n",
    "        n_attrs: number of attributes to use in NMF\n",
    "        nmf_solver: solver to use in NMF\n",
    "    Outputs:\n",
    "        clusters: a list of cluster assignments\n",
    "    \"\"\"\n",
    "    # Create topic clusters\n",
    "    #create co-occurence matrix from binary_interaction_matrix\n",
    "    co_occurence_matrix = binary_ratings_matrix.T @ binary_ratings_matrix\n",
    "    co_occurence_matrix\n",
    "\n",
    "    # Matrix factorize co_occurence_matrix to get embeddings\n",
    "    nmf_cooc = NMF(n_components=n_attrs, solver=nmf_solver)\n",
    "    W_topics = nmf_cooc.fit_transform(co_occurence_matrix)\n",
    "\n",
    "    # cluster W_topics\n",
    "    kmeans = KMeans(n_clusters=100, random_state=random_state).fit(W_topics)\n",
    "\n",
    "    # assign nearest cluster to observation\n",
    "    cluster_ids = kmeans.predict(W_topics)\n",
    "\n",
    "    return cluster_ids"
   ]
  },
  {
   "cell_type": "code",
   "execution_count": 3,
   "metadata": {},
   "outputs": [
    {
     "name": "stderr",
     "output_type": "stream",
     "text": [
      "/Users/madisonthantu/miniforge3/envs/fairRS/lib/python3.8/site-packages/lightfm/_lightfm_fast.py:9: UserWarning: LightFM was compiled without OpenMP support. Only a single thread will be used.\n",
      "  warnings.warn(\n",
      "/Users/madisonthantu/miniforge3/envs/fairRS/lib/python3.8/site-packages/sklearn/decomposition/_nmf.py:1692: ConvergenceWarning: Maximum number of iterations 200 reached. Increase it to improve convergence.\n",
      "  warnings.warn(\n"
     ]
    },
    {
     "name": "stdout",
     "output_type": "stream",
     "text": [
      "(943, 100) (100, 1682)\n"
     ]
    }
   ],
   "source": [
    "from sklearn.decomposition import NMF\n",
    "\n",
    "binary_ratings_df = ratings_df.drop(columns=['Timestamp'])\n",
    "binary_ratings_df.loc[binary_ratings_df['Rating'] > 0, 'Rating'] = 1\n",
    "\n",
    "# turn dataframe into matrix where each movie is a column and each user is a row\n",
    "binary_ratings_matrix = binary_ratings_df.pivot(index='UserID', columns='MovieID', values='Rating').fillna(0).to_numpy()\n",
    "\n",
    "from lightfm.cross_validation import random_train_test_split\n",
    "from scipy import sparse\n",
    "\n",
    "# split data into train and test sets\n",
    "train_interactions, test_interactions = random_train_test_split(sparse.csr_matrix(binary_ratings_matrix), test_percentage=0.2, random_state=random_state)\n",
    "train_interactions = train_interactions.toarray()\n",
    "test_interactions = test_interactions.toarray()\n",
    "\n",
    "n_attrs=100\n",
    "nmf = NMF(n_components=n_attrs, solver=\"mu\")\n",
    "user_representation = nmf.fit_transform(binary_ratings_matrix)\n",
    "item_representation = nmf.components_\n",
    "print(user_representation.shape, item_representation.shape)\n",
    "\n",
    "num_topics = None\n",
    "item_topics = get_topic_clusters(binary_ratings_matrix, n_attrs=n_attrs, nmf_solver=\"mu\")\n",
    "user_topic_history = None\n",
    "item_count = None\n",
    "\n",
    "users = Users(size=(943,100), repeat_interactions=False)"
   ]
  },
  {
   "cell_type": "markdown",
   "metadata": {},
   "source": [
    "# Trial & error for `top_k_reranking` score_fn function implementation"
   ]
  },
  {
   "cell_type": "code",
   "execution_count": null,
   "metadata": {},
   "outputs": [],
   "source": [
    "sys.path.insert(1, '../')\n",
    "\n",
    "from wrapper.models.bubble import BubbleBurster"
   ]
  },
  {
   "cell_type": "code",
   "execution_count": null,
   "metadata": {},
   "outputs": [],
   "source": [
    "bubble = BubbleBurster(\n",
    "    # num_users=number_of_users,\n",
    "    # num_items=num_items,\n",
    "    # num_attributes=number_of_attributes,\n",
    "    item_topics=item_topics,\n",
    "    user_representation=user_representation,\n",
    "    item_representation=item_representation,\n",
    "    actual_user_representation=users,\n",
    "    record_base_state=True,\n",
    "    # score_fn=next_k_myopic_scoring\n",
    ")"
   ]
  },
  {
   "cell_type": "code",
   "execution_count": null,
   "metadata": {},
   "outputs": [],
   "source": [
    "from wrapper.metrics import UserMSEMeasurement\n",
    "\n",
    "bubble.add_metrics(MSEMeasurement())\n",
    "print(\"These are the current metrics:\")\n",
    "print(bubble.metrics)"
   ]
  },
  {
   "cell_type": "code",
   "execution_count": null,
   "metadata": {},
   "outputs": [],
   "source": [
    "import trecs.matrix_ops as mo\n",
    "from numpy.random import RandomState\n",
    "\n",
    "rs = RandomState(42)"
   ]
  },
  {
   "cell_type": "code",
   "execution_count": null,
   "metadata": {},
   "outputs": [],
   "source": [
    "k = bubble.num_items_per_iter\n",
    "\n",
    "pred_scores = mo.inner_product(bubble.predicted_user_profiles, bubble.predicted_item_attributes)\n",
    "\n",
    "top_k_idxs = mo.top_k_indices(matrix=pred_scores, k=k, random_state=rs)\n",
    "top_k_idxs"
   ]
  },
  {
   "cell_type": "code",
   "execution_count": null,
   "metadata": {},
   "outputs": [],
   "source": [
    "for i in range(bubble.num_users):\n",
    "    bool = np.array_equal(np.sort(pred_scores[i, top_k_idxs[i,:]])[-1::-1], pred_scores[i, top_k_idxs[i,:]])\n",
    "    assert(bool)"
   ]
  },
  {
   "cell_type": "code",
   "execution_count": null,
   "metadata": {},
   "outputs": [],
   "source": [
    "top_k_re_ranked_idxs = top_k_idxs[:,-1::-1]\n",
    "top_k_re_ranked_scores = np.take_along_axis(pred_scores, top_k_idxs, axis=1)\n",
    "\n",
    "# print(np.sort(top_k_re_ranked_scores)[0])\n",
    "print(pred_scores[0, top_k_idxs[0]])\n",
    "\n",
    "top_k_re_ranked_scores = top_k_re_ranked_scores[:, -1::-1]\n",
    "\n",
    "assert(np.array_equal(top_k_re_ranked_scores[i,:], pred_scores[i, top_k_idxs[i,:]][-1::-1]))\n",
    "\n",
    "re_ranked_scores = np.copy(pred_scores)\n",
    "np.put_along_axis(re_ranked_scores, top_k_idxs, top_k_re_ranked_scores, axis=1)\n",
    "print(re_ranked_scores[0, top_k_idxs[0]])#.shape\n",
    "\n",
    "for i in range(bubble.num_users):\n",
    "    # Checking that re_ranked_scores is equal to top_k_re_ranked_scores for each user\n",
    "    assert(np.array_equal(re_ranked_scores[i, top_k_idxs[i,:]], top_k_re_ranked_scores[i,:]))\n",
    "    # Checking that re_ranked_scores[top_k_idxs] is equal to the reverse of pred_scores[top_k_idxs]\n",
    "    assert(np.array_equal(re_ranked_scores[i, top_k_idxs[i,:]], pred_scores[i,top_k_idxs[i,:]][-1::-1]))"
   ]
  },
  {
   "cell_type": "code",
   "execution_count": null,
   "metadata": {},
   "outputs": [],
   "source": [
    "k = bubble.num_items_per_iter\n",
    "\n",
    "pred_scores = mo.inner_product(bubble.predicted_user_profiles, bubble.predicted_item_attributes)\n",
    "top_k_idxs = mo.top_k_indices(matrix=pred_scores, k=k, random_state=rs)\n",
    "\n",
    "top_k_re_ranked_idxs = top_k_idxs[:,-1::-1]\n",
    "top_k_re_ranked_scores = np.take_along_axis(pred_scores, top_k_idxs, axis=1)\n",
    "top_k_re_ranked_scores = top_k_re_ranked_scores[:, -1::-1]\n",
    "\n",
    "re_ranked_scores = np.copy(pred_scores)\n",
    "np.put_along_axis(re_ranked_scores, top_k_idxs, top_k_re_ranked_scores, axis=1)"
   ]
  },
  {
   "cell_type": "code",
   "execution_count": null,
   "metadata": {},
   "outputs": [],
   "source": [
    "for i in range(bubble.num_users):\n",
    "    # Checking that re_ranked_scores is equal to top_k_re_ranked_scores for each user\n",
    "    assert(np.array_equal(re_ranked_scores[i, top_k_idxs[i,:]], top_k_re_ranked_scores[i,:]))\n",
    "    # Checking that re_ranked_scores[top_k_idxs] is equal to the reverse of pred_scores[top_k_idxs]\n",
    "    assert(np.array_equal(re_ranked_scores[i, top_k_idxs[i,:]], pred_scores[i,top_k_idxs[i,:]][-1::-1]))"
   ]
  },
  {
   "cell_type": "code",
   "execution_count": null,
   "metadata": {},
   "outputs": [],
   "source": [
    "print(re_ranked_scores[:, top_k_idxs][0, 0])#.shape)\n",
    "print(re_ranked_scores[:, top_k_idxs][0])#.shape)"
   ]
  },
  {
   "cell_type": "code",
   "execution_count": null,
   "metadata": {},
   "outputs": [],
   "source": [
    "pred_scores[:, top_k_idxs][0][:,-1::-1]"
   ]
  },
  {
   "cell_type": "markdown",
   "metadata": {},
   "source": [
    "# Testing implementation of `top_k_reranking` score_fn function"
   ]
  },
  {
   "cell_type": "code",
   "execution_count": null,
   "metadata": {},
   "outputs": [],
   "source": [
    "from src.scoring_functions import top_k_reranking\n",
    "\n",
    "bubble = BubbleBurster(\n",
    "    # num_users=number_of_users,\n",
    "    # num_items=num_items,\n",
    "    # num_attributes=number_of_attributes,\n",
    "    item_topics=item_topics,\n",
    "    user_representation=user_representation,\n",
    "    item_representation=item_representation,\n",
    "    actual_user_representation=users,\n",
    "    record_base_state=True,\n",
    "    score_fn=top_k_reranking\n",
    ")"
   ]
  },
  {
   "cell_type": "code",
   "execution_count": null,
   "metadata": {},
   "outputs": [],
   "source": [
    "from wrapper.metrics import UserMSEMeasurement\n",
    "\n",
    "bubble.add_metrics(MSEMeasurement())\n",
    "print(\"These are the current metrics:\")\n",
    "print(bubble.metrics)"
   ]
  },
  {
   "cell_type": "code",
   "execution_count": null,
   "metadata": {},
   "outputs": [],
   "source": [
    "# np.array_equal(bubble.predicted_user_item_scores, bubble.predicted_scores.value)\n",
    "bubble.predicted_user_item_scores"
   ]
  },
  {
   "cell_type": "code",
   "execution_count": null,
   "metadata": {},
   "outputs": [],
   "source": [
    "import trecs.matrix_ops as mo\n",
    "from numpy.random import RandomState\n",
    "\n",
    "rs = RandomState(42)\n",
    "\n",
    "k = bubble.num_items_per_iter\n",
    "\n",
    "pred_scores = mo.inner_product(bubble.predicted_user_profiles, bubble.predicted_item_attributes)\n",
    "\n",
    "top_k_idxs = mo.top_k_indices(matrix=pred_scores, k=k, random_state=rs)\n",
    "\n",
    "for i in range(bubble.num_users):\n",
    "    not_equal_idxs = np.where(np.equal(bubble.predicted_user_item_scores[i], pred_scores[i]) == False)\n",
    "    assert(np.array_equal(np.unique(top_k_idxs[i]), np.unique(not_equal_idxs)))\n",
    "    assert(np.array_equal(bubble.predicted_user_item_scores[i, top_k_idxs][i], pred_scores[i, top_k_idxs][i][-1::-1]))\n",
    "    # break\n"
   ]
  },
  {
   "cell_type": "code",
   "execution_count": null,
   "metadata": {},
   "outputs": [],
   "source": [
    "# now we run the model\n",
    "bubble.run(timesteps=1)\n",
    "measurements = bubble.get_measurements()"
   ]
  },
  {
   "cell_type": "code",
   "execution_count": null,
   "metadata": {},
   "outputs": [],
   "source": [
    "import trecs.matrix_ops as mo\n",
    "from numpy.random import RandomState\n",
    "\n",
    "rs = RandomState(42)\n",
    "\n",
    "k = bubble.num_items_per_iter\n",
    "\n",
    "pred_scores = mo.inner_product(bubble.predicted_user_profiles, bubble.predicted_item_attributes)\n",
    "\n",
    "top_k_idxs = mo.top_k_indices(matrix=pred_scores, k=k, random_state=rs)\n",
    "\n",
    "for i in range(bubble.num_users):\n",
    "    not_equal_idxs = np.where(np.equal(bubble.predicted_user_item_scores[i], pred_scores[i]) == False)\n",
    "    assert(np.array_equal(np.unique(top_k_idxs[i]), np.unique(not_equal_idxs)))\n",
    "    assert(np.array_equal(bubble.predicted_user_item_scores[i, top_k_idxs][i], pred_scores[i, top_k_idxs][i][-1::-1]))\n",
    "    # break"
   ]
  },
  {
   "cell_type": "code",
   "execution_count": null,
   "metadata": {},
   "outputs": [],
   "source": [
    "print(bubble.predicted_user_item_scores[i, top_k_idxs][i])"
   ]
  },
  {
   "cell_type": "code",
   "execution_count": null,
   "metadata": {},
   "outputs": [],
   "source": [
    "pred_scores[i, top_k_idxs][i]"
   ]
  },
  {
   "cell_type": "code",
   "execution_count": null,
   "metadata": {},
   "outputs": [],
   "source": [
    "bubble.predicted_user_item_scores[i, top_k_idxs][i]"
   ]
  },
  {
   "cell_type": "markdown",
   "metadata": {},
   "source": [
    "# Running the simulation"
   ]
  },
  {
   "cell_type": "code",
   "execution_count": null,
   "metadata": {},
   "outputs": [],
   "source": [
    "# def create_embeddings(binary_matrix, n_attrs:int=100, max_iter:int=100):\n",
    "#     \"\"\"\n",
    "#     Creates embeddings for users and items based on their interactions.\n",
    "#     Inputs:\n",
    "#         binary_matrix: a binary matrix of users and movies\n",
    "#         n_attrs: number of attributes to use in NMF\n",
    "#         max_iter: number of iteration for NMF\n",
    "#     Outputs:\n",
    "#         user_representation: a matrix of user embeddings\n",
    "#         item_representation: a matrix of item embeddings\n",
    "#     \"\"\"\n",
    "#     print('Calculating embeddings...')\n",
    "#     nmf = NMF(n_components=n_attrs, init='random', random_state=random_state, max_iter=max_iter)\n",
    "#     user_representation = nmf.fit_transform(binary_matrix)\n",
    "#     item_representation = nmf.components_\n",
    "#     print('Calculated embeddings.')\n",
    "#     return user_representation, item_representation\n",
    "\n",
    "# def get_topic_clusters(cooccurence_matrix, n_clusters:int=100, n_attrs:int=100, max_iter:int=100):\n",
    "#     \"\"\"\n",
    "#     Creates clusters of movies based on their genre.\n",
    "#     Inputs:\n",
    "#         binary_ratings_matrix: a binary matrix of users and movies\n",
    "#         n_attrs: number of attributes to use in NMF\n",
    "#         nmf_solver: solver to use in NMF\n",
    "#     Outputs:\n",
    "#         clusters: a list of cluster assignments\n",
    "#     \"\"\"\n",
    "#     # Create topic clusters\n",
    "#     #create co-occurence matrix from binary_interaction_matrix\n",
    "\n",
    "#     print('Calculating clusters...')\n",
    "#     # Matrix factorize co_occurence_matrix to get embeddings\n",
    "#     nmf_cooc = NMF(n_components=n_attrs, max_iter=max_iter)\n",
    "#     W_topics = nmf_cooc.fit_transform(cooccurence_matrix)\n",
    "\n",
    "#     # cluster W_topics\n",
    "#     cluster_ids = KMeans(n_clusters=n_clusters, max_iter=max_iter, random_state=random_state).fit_predict(W_topics)\n",
    "\n",
    "#     print('Calculated clusters.')\n",
    "\n",
    "#     return cluster_ids\n"
   ]
  },
  {
   "cell_type": "code",
   "execution_count": 4,
   "metadata": {},
   "outputs": [
    {
     "name": "stdout",
     "output_type": "stream",
     "text": [
      "Calculating clusters...\n",
      "(943, 943)\n",
      "Calculated clusters.\n"
     ]
    }
   ],
   "source": [
    "n_attrs=20\n",
    "max_iter=1000\n",
    "n_clusters=20\n",
    "\n",
    "binary_ratings_matrix = load_and_process_movielens(file_path='../data/ml-100k/u.data')\n",
    "\n",
    "# Get user and item representations using NMF\n",
    "# user_representation, item_representation = create_embeddings(binary_ratings_matrix, n_attrs=n_attrs, max_iter=max_iter)\n",
    "\n",
    "# Define topic clusters using NMF\n",
    "item_topics = get_topic_clusters(binary_ratings_matrix, n_attrs=n_attrs)\n",
    "\n",
    "# Create user clusters based off how often they interacted with the same item\n",
    "print('Calculating clusters...')\n",
    "co_occurence_matrix = binary_ratings_matrix @ binary_ratings_matrix.T\n",
    "print(co_occurence_matrix.shape)\n",
    "\n",
    "# Matrix factorize co_occurence_matrix to get embeddings\n",
    "nmf_cooc = NMF(n_components=n_attrs, max_iter=max_iter)\n",
    "W_topics = nmf_cooc.fit_transform(co_occurence_matrix)\n",
    "\n",
    "# cluster W_topics\n",
    "cluster_ids = KMeans(n_clusters=n_clusters, max_iter=max_iter, random_state=random_state).fit_predict(W_topics)\n",
    "\n",
    "print('Calculated clusters.')"
   ]
  },
  {
   "cell_type": "code",
   "execution_count": 5,
   "metadata": {},
   "outputs": [],
   "source": [
    "score_fn = ''\n",
    "probabilistic = False\n",
    "globals.ALPHA = 0.2\n",
    "alpha = globals.ALPHA\n",
    "\n",
    "# User parameters\n",
    "drift = 0.2\n",
    "attention_exp=1.5\n",
    "pair_all=False"
   ]
  },
  {
   "cell_type": "code",
   "execution_count": 6,
   "metadata": {},
   "outputs": [
    {
     "name": "stdout",
     "output_type": "stream",
     "text": [
      "Number of items: 1682\n",
      "Number of users: 943\n",
      "Number of user pairs: 762348\n"
     ]
    }
   ],
   "source": [
    "num_users = user_representation.shape[0]\n",
    "num_items = item_representation.shape[1]\n",
    "print(f'Number of items: {num_items}')\n",
    "print(f'Number of users: {num_users}')\n",
    "\n",
    "if pair_all:\n",
    "    # All possible user pairs\n",
    "    user_pairs = [(u_idx, v_idx) for u_idx in range(len(user_representation)) for v_idx in range(len(user_representation))]\n",
    "\n",
    "else:\n",
    "    # create user_pairs by pairing users only with others that are not in the same cluster\n",
    "    user_pairs = []\n",
    "    for u_idx in range(num_users):\n",
    "        for v_idx in range(num_users):\n",
    "            if cluster_ids[u_idx] != cluster_ids[v_idx]:\n",
    "                user_pairs.append((u_idx, v_idx))\n",
    "print(f'Number of user pairs: {len(user_pairs)}')\n",
    "                \n",
    "users = Users(actual_user_profiles=user_representation, \n",
    "              repeat_interactions=False, \n",
    "              drift=drift,\n",
    "              attention_exp=attention_exp)"
   ]
  },
  {
   "cell_type": "code",
   "execution_count": 7,
   "metadata": {},
   "outputs": [
    {
     "data": {
      "text/plain": [
       "1682"
      ]
     },
     "execution_count": 7,
     "metadata": {},
     "output_type": "execute_result"
    }
   ],
   "source": [
    "item_representation.shape[1]"
   ]
  },
  {
   "cell_type": "code",
   "execution_count": 8,
   "metadata": {},
   "outputs": [],
   "source": [
    "mse = MSEMeasurement()\n",
    "measurements_list = [\n",
    "    InteractionMeasurement(), \n",
    "    mse,  \n",
    "    InteractionSpread(), \n",
    "    InteractionSimilarity(pairs=user_pairs), \n",
    "    RecSimilarity(pairs=user_pairs), \n",
    "    SerendipityMetric(), \n",
    "    DiversityMetric(), \n",
    "    NoveltyMetric(),\n",
    "    RecallMeasurement(),\n",
    "    # MeanNumberOfTopics(),\n",
    "]"
   ]
  },
  {
   "cell_type": "code",
   "execution_count": 9,
   "metadata": {},
   "outputs": [
    {
     "data": {
      "text/plain": [
       "(1682,)"
      ]
     },
     "execution_count": 9,
     "metadata": {},
     "output_type": "execute_result"
    }
   ],
   "source": [
    "item_topics.shape"
   ]
  },
  {
   "cell_type": "code",
   "execution_count": 10,
   "metadata": {},
   "outputs": [],
   "source": [
    "# Model\n",
    "config = {\n",
    "    'actual_user_representation': users,\n",
    "    'actual_item_representation': item_representation,\n",
    "    'item_topics': item_topics,\n",
    "    # 'num_attributes': n_attrs,\n",
    "    'num_items_per_iter': 10,\n",
    "    'seed': 42,\n",
    "    'record_base_state': True,\n",
    "}\n",
    "\n",
    "model_name='myopic'\n",
    "requires_alpha = False\n",
    "\n",
    "config['score_fn'] = top_k_reranking\n",
    "\n",
    "if probabilistic:\n",
    "    config['probabilistic_recommendations'] = True\n",
    "    model_name += '_prob'"
   ]
  },
  {
   "cell_type": "code",
   "execution_count": 11,
   "metadata": {},
   "outputs": [
    {
     "name": "stdout",
     "output_type": "stream",
     "text": [
      "Model representation of users and items are given by:\n",
      "- An all-zeros matrix of users of dimension (943, 1000)\n",
      "- A randomly generated matrix of items of dimension (1000, 1682)\n"
     ]
    }
   ],
   "source": [
    "model = BubbleBurster(**config)\n",
    "\n",
    "model.add_metrics(*measurements_list)\n",
    "\n",
    "print(\"Model representation of users and items are given by:\")\n",
    "print(f\"- An all-zeros matrix of users of dimension {model.predicted_user_profiles.shape}\")\n",
    "print(f\"- A randomly generated matrix of items of dimension {model.predicted_item_attributes.shape}\")"
   ]
  },
  {
   "cell_type": "code",
   "execution_count": 12,
   "metadata": {},
   "outputs": [
    {
     "name": "stderr",
     "output_type": "stream",
     "text": [
      "100%|██████████| 5/5 [00:22<00:00,  4.55s/it]\n"
     ]
    }
   ],
   "source": [
    "train_timesteps=5\n",
    "model.startup_and_train(timesteps=train_timesteps)"
   ]
  },
  {
   "cell_type": "code",
   "execution_count": 13,
   "metadata": {},
   "outputs": [
    {
     "name": "stderr",
     "output_type": "stream",
     "text": [
      "  0%|          | 0/20 [00:00<?, ?it/s]"
     ]
    },
    {
     "name": "stdout",
     "output_type": "stream",
     "text": [
      "(943, 10)\n"
     ]
    },
    {
     "name": "stderr",
     "output_type": "stream",
     "text": [
      "  5%|▌         | 1/20 [01:38<31:05, 98.18s/it]"
     ]
    },
    {
     "name": "stdout",
     "output_type": "stream",
     "text": [
      "(943, 10)\n"
     ]
    },
    {
     "name": "stderr",
     "output_type": "stream",
     "text": [
      " 10%|█         | 2/20 [03:00<26:43, 89.11s/it]"
     ]
    },
    {
     "name": "stdout",
     "output_type": "stream",
     "text": [
      "(943, 10)\n"
     ]
    },
    {
     "name": "stderr",
     "output_type": "stream",
     "text": [
      " 15%|█▌        | 3/20 [04:11<22:48, 80.49s/it]"
     ]
    },
    {
     "name": "stdout",
     "output_type": "stream",
     "text": [
      "(943, 10)\n"
     ]
    },
    {
     "name": "stderr",
     "output_type": "stream",
     "text": [
      " 20%|██        | 4/20 [05:15<19:45, 74.08s/it]"
     ]
    },
    {
     "name": "stdout",
     "output_type": "stream",
     "text": [
      "(943, 10)\n"
     ]
    },
    {
     "name": "stderr",
     "output_type": "stream",
     "text": [
      " 25%|██▌       | 5/20 [06:16<17:20, 69.37s/it]"
     ]
    },
    {
     "name": "stdout",
     "output_type": "stream",
     "text": [
      "(943, 10)\n"
     ]
    },
    {
     "name": "stderr",
     "output_type": "stream",
     "text": [
      " 30%|███       | 6/20 [07:18<15:36, 66.89s/it]"
     ]
    },
    {
     "name": "stdout",
     "output_type": "stream",
     "text": [
      "(943, 10)\n"
     ]
    },
    {
     "name": "stderr",
     "output_type": "stream",
     "text": [
      " 35%|███▌      | 7/20 [08:23<14:19, 66.15s/it]"
     ]
    },
    {
     "name": "stdout",
     "output_type": "stream",
     "text": [
      "(943, 10)\n"
     ]
    },
    {
     "name": "stderr",
     "output_type": "stream",
     "text": [
      " 40%|████      | 8/20 [09:27<13:05, 65.49s/it]"
     ]
    },
    {
     "name": "stdout",
     "output_type": "stream",
     "text": [
      "(943, 10)\n"
     ]
    },
    {
     "name": "stderr",
     "output_type": "stream",
     "text": [
      " 45%|████▌     | 9/20 [10:32<12:00, 65.49s/it]"
     ]
    },
    {
     "name": "stdout",
     "output_type": "stream",
     "text": [
      "(943, 10)\n"
     ]
    },
    {
     "name": "stderr",
     "output_type": "stream",
     "text": [
      " 50%|█████     | 10/20 [11:38<10:56, 65.62s/it]"
     ]
    },
    {
     "name": "stdout",
     "output_type": "stream",
     "text": [
      "(943, 10)\n"
     ]
    },
    {
     "name": "stderr",
     "output_type": "stream",
     "text": [
      " 55%|█████▌    | 11/20 [12:45<09:54, 66.00s/it]"
     ]
    },
    {
     "name": "stdout",
     "output_type": "stream",
     "text": [
      "(943, 10)\n"
     ]
    },
    {
     "name": "stderr",
     "output_type": "stream",
     "text": [
      " 60%|██████    | 12/20 [13:52<08:50, 66.33s/it]"
     ]
    },
    {
     "name": "stdout",
     "output_type": "stream",
     "text": [
      "(943, 10)\n"
     ]
    },
    {
     "name": "stderr",
     "output_type": "stream",
     "text": [
      " 65%|██████▌   | 13/20 [14:58<07:44, 66.30s/it]"
     ]
    },
    {
     "name": "stdout",
     "output_type": "stream",
     "text": [
      "(943, 10)\n"
     ]
    },
    {
     "name": "stderr",
     "output_type": "stream",
     "text": [
      " 70%|███████   | 14/20 [16:05<06:38, 66.38s/it]"
     ]
    },
    {
     "name": "stdout",
     "output_type": "stream",
     "text": [
      "(943, 10)\n"
     ]
    },
    {
     "name": "stderr",
     "output_type": "stream",
     "text": [
      " 75%|███████▌  | 15/20 [17:11<05:31, 66.29s/it]"
     ]
    },
    {
     "name": "stdout",
     "output_type": "stream",
     "text": [
      "(943, 10)\n"
     ]
    },
    {
     "name": "stderr",
     "output_type": "stream",
     "text": [
      " 80%|████████  | 16/20 [18:17<04:24, 66.20s/it]"
     ]
    },
    {
     "name": "stdout",
     "output_type": "stream",
     "text": [
      "(943, 10)\n"
     ]
    },
    {
     "name": "stderr",
     "output_type": "stream",
     "text": [
      " 85%|████████▌ | 17/20 [19:24<03:18, 66.32s/it]"
     ]
    },
    {
     "name": "stdout",
     "output_type": "stream",
     "text": [
      "(943, 10)\n"
     ]
    },
    {
     "name": "stderr",
     "output_type": "stream",
     "text": [
      " 90%|█████████ | 18/20 [20:31<02:13, 66.65s/it]"
     ]
    },
    {
     "name": "stdout",
     "output_type": "stream",
     "text": [
      "(943, 10)\n"
     ]
    },
    {
     "name": "stderr",
     "output_type": "stream",
     "text": [
      " 95%|█████████▌| 19/20 [21:38<01:06, 66.76s/it]"
     ]
    },
    {
     "name": "stdout",
     "output_type": "stream",
     "text": [
      "(943, 10)\n"
     ]
    },
    {
     "name": "stderr",
     "output_type": "stream",
     "text": [
      "100%|██████████| 20/20 [22:45<00:00, 68.26s/it]\n"
     ]
    }
   ],
   "source": [
    "run_timesteps=20\n",
    "model.run(timesteps=run_timesteps)"
   ]
  },
  {
   "cell_type": "code",
   "execution_count": 14,
   "metadata": {},
   "outputs": [
    {
     "data": {
      "text/html": [
       "<div>\n",
       "<style scoped>\n",
       "    .dataframe tbody tr th:only-of-type {\n",
       "        vertical-align: middle;\n",
       "    }\n",
       "\n",
       "    .dataframe tbody tr th {\n",
       "        vertical-align: top;\n",
       "    }\n",
       "\n",
       "    .dataframe thead th {\n",
       "        text-align: right;\n",
       "    }\n",
       "</style>\n",
       "<table border=\"1\" class=\"dataframe\">\n",
       "  <thead>\n",
       "    <tr style=\"text-align: right;\">\n",
       "      <th></th>\n",
       "      <th>interaction_histogram</th>\n",
       "      <th>mse</th>\n",
       "      <th>interaction_spread</th>\n",
       "      <th>interaction_similarity</th>\n",
       "      <th>rec_similarity</th>\n",
       "      <th>serendipity_metric</th>\n",
       "      <th>diversity_metric</th>\n",
       "      <th>novelty_metric</th>\n",
       "      <th>recall_at_k</th>\n",
       "      <th>timesteps</th>\n",
       "    </tr>\n",
       "  </thead>\n",
       "  <tbody>\n",
       "    <tr>\n",
       "      <th>0</th>\n",
       "      <td>None</td>\n",
       "      <td>0.167915</td>\n",
       "      <td>NaN</td>\n",
       "      <td>NaN</td>\n",
       "      <td>NaN</td>\n",
       "      <td>NaN</td>\n",
       "      <td>NaN</td>\n",
       "      <td>NaN</td>\n",
       "      <td>NaN</td>\n",
       "      <td>0</td>\n",
       "    </tr>\n",
       "    <tr>\n",
       "      <th>1</th>\n",
       "      <td>[5.0, 0.0, 0.0, 1.0, 0.0, 0.0, 3.0, 0.0, 3.0, ...</td>\n",
       "      <td>0.210884</td>\n",
       "      <td>-939.5</td>\n",
       "      <td>0.001417</td>\n",
       "      <td>0.003175</td>\n",
       "      <td>0.975928</td>\n",
       "      <td>0.946106</td>\n",
       "      <td>NaN</td>\n",
       "      <td>0.977731</td>\n",
       "      <td>1</td>\n",
       "    </tr>\n",
       "    <tr>\n",
       "      <th>2</th>\n",
       "      <td>[2.0, 2.0, 2.0, 3.0, 0.0, 0.0, 1.0, 2.0, 2.0, ...</td>\n",
       "      <td>0.258063</td>\n",
       "      <td>0.0</td>\n",
       "      <td>0.001794</td>\n",
       "      <td>0.003114</td>\n",
       "      <td>0.974231</td>\n",
       "      <td>0.946400</td>\n",
       "      <td>NaN</td>\n",
       "      <td>0.991516</td>\n",
       "      <td>2</td>\n",
       "    </tr>\n",
       "    <tr>\n",
       "      <th>3</th>\n",
       "      <td>[1.0, 1.0, 2.0, 3.0, 0.0, 0.0, 5.0, 3.0, 2.0, ...</td>\n",
       "      <td>0.307590</td>\n",
       "      <td>-0.5</td>\n",
       "      <td>0.002439</td>\n",
       "      <td>0.003147</td>\n",
       "      <td>0.972322</td>\n",
       "      <td>0.947355</td>\n",
       "      <td>NaN</td>\n",
       "      <td>0.993637</td>\n",
       "      <td>3</td>\n",
       "    </tr>\n",
       "    <tr>\n",
       "      <th>4</th>\n",
       "      <td>[2.0, 1.0, 3.0, 2.0, 1.0, 2.0, 4.0, 4.0, 1.0, ...</td>\n",
       "      <td>0.356161</td>\n",
       "      <td>0.0</td>\n",
       "      <td>0.003172</td>\n",
       "      <td>0.003125</td>\n",
       "      <td>0.972322</td>\n",
       "      <td>0.944798</td>\n",
       "      <td>NaN</td>\n",
       "      <td>0.991516</td>\n",
       "      <td>4</td>\n",
       "    </tr>\n",
       "  </tbody>\n",
       "</table>\n",
       "</div>"
      ],
      "text/plain": [
       "                               interaction_histogram       mse  \\\n",
       "0                                               None  0.167915   \n",
       "1  [5.0, 0.0, 0.0, 1.0, 0.0, 0.0, 3.0, 0.0, 3.0, ...  0.210884   \n",
       "2  [2.0, 2.0, 2.0, 3.0, 0.0, 0.0, 1.0, 2.0, 2.0, ...  0.258063   \n",
       "3  [1.0, 1.0, 2.0, 3.0, 0.0, 0.0, 5.0, 3.0, 2.0, ...  0.307590   \n",
       "4  [2.0, 1.0, 3.0, 2.0, 1.0, 2.0, 4.0, 4.0, 1.0, ...  0.356161   \n",
       "\n",
       "   interaction_spread  interaction_similarity  rec_similarity  \\\n",
       "0                 NaN                     NaN             NaN   \n",
       "1              -939.5                0.001417        0.003175   \n",
       "2                 0.0                0.001794        0.003114   \n",
       "3                -0.5                0.002439        0.003147   \n",
       "4                 0.0                0.003172        0.003125   \n",
       "\n",
       "   serendipity_metric  diversity_metric  novelty_metric  recall_at_k  \\\n",
       "0                 NaN               NaN             NaN          NaN   \n",
       "1            0.975928          0.946106             NaN     0.977731   \n",
       "2            0.974231          0.946400             NaN     0.991516   \n",
       "3            0.972322          0.947355             NaN     0.993637   \n",
       "4            0.972322          0.944798             NaN     0.991516   \n",
       "\n",
       "   timesteps  \n",
       "0          0  \n",
       "1          1  \n",
       "2          2  \n",
       "3          3  \n",
       "4          4  "
      ]
     },
     "execution_count": 14,
     "metadata": {},
     "output_type": "execute_result"
    }
   ],
   "source": [
    "measurements = model.get_measurements()\n",
    "df_measurements = pd.DataFrame(measurements)\n",
    "df_measurements.head(5)"
   ]
  },
  {
   "cell_type": "code",
   "execution_count": 21,
   "metadata": {},
   "outputs": [
    {
     "data": {
      "text/plain": [
       "numpy.int64"
      ]
     },
     "execution_count": 21,
     "metadata": {},
     "output_type": "execute_result"
    }
   ],
   "source": [
    "type(df_measurements['timesteps'].values[0])"
   ]
  },
  {
   "cell_type": "code",
   "execution_count": 27,
   "metadata": {},
   "outputs": [],
   "source": [
    "def plot_measurements(df):\n",
    "    \n",
    "    fig, ax = plt.subplots(3, 3, figsize=(15, 15))\n",
    "    fig.tight_layout(pad=5.0)\n",
    "\n",
    "    # plot rec_similarity with timesteps on x axis\n",
    "    legend_lines, legend_names = [], []\n",
    "    # for i, df in enumerate(dfs):\n",
    "    ts = df['timesteps']\n",
    "    # name = parameters_df.loc[i, 'model_name']\n",
    "    # if not np.isnan(parameters_df.loc[i, 'Lambda']):\n",
    "    #      name += f\" (Lambda: {parameters_df.loc[i, 'Lambda']})\" \n",
    "    # legend_names.append(name)\n",
    "    ax[0,0].plot(ts, df['mse'], label='mse')\n",
    "    ax[0,1].plot(ts, df['rec_similarity'], label='rec_similarity')\n",
    "    ax[0,2].plot(ts, df['interaction_similarity'], label='interaction_similarity')\n",
    "    ax[1,0].plot(ts, df['serendipity_metric'], label='serendipity_metric')\n",
    "    ax[1,1].plot(ts, df['novelty_metric'], label='novelty_metric')\n",
    "    line, = ax[1,2].plot(ts, df['diversity_metric'], label='diversity_metric')\n",
    "    legend_lines.append(line)\n",
    "    \n",
    "    for a in ax:\n",
    "        for b in a:\n",
    "            b.set_xlabel('Timestep')\n",
    "\n",
    "    ax[0, 0].set_title('Mean Squared Error')\n",
    "    ax[0, 0].set_ylabel('MSE')\n",
    "    \n",
    "    ax[0, 1].set_title('Recommendation similarity')\n",
    "    ax[0, 1].set_ylabel('Similarity')\n",
    "    \n",
    "    ax[0, 2].set_title('Interaction Similarity')\n",
    "    ax[0, 2].set_ylabel('Jaccard Similarity')\n",
    "    \n",
    "    ax[1, 0].set_title('Serendipity')\n",
    "    ax[1, 0].set_ylabel('Serendipity')\n",
    "    \n",
    "    ax[1, 1].set_title('Novelty')\n",
    "    ax[1, 1].set_ylabel('Novelty')\n",
    "\n",
    "    ax[1, 2].set_title('Diversity')\n",
    "    ax[1, 2].set_ylabel('Diversity')\n",
    "\n",
    "    ax[2, 0].set_title('Recall')\n",
    "    ax[2, 0].set_ylabel('Recall')\n",
    "\n",
    "    \n",
    "    fig.legend(legend_lines, legend_names, loc='upper center', fontsize=14, frameon=False, ncol=5, bbox_to_anchor=(.5, 1.05))"
   ]
  },
  {
   "cell_type": "code",
   "execution_count": 28,
   "metadata": {},
   "outputs": [
    {
     "data": {
      "image/png": "[encoded data removed]",
      "text/plain": [
       "<Figure size 1500x1500 with 9 Axes>"
      ]
     },
     "metadata": {},
     "output_type": "display_data"
    }
   ],
   "source": [
    "plot_measurements(df_measurements)"
   ]
  },
  {
   "cell_type": "code",
   "execution_count": null,
   "metadata": {},
   "outputs": [],
   "source": []
  }
 ],
 "metadata": {
  "interpreter": {
   "hash": "82ad1e6da8c8551612185ff57ab4e881be31b0c67a550f3cbdb2f98515f5914e"
  },
  "kernelspec": {
   "display_name": "Python 3.8.15 ('fairRS')",
   "language": "python",
   "name": "python3"
  },
  "language_info": {
   "codemirror_mode": {
    "name": "ipython",
    "version": 3
   },
   "file_extension": ".py",
   "mimetype": "text/x-python",
   "name": "python",
   "nbconvert_exporter": "python",
   "pygments_lexer": "ipython3",
   "version": "3.8.15"
  },
  "orig_nbformat": 4
 },
 "nbformat": 4,
 "nbformat_minor": 2
}
