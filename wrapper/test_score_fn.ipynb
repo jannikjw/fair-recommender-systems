{
 "cells": [
  {
   "cell_type": "markdown",
   "metadata": {},
   "source": [
    "# Setup"
   ]
  },
  {
   "cell_type": "code",
   "execution_count": 1,
   "metadata": {},
   "outputs": [],
   "source": [
    "# some_file.py\n",
    "import sys\n",
    "# caution: path[0] is reserved for script path (or '' in REPL)\n",
    "sys.path.insert(1, '../../t-recs/')\n",
    "from trecs.models import ContentFiltering\n",
    "from trecs.metrics import *\n",
    "from trecs.random import Generator\n",
    "from trecs.components import Users\n",
    "\n",
    "import pandas as pd\n",
    "import matplotlib.pyplot as plt\n",
    "import numpy as np\n",
    "import networkx as nx\n",
    "\n",
    "random_state = np.random.seed(42)\n",
    "\n",
    "# import warnings filter\n",
    "from warnings import simplefilter\n",
    "# ignore all future warnings\n",
    "simplefilter(action='ignore', category=FutureWarning)\n",
    "\n",
    "ratings_df = pd.read_csv('../../ml-100k/u.data', \n",
    "    sep=\"\\t\", \n",
    "    names=['UserID', 'MovieID', 'Rating', 'Timestamp']\n",
    ")\n",
    "\n",
    "movie_cols = ['movie_id', 'title', 'release_date', 'video_release_date', 'IMDb_URL', 'unknown', 'Action', 'Adventure', 'Animation', 'Childrens', 'Comedy', 'Crime', 'Documentary', 'Drama', 'Fantasy', 'Film-Noir', 'Horror', 'Musical', 'Mystery', 'Romance', 'Sci-Fi', 'Thriller', 'War', 'Western']\n",
    "\n",
    "movies_df = pd.read_csv('../../ml-100k/u.item', sep=\"|\", names=movie_cols, encoding='latin')\n",
    "\n",
    "# display(movies_df.head(2))\n",
    "# print(movies_df.shape)"
   ]
  },
  {
   "cell_type": "code",
   "execution_count": 2,
   "metadata": {},
   "outputs": [],
   "source": [
    "from sklearn.cluster import KMeans\n",
    "\n",
    "def get_topic_clusters(binary_ratings_matrix, n_attrs:int=100, nmf_solver:str=\"mu\"):\n",
    "    \"\"\"\n",
    "    Creates clusters of movies based on their genre.\n",
    "    Inputs:\n",
    "        binary_ratings_matrix: a binary matrix of users and movies\n",
    "        n_attrs: number of attributes to use in NMF\n",
    "        nmf_solver: solver to use in NMF\n",
    "    Outputs:\n",
    "        clusters: a list of cluster assignments\n",
    "    \"\"\"\n",
    "    # Create topic clusters\n",
    "    #create co-occurence matrix from binary_interaction_matrix\n",
    "    co_occurence_matrix = binary_ratings_matrix.T @ binary_ratings_matrix\n",
    "    co_occurence_matrix\n",
    "\n",
    "    # Matrix factorize co_occurence_matrix to get embeddings\n",
    "    nmf_cooc = NMF(n_components=n_attrs, solver=nmf_solver)\n",
    "    W_topics = nmf_cooc.fit_transform(co_occurence_matrix)\n",
    "\n",
    "    # cluster W_topics\n",
    "    kmeans = KMeans(n_clusters=100, random_state=random_state).fit(W_topics)\n",
    "\n",
    "    # assign nearest cluster to observation\n",
    "    cluster_ids = kmeans.predict(W_topics)\n",
    "\n",
    "    return cluster_ids"
   ]
  },
  {
   "cell_type": "code",
   "execution_count": 3,
   "metadata": {},
   "outputs": [
    {
     "name": "stderr",
     "output_type": "stream",
     "text": [
      "/Users/madisonthantu/miniforge3/envs/fairRS/lib/python3.8/site-packages/lightfm/_lightfm_fast.py:9: UserWarning: LightFM was compiled without OpenMP support. Only a single thread will be used.\n",
      "  warnings.warn(\n",
      "/Users/madisonthantu/miniforge3/envs/fairRS/lib/python3.8/site-packages/sklearn/decomposition/_nmf.py:1692: ConvergenceWarning: Maximum number of iterations 200 reached. Increase it to improve convergence.\n",
      "  warnings.warn(\n"
     ]
    },
    {
     "name": "stdout",
     "output_type": "stream",
     "text": [
      "(943, 100) (100, 1682)\n"
     ]
    }
   ],
   "source": [
    "from sklearn.decomposition import NMF\n",
    "\n",
    "binary_ratings_df = ratings_df.drop(columns=['Timestamp'])\n",
    "binary_ratings_df.loc[binary_ratings_df['Rating'] > 0, 'Rating'] = 1\n",
    "\n",
    "# turn dataframe into matrix where each movie is a column and each user is a row\n",
    "binary_ratings_matrix = binary_ratings_df.pivot(index='UserID', columns='MovieID', values='Rating').fillna(0).to_numpy()\n",
    "\n",
    "from lightfm.cross_validation import random_train_test_split\n",
    "from scipy import sparse\n",
    "\n",
    "# split data into train and test sets\n",
    "train_interactions, test_interactions = random_train_test_split(sparse.csr_matrix(binary_ratings_matrix), test_percentage=0.2, random_state=random_state)\n",
    "train_interactions = train_interactions.toarray()\n",
    "test_interactions = test_interactions.toarray()\n",
    "\n",
    "n_attrs=100\n",
    "nmf = NMF(n_components=n_attrs, solver=\"mu\")\n",
    "user_representation = nmf.fit_transform(binary_ratings_matrix)\n",
    "item_representation = nmf.components_\n",
    "print(user_representation.shape, item_representation.shape)\n",
    "\n",
    "num_topics = None\n",
    "item_topics = get_topic_clusters(binary_ratings_matrix, n_attrs=n_attrs, nmf_solver=\"mu\")\n",
    "user_topic_history = None\n",
    "item_count = None\n",
    "\n",
    "users = Users(size=(943,100), repeat_interactions=False)"
   ]
  },
  {
   "cell_type": "markdown",
   "metadata": {},
   "source": [
    "# Using `next_k_myopic_scoring` as score_fn function"
   ]
  },
  {
   "cell_type": "code",
   "execution_count": 4,
   "metadata": {},
   "outputs": [],
   "source": [
    "sys.path.insert(1, '../')\n",
    "\n",
    "from wrapper.models.bubble import BubbleBurster\n",
    "from src.scoring_functions import next_k_myopic_scoring"
   ]
  },
  {
   "cell_type": "code",
   "execution_count": 5,
   "metadata": {},
   "outputs": [],
   "source": [
    "bubble = BubbleBurster(\n",
    "    # num_users=number_of_users,\n",
    "    # num_items=num_items,\n",
    "    # num_attributes=number_of_attributes,\n",
    "    item_topics=item_topics,\n",
    "    user_representation=user_representation,\n",
    "    item_representation=item_representation,\n",
    "    actual_user_representation=users,\n",
    "    record_base_state=True,\n",
    "    score_fn=next_k_myopic_scoring\n",
    ")"
   ]
  },
  {
   "cell_type": "code",
   "execution_count": 6,
   "metadata": {},
   "outputs": [
    {
     "name": "stdout",
     "output_type": "stream",
     "text": [
      "These are the current metrics:\n",
      "[<trecs.metrics.measurement.MSEMeasurement object at 0x1379373a0>, <wrapper.metrics.evaluation_metrics.UserMSEMeasurement object at 0x15128d670>]\n"
     ]
    }
   ],
   "source": [
    "from wrapper.metrics import UserMSEMeasurement\n",
    "\n",
    "bubble.add_metrics(MSEMeasurement(), UserMSEMeasurement())\n",
    "print(\"These are the current metrics:\")\n",
    "print(bubble.metrics)"
   ]
  },
  {
   "cell_type": "code",
   "execution_count": 7,
   "metadata": {},
   "outputs": [],
   "source": [
    "import trecs.matrix_ops as mo\n",
    "from numpy.random import RandomState\n",
    "\n",
    "rs = RandomState(42)"
   ]
  },
  {
   "cell_type": "code",
   "execution_count": 8,
   "metadata": {},
   "outputs": [],
   "source": [
    "pred_scores = mo.inner_product(bubble.predicted_user_profiles, bubble.predicted_item_attributes)\n",
    "\n",
    "k = 10\n",
    "top_k_idxs = mo.top_k_indices(matrix=pred_scores, k=k, random_state=rs)\n",
    "re_ranked_scores = pred_scores\n",
    "np.put_along_axis(arr=re_ranked_scores, indices=top_k_idxs, values=0, axis=1)\n",
    "# print(top_k_idxs.shape)\n",
    "# print(top_k_idxs)\n",
    "x = np.where(re_ranked_scores==0)\n",
    "# print(x.shape)\n",
    "zero_elem = x[1].reshape((bubble.num_users, bubble.num_items_per_iter))#[0,:]\n",
    "# x"
   ]
  },
  {
   "cell_type": "code",
   "execution_count": 9,
   "metadata": {},
   "outputs": [
    {
     "name": "stdout",
     "output_type": "stream",
     "text": [
      "0\n"
     ]
    }
   ],
   "source": [
    "# np.array_equiv(top_k_idxs, zero_elem)\n",
    "count = 0\n",
    "for i in range(top_k_idxs.shape[0]):\n",
    "    top_k = set(top_k_idxs[i,:])\n",
    "    zero_e = set(zero_elem[i,:])\n",
    "    if not top_k == zero_e:\n",
    "        print(i)\n",
    "        print(top_k-zero_e)\n",
    "        count += 1\n",
    "print(count)"
   ]
  },
  {
   "cell_type": "code",
   "execution_count": 10,
   "metadata": {},
   "outputs": [
    {
     "data": {
      "text/plain": [
       "array([[4.10224447e-01, 4.01335839e-01, 3.37221744e-01, ...,\n",
       "        2.15729699e-05, 3.15573376e-05, 2.97179692e-04],\n",
       "       [1.70370450e+00, 9.52845031e-02, 3.71216258e-01, ...,\n",
       "        1.06496320e-02, 2.44146229e-09, 4.42048040e-04],\n",
       "       [4.55731007e-01, 6.27871819e-03, 1.19531389e-02, ...,\n",
       "        6.53266824e-02, 2.74191702e-05, 8.97444964e-04],\n",
       "       ...,\n",
       "       [0.00000000e+00, 9.10585615e-02, 9.18170361e-02, ...,\n",
       "        1.93075765e-23, 4.76003124e-19, 6.32614176e-12],\n",
       "       [5.46091837e-01, 8.98424146e-02, 4.53552350e-03, ...,\n",
       "        1.21473295e-02, 2.67239974e-16, 3.60955815e-19],\n",
       "       [8.35350317e-01, 1.30434578e+00, 5.90299106e-01, ...,\n",
       "        2.54408344e-14, 8.21993885e-02, 6.32758435e-02]])"
      ]
     },
     "execution_count": 10,
     "metadata": {},
     "output_type": "execute_result"
    }
   ],
   "source": [
    "re_ranked_scores"
   ]
  },
  {
   "cell_type": "code",
   "execution_count": 11,
   "metadata": {},
   "outputs": [
    {
     "name": "stderr",
     "output_type": "stream",
     "text": [
      "100%|██████████| 1/1 [00:03<00:00,  3.92s/it]\n"
     ]
    }
   ],
   "source": [
    "bubble.run(timesteps=1)\n",
    "measurements = bubble.get_measurements()"
   ]
  },
  {
   "cell_type": "code",
   "execution_count": 12,
   "metadata": {},
   "outputs": [
    {
     "data": {
      "text/plain": [
       "array([[1.43675451e-001, 1.54836704e-001, 1.16594108e-001, ...,\n",
       "        0.00000000e+000, 7.62976632e-046, 2.58129567e-311],\n",
       "       [7.07251039e-002, 4.66969401e-002, 7.05649075e-002, ...,\n",
       "        1.22373629e-002, 5.45910454e-005, 1.56904062e-030],\n",
       "       [3.72396417e-001, 3.79174922e-002, 4.49083767e-002, ...,\n",
       "        2.27327067e-002, 1.20231179e-072, 1.35664286e-004],\n",
       "       ...,\n",
       "       [5.10899486e-001, 4.49580960e-002, 1.09342294e-004, ...,\n",
       "        0.00000000e+000, 1.02981676e-002, 4.54274083e-003],\n",
       "       [4.90115762e-002, 2.39067417e-002, 1.67523881e-009, ...,\n",
       "        2.34742052e-002, 7.17532715e-004, 2.90717983e-054],\n",
       "       [1.32512079e+000, 6.14827250e-001, 1.70867463e-014, ...,\n",
       "        0.00000000e+000, 1.08420185e-004, 7.73468349e-019]])"
      ]
     },
     "execution_count": 12,
     "metadata": {},
     "output_type": "execute_result"
    }
   ],
   "source": [
    "model_pred_scores = bubble.predicted_scores.value\n",
    "model_pred_scores"
   ]
  },
  {
   "cell_type": "code",
   "execution_count": 15,
   "metadata": {},
   "outputs": [
    {
     "name": "stdout",
     "output_type": "stream",
     "text": [
      "[[1.43675451e-001 1.54836704e-001 1.16594108e-001 ... 0.00000000e+000\n",
      "  7.62976632e-046 2.58129567e-311]\n",
      " [7.07251039e-002 4.66969401e-002 7.05649075e-002 ... 1.22373629e-002\n",
      "  5.45910454e-005 1.56904062e-030]\n",
      " [3.72396417e-001 3.79174922e-002 4.49083767e-002 ... 2.27327067e-002\n",
      "  1.20231179e-072 1.35664286e-004]\n",
      " ...\n",
      " [5.10899486e-001 4.49580960e-002 1.09342294e-004 ... 0.00000000e+000\n",
      "  1.02981676e-002 4.54274083e-003]\n",
      " [4.90115762e-002 2.39067417e-002 1.67523881e-009 ... 2.34742052e-002\n",
      "  7.17532715e-004 2.90717983e-054]\n",
      " [1.32512079e+000 6.14827250e-001 1.70867463e-014 ... 0.00000000e+000\n",
      "  1.08420185e-004 7.73468349e-019]]\n"
     ]
    }
   ],
   "source": [
    "pred_scores = mo.inner_product(bubble.predicted_user_profiles, bubble.predicted_item_attributes)\n",
    "\n",
    "k = 10\n",
    "top_k_idxs = mo.top_k_indices(matrix=pred_scores, k=k, random_state=rs)\n",
    "re_ranked_scores = pred_scores\n",
    "np.put_along_axis(arr=re_ranked_scores, indices=top_k_idxs, values=0, axis=1)\n",
    "\n",
    "# x = np.where(re_ranked_scores==0)\n",
    "\n",
    "# zero_elem = x[1].reshape((bubble.num_users, bubble.num_items_per_iter))#[0,:]\n",
    "\n",
    "# count = 0\n",
    "# for i in range(top_k_idxs.shape[0]):\n",
    "#     top_k = set(top_k_idxs[i,:])\n",
    "#     zero_e = set(zero_elem[i,:])\n",
    "#     if not top_k == zero_e:\n",
    "#         # print(i)\n",
    "#         # print(top_k-zero_e)\n",
    "#         count += 1\n",
    "# print(count)\n",
    "print(re_ranked_scores)"
   ]
  },
  {
   "cell_type": "code",
   "execution_count": 16,
   "metadata": {},
   "outputs": [
    {
     "data": {
      "text/plain": [
       "True"
      ]
     },
     "execution_count": 16,
     "metadata": {},
     "output_type": "execute_result"
    }
   ],
   "source": [
    "np.array_equal(model_pred_scores, re_ranked_scores)"
   ]
  },
  {
   "cell_type": "code",
   "execution_count": null,
   "metadata": {},
   "outputs": [],
   "source": []
  }
 ],
 "metadata": {
  "interpreter": {
   "hash": "82ad1e6da8c8551612185ff57ab4e881be31b0c67a550f3cbdb2f98515f5914e"
  },
  "kernelspec": {
   "display_name": "Python 3.8.15 ('fairRS')",
   "language": "python",
   "name": "python3"
  },
  "language_info": {
   "codemirror_mode": {
    "name": "ipython",
    "version": 3
   },
   "file_extension": ".py",
   "mimetype": "text/x-python",
   "name": "python",
   "nbconvert_exporter": "python",
   "pygments_lexer": "ipython3",
   "version": "3.8.15"
  },
  "orig_nbformat": 4
 },
 "nbformat": 4,
 "nbformat_minor": 2
}
